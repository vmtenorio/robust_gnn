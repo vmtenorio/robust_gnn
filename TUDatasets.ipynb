{
 "cells": [
  {
   "cell_type": "code",
   "execution_count": 1,
   "metadata": {},
   "outputs": [],
   "source": [
    "from dgl.data import TUDataset\n",
    "\n",
    "from data import pert_S\n",
    "\n",
    "from opt import graph_id, graph_id_rew\n",
    "from arch import arch\n",
    "from arch import model\n",
    "\n",
    "import torch\n",
    "import numpy as np\n",
    "\n",
    "import matplotlib.pyplot as plt"
   ]
  },
  {
   "cell_type": "code",
   "execution_count": 2,
   "metadata": {},
   "outputs": [],
   "source": [
    "device = torch.device(\"cuda\" if torch.cuda.is_available() else \"cpu\")"
   ]
  },
  {
   "cell_type": "code",
   "execution_count": 3,
   "metadata": {},
   "outputs": [],
   "source": [
    "def create_mask(N, N_train):\n",
    "    idxs = np.random.permutation(N)\n",
    "\n",
    "    train_mask = idxs[:N_train]\n",
    "    test_mask = idxs[N_train:]\n",
    "\n",
    "    return train_mask, test_mask"
   ]
  },
  {
   "attachments": {},
   "cell_type": "markdown",
   "metadata": {},
   "source": [
    "# Data"
   ]
  },
  {
   "cell_type": "code",
   "execution_count": 4,
   "metadata": {},
   "outputs": [],
   "source": [
    "dataset_name_tu = 'MUTAG'\n",
    "# 'ENZYMES', 'PROTEINS', 'FIRSTMM_DB', 'BZR' (feat 1 better), 'PROTEINS_full' (feat 18), 'AIDS', 'COX2', 'DHFR'\n",
    "data = TUDataset(dataset_name_tu)"
   ]
  },
  {
   "cell_type": "code",
   "execution_count": 5,
   "metadata": {},
   "outputs": [],
   "source": [
    "graph_labels = torch.Tensor([x[1].item() for x in data])\n",
    "adjs = [x[0].adj().to_dense().to(device) for x in data]\n",
    "node_attrs = [x[0].ndata.get('node_attr', torch.ones(x[0].num_nodes(), 1)).type(torch.float32).to(device) for x in data]\n",
    "node_labels = [x[0].ndata['node_labels'].squeeze().to(device) for x in data]\n",
    "n_feat = node_attrs[0].shape[1]\n",
    "n_graphs = len(data)\n",
    "n_classes = data.num_labels\n",
    "\n",
    "out_dim = node_labels[0].max()+1"
   ]
  },
  {
   "cell_type": "code",
   "execution_count": 6,
   "metadata": {},
   "outputs": [
    {
     "data": {
      "text/plain": [
       "188"
      ]
     },
     "execution_count": 6,
     "metadata": {},
     "output_type": "execute_result"
    }
   ],
   "source": [
    "n_graphs"
   ]
  },
  {
   "cell_type": "code",
   "execution_count": 7,
   "metadata": {},
   "outputs": [
    {
     "data": {
      "text/plain": [
       "7"
      ]
     },
     "execution_count": 7,
     "metadata": {},
     "output_type": "execute_result"
    }
   ],
   "source": [
    "max([(node_labels[i].max()+1).item() for i in range(n_graphs)])"
   ]
  },
  {
   "attachments": {},
   "cell_type": "markdown",
   "metadata": {},
   "source": [
    "# Parameters"
   ]
  },
  {
   "cell_type": "code",
   "execution_count": 8,
   "metadata": {},
   "outputs": [],
   "source": [
    "lr = 5e-3\n",
    "wd = 0\n",
    "n_epochs = 20\n",
    "n_layers = 2\n",
    "hid_dim = 16\n",
    "eval_freq = 100\n",
    "K = 4\n",
    "\n",
    "tts = 0.7\n",
    "eps = 0.15\n",
    "\n",
    "n_iters = 20"
   ]
  },
  {
   "cell_type": "code",
   "execution_count": 9,
   "metadata": {},
   "outputs": [],
   "source": [
    "lambd, gamma, delta, inc_gamma = [5e-4, 1e-4, 10., 1.]\n",
    "gamma = 1e-3"
   ]
  },
  {
   "cell_type": "code",
   "execution_count": 10,
   "metadata": {},
   "outputs": [],
   "source": [
    "in_dim = n_feat"
   ]
  },
  {
   "attachments": {},
   "cell_type": "markdown",
   "metadata": {},
   "source": [
    "# Random Mask"
   ]
  },
  {
   "cell_type": "code",
   "execution_count": 11,
   "metadata": {},
   "outputs": [],
   "source": [
    "VERB = False\n",
    "#n_graphs = 50"
   ]
  },
  {
   "cell_type": "code",
   "execution_count": 12,
   "metadata": {},
   "outputs": [
    {
     "name": "stdout",
     "output_type": "stream",
     "text": [
      "Starting (Total 188) 1 11 21 31 41 51 61 71 81 91 101 111 121 131 141 151 161 171 181 DONE\n"
     ]
    }
   ],
   "source": [
    "# Random mask\n",
    "\n",
    "accs_train_unpert = np.zeros(n_graphs)\n",
    "accs_test_unpert = np.zeros(n_graphs)\n",
    "\n",
    "accs_train_ignore = np.zeros(n_graphs)\n",
    "accs_test_ignore = np.zeros(n_graphs)\n",
    "\n",
    "accs_train_robust = np.zeros(n_graphs)\n",
    "accs_test_robust = np.zeros(n_graphs)\n",
    "errs_S = np.zeros(n_graphs)\n",
    "\n",
    "print(f\"Starting (Total {n_graphs}) \", end=\"\")\n",
    "for i in range(n_graphs):\n",
    "    if i % 10 == 0:\n",
    "        print(f\"{i+1} \", end=\"\", flush=True)\n",
    "    out_dim = node_labels[i].max()+1\n",
    "    S_np = adjs[i].cpu().numpy()\n",
    "\n",
    "    N = adjs[i].shape[0]\n",
    "    N_train = int(tts*N)\n",
    "\n",
    "    train_mask, test_mask = create_mask(N, N_train)\n",
    "\n",
    "    # GNN Unpert\n",
    "    gcn_unpert = arch.GCNCoefs(adjs[i], in_dim, hid_dim, out_dim, n_layers, K).to(device)\n",
    "    model_gnn_unpert = model.Model(gcn_unpert, n_epochs*n_iters, lr, wd, eval_freq)\n",
    "\n",
    "    acc_train, acc_val, acc_test, losses = \\\n",
    "        model_gnn_unpert.test_clas(adjs[i], node_attrs[i], node_labels[i], gamma, train_mask, [], test_mask, verbose=VERB)\n",
    "\n",
    "    accs_train_unpert[i] = acc_train.max()\n",
    "    accs_test_unpert[i] = acc_test.max()\n",
    "\n",
    "    Sn = torch.Tensor(pert_S(S_np, type=\"prob\", eps=eps)).to(device)\n",
    "\n",
    "    # GNN Ignore\n",
    "    gcn_ignore = arch.GCNCoefs(Sn, in_dim, hid_dim, out_dim, n_layers, K).to(device)\n",
    "    model_gnn_ignore = model.Model(gcn_ignore, n_epochs*n_iters, lr, wd, eval_freq)\n",
    "\n",
    "    acc_train, acc_val, acc_test, losses = \\\n",
    "        model_gnn_ignore.test_clas(Sn, node_attrs[i], node_labels[i], gamma, train_mask, [], test_mask, verbose=VERB)\n",
    "\n",
    "    accs_train_ignore[i] = acc_train.max()\n",
    "    accs_test_ignore[i] = acc_test.max()\n",
    "\n",
    "    # GNN Robust\n",
    "    gcn_robust = arch.GCNCoefs(torch.zeros((10,10)).to(device), in_dim, hid_dim, out_dim, n_layers, K).to(device)\n",
    "    model_gnn_robust = model.Model(gcn_robust, 2*n_epochs, lr, wd, eval_freq)\n",
    "\n",
    "    acc_train, acc_test, S_rec = \\\n",
    "        model_gnn_robust.test_iterative(Sn.cpu().numpy(), node_attrs[i], node_labels[i], lambd, gamma, n_iters, train_mask, [], test_mask)\n",
    "\n",
    "    accs_train_robust[i] = acc_train.max()\n",
    "    accs_test_robust[i] = acc_test.max()\n",
    "    norm_S = np.sqrt((S_np**2).sum())\n",
    "    errs_S[i] = ((S_np - S_rec)**2).sum() / norm_S\n",
    "print(\"DONE\")"
   ]
  },
  {
   "cell_type": "code",
   "execution_count": 13,
   "metadata": {},
   "outputs": [
    {
     "data": {
      "text/plain": [
       "([<matplotlib.axis.XTick at 0x7fc2f0473400>,\n",
       "  <matplotlib.axis.XTick at 0x7fc2f0473460>,\n",
       "  <matplotlib.axis.XTick at 0x7fc2f01dcac0>,\n",
       "  <matplotlib.axis.XTick at 0x7fc2f0151310>,\n",
       "  <matplotlib.axis.XTick at 0x7fc2f0151dc0>,\n",
       "  <matplotlib.axis.XTick at 0x7fc2f015d8b0>],\n",
       " [Text(1, 0, 'Train-Ignore'),\n",
       "  Text(2, 0, 'Train-Unpert'),\n",
       "  Text(3, 0, 'Train-Robust'),\n",
       "  Text(4, 0, 'Test-Ignore'),\n",
       "  Text(5, 0, 'Test-Unpert'),\n",
       "  Text(6, 0, 'Test-Robust')])"
      ]
     },
     "execution_count": 13,
     "metadata": {},
     "output_type": "execute_result"
    },
    {
     "data": {
      "image/png": "[encoded data removed]",
      "text/plain": [
       "<Figure size 640x480 with 1 Axes>"
      ]
     },
     "metadata": {},
     "output_type": "display_data"
    }
   ],
   "source": [
    "plt.boxplot([accs_train_ignore, accs_train_unpert, accs_train_robust, accs_test_ignore, accs_test_unpert, accs_test_robust])\n",
    "plt.xticks(np.arange(1,7), [\"Train-Ignore\", \"Train-Unpert\", \"Train-Robust\", \"Test-Ignore\", \"Test-Unpert\", \"Test-Robust\"])"
   ]
  },
  {
   "cell_type": "code",
   "execution_count": 14,
   "metadata": {},
   "outputs": [
    {
     "data": {
      "text/plain": [
       "(0.7768070119175505,\n",
       " 0.9207899998477165,\n",
       " 0.7364192988644255,\n",
       " 0.8501182138285739)"
      ]
     },
     "execution_count": 14,
     "metadata": {},
     "output_type": "execute_result"
    }
   ],
   "source": [
    "np.mean(accs_train_ignore), np.mean(accs_train_unpert), np.mean(accs_test_ignore), np.mean(accs_test_unpert)"
   ]
  },
  {
   "cell_type": "code",
   "execution_count": 15,
   "metadata": {},
   "outputs": [
    {
     "data": {
      "text/plain": [
       "(7.361113825191507, 7.202930805582121)"
      ]
     },
     "execution_count": 15,
     "metadata": {},
     "output_type": "execute_result"
    }
   ],
   "source": [
    "errs_S.mean(), np.median(errs_S)"
   ]
  },
  {
   "attachments": {},
   "cell_type": "markdown",
   "metadata": {},
   "source": [
    "# Different training and test graphs"
   ]
  },
  {
   "cell_type": "code",
   "execution_count": 16,
   "metadata": {},
   "outputs": [
    {
     "name": "stdout",
     "output_type": "stream",
     "text": [
      "Epoch 1/400 - Loss: 131.4319610595703 - Train Acc: 0.05882352963089943 - Test Acc: nan\n",
      "Epoch 100/400 - Loss: 0.25940123200416565 - Train Acc: 0.9411764740943909 - Test Acc: nan\n",
      "Epoch 200/400 - Loss: 0.22899049520492554 - Train Acc: 1.0 - Test Acc: nan\n",
      "Epoch 300/400 - Loss: 0.22174853086471558 - Train Acc: 0.8823529481887817 - Test Acc: nan\n",
      "Epoch 400/400 - Loss: 0.21691840887069702 - Train Acc: 0.8823529481887817 - Test Acc: nan\n",
      "Epoch 1/400 - Loss: 872.9156494140625 - Train Acc: 0.0 - Test Acc: nan\n",
      "Epoch 100/400 - Loss: 0.7538403868675232 - Train Acc: 0.8235294222831726 - Test Acc: nan\n",
      "Epoch 200/400 - Loss: 0.6938696503639221 - Train Acc: 0.8235294222831726 - Test Acc: nan\n",
      "Epoch 300/400 - Loss: 0.6938693523406982 - Train Acc: 0.8235294222831726 - Test Acc: nan\n",
      "Epoch 400/400 - Loss: 0.6938695311546326 - Train Acc: 0.8235294222831726 - Test Acc: nan\n"
     ]
    },
    {
     "ename": "TypeError",
     "evalue": "can't convert cuda:0 device type tensor to numpy. Use Tensor.cpu() to copy the tensor to host memory first.",
     "output_type": "error",
     "traceback": [
      "\u001b[0;31m---------------------------------------------------------------------------\u001b[0m",
      "\u001b[0;31mTypeError\u001b[0m                                 Traceback (most recent call last)",
      "Cell \u001b[0;32mIn [16], line 56\u001b[0m\n\u001b[1;32m     51\u001b[0m     accs_train_ignore[i] \u001b[39m=\u001b[39m acc_train\u001b[39m.\u001b[39mmax()\n\u001b[1;32m     53\u001b[0m     model_gnn_robust\u001b[39m.\u001b[39mmodel\u001b[39m.\u001b[39mupdate_Spow(Sn)\n\u001b[1;32m     55\u001b[0m     acc_train, acc_test \u001b[39m=\u001b[39m \\\n\u001b[0;32m---> 56\u001b[0m         model_gnn_robust\u001b[39m.\u001b[39;49mtest_iterative(Sn, node_attrs[i], node_labels[i], lambd, gamma, n_iters, train_mask, [], test_mask)\n\u001b[1;32m     58\u001b[0m     accs_train_ignore[i] \u001b[39m=\u001b[39m acc_train\u001b[39m.\u001b[39mmax()\n\u001b[1;32m     60\u001b[0m \u001b[39mfor\u001b[39;00m i \u001b[39min\u001b[39;00m \u001b[39mrange\u001b[39m(n_graphs, \u001b[39m2\u001b[39m\u001b[39m*\u001b[39mn_graphs):\n",
      "File \u001b[0;32m~/Codigo/robust_gnn/arch/model.py:110\u001b[0m, in \u001b[0;36mModel.test_iterative\u001b[0;34m(self, Sn, x, labels, lambd, gamma, n_iters, train_idx, val_idx, test_idx)\u001b[0m\n\u001b[1;32m    106\u001b[0m     H_id \u001b[39m=\u001b[39m torch\u001b[39m.\u001b[39msum(h_id[:,\u001b[39mNone\u001b[39;00m,\u001b[39mNone\u001b[39;00m]\u001b[39m*\u001b[39m\u001b[39mself\u001b[39m\u001b[39m.\u001b[39mmodel\u001b[39m.\u001b[39mSpow, \u001b[39m0\u001b[39m)\u001b[39m.\u001b[39mcpu()\u001b[39m.\u001b[39mnumpy()\n\u001b[1;32m    108\u001b[0m     \u001b[39m#print(\"Graph identification\")\u001b[39;00m\n\u001b[1;32m    109\u001b[0m     \u001b[39m# Graph estimation\u001b[39;00m\n\u001b[0;32m--> 110\u001b[0m     S_id \u001b[39m=\u001b[39m graph_id(Sn, H_id, np\u001b[39m.\u001b[39;49mzeros(Sn\u001b[39m.\u001b[39;49mshape), lambd, gamma, \u001b[39m0.\u001b[39;49m)\n\u001b[1;32m    112\u001b[0m \u001b[39mreturn\u001b[39;00m accs_train, accs_test, S_id\n",
      "File \u001b[0;32m~/Codigo/robust_gnn/opt.py:50\u001b[0m, in \u001b[0;36mgraph_id\u001b[0;34m(Sn, H, Cy, lambd, gamma, delta, verb)\u001b[0m\n\u001b[1;32m     46\u001b[0m \u001b[39m\"\"\"\u001b[39;00m\n\u001b[1;32m     47\u001b[0m \u001b[39mPerforms the filter identification step of the robust filter identification algorithm\u001b[39;00m\n\u001b[1;32m     48\u001b[0m \u001b[39m\"\"\"\u001b[39;00m\n\u001b[1;32m     49\u001b[0m S \u001b[39m=\u001b[39m cp\u001b[39m.\u001b[39mVariable(H\u001b[39m.\u001b[39mshape, symmetric\u001b[39m=\u001b[39m\u001b[39mTrue\u001b[39;00m)\n\u001b[0;32m---> 50\u001b[0m s_loss \u001b[39m=\u001b[39m cp\u001b[39m.\u001b[39msum(cp\u001b[39m.\u001b[39mabs(S \u001b[39m-\u001b[39;49m Sn))\n\u001b[1;32m     51\u001b[0m commut_loss \u001b[39m=\u001b[39m cp\u001b[39m.\u001b[39msum_squares(H\u001b[39m@S\u001b[39m \u001b[39m-\u001b[39m S\u001b[39m@H\u001b[39m)\n\u001b[1;32m     52\u001b[0m commut_cy_loss \u001b[39m=\u001b[39m cp\u001b[39m.\u001b[39msum_squares(S\u001b[39m@Cy\u001b[39m \u001b[39m-\u001b[39m Cy\u001b[39m@S\u001b[39m)\n",
      "File \u001b[0;32m/usr/local/lib/python3.8/dist-packages/cvxpy/expressions/expression.py:48\u001b[0m, in \u001b[0;36m_cast_other.<locals>.cast_op\u001b[0;34m(self, other)\u001b[0m\n\u001b[1;32m     44\u001b[0m \u001b[39m@wraps\u001b[39m(binary_op)\n\u001b[1;32m     45\u001b[0m \u001b[39mdef\u001b[39;00m \u001b[39mcast_op\u001b[39m(\u001b[39mself\u001b[39m, other):\n\u001b[1;32m     46\u001b[0m     \u001b[39m\"\"\"A wrapped binary operator that can handle non-Expression arguments.\u001b[39;00m\n\u001b[1;32m     47\u001b[0m \u001b[39m    \"\"\"\u001b[39;00m\n\u001b[0;32m---> 48\u001b[0m     other \u001b[39m=\u001b[39m \u001b[39mself\u001b[39;49m\u001b[39m.\u001b[39;49mcast_to_const(other)\n\u001b[1;32m     49\u001b[0m     \u001b[39mreturn\u001b[39;00m binary_op(\u001b[39mself\u001b[39m, other)\n",
      "File \u001b[0;32m/usr/local/lib/python3.8/dist-packages/cvxpy/expressions/expression.py:507\u001b[0m, in \u001b[0;36mExpression.cast_to_const\u001b[0;34m(expr)\u001b[0m\n\u001b[1;32m    502\u001b[0m         \u001b[39mif\u001b[39;00m \u001b[39misinstance\u001b[39m(elem, Expression):\n\u001b[1;32m    503\u001b[0m             \u001b[39mraise\u001b[39;00m \u001b[39mValueError\u001b[39;00m(\n\u001b[1;32m    504\u001b[0m                 \u001b[39m\"\u001b[39m\u001b[39mThe input must be a single CVXPY Expression, not a list. \u001b[39m\u001b[39m\"\u001b[39m\n\u001b[1;32m    505\u001b[0m                 \u001b[39m\"\u001b[39m\u001b[39mCombine Expressions using atoms such as bmat, hstack, and vstack.\u001b[39m\u001b[39m\"\u001b[39m\n\u001b[1;32m    506\u001b[0m             )\n\u001b[0;32m--> 507\u001b[0m \u001b[39mreturn\u001b[39;00m expr \u001b[39mif\u001b[39;00m \u001b[39misinstance\u001b[39m(expr, Expression) \u001b[39melse\u001b[39;00m cvxtypes\u001b[39m.\u001b[39;49mconstant()(expr)\n",
      "File \u001b[0;32m/usr/local/lib/python3.8/dist-packages/cvxpy/expressions/constants/constant.py:48\u001b[0m, in \u001b[0;36mConstant.__init__\u001b[0;34m(self, value)\u001b[0m\n\u001b[1;32m     46\u001b[0m     \u001b[39mself\u001b[39m\u001b[39m.\u001b[39m_sparse \u001b[39m=\u001b[39m \u001b[39mTrue\u001b[39;00m\n\u001b[1;32m     47\u001b[0m \u001b[39melse\u001b[39;00m:\n\u001b[0;32m---> 48\u001b[0m     \u001b[39mself\u001b[39m\u001b[39m.\u001b[39m_value \u001b[39m=\u001b[39m intf\u001b[39m.\u001b[39;49mDEFAULT_INTF\u001b[39m.\u001b[39;49mconst_to_matrix(value)\n\u001b[1;32m     49\u001b[0m     \u001b[39mself\u001b[39m\u001b[39m.\u001b[39m_sparse \u001b[39m=\u001b[39m \u001b[39mFalse\u001b[39;00m\n\u001b[1;32m     50\u001b[0m \u001b[39mself\u001b[39m\u001b[39m.\u001b[39m_imag: Optional[\u001b[39mbool\u001b[39m] \u001b[39m=\u001b[39m \u001b[39mNone\u001b[39;00m\n",
      "File \u001b[0;32m/usr/local/lib/python3.8/dist-packages/cvxpy/interface/numpy_interface/ndarray_interface.py:49\u001b[0m, in \u001b[0;36mNDArrayInterface.const_to_matrix\u001b[0;34m(self, value, convert_scalars)\u001b[0m\n\u001b[1;32m     47\u001b[0m     result \u001b[39m=\u001b[39m numpy\u001b[39m.\u001b[39masarray(value)\u001b[39m.\u001b[39mT\n\u001b[1;32m     48\u001b[0m \u001b[39melse\u001b[39;00m:\n\u001b[0;32m---> 49\u001b[0m     result \u001b[39m=\u001b[39m numpy\u001b[39m.\u001b[39;49masarray(value)\n\u001b[1;32m     50\u001b[0m \u001b[39mif\u001b[39;00m result\u001b[39m.\u001b[39mdtype \u001b[39min\u001b[39;00m [\u001b[39mcomplex\u001b[39m, numpy\u001b[39m.\u001b[39mfloat64]:\n\u001b[1;32m     51\u001b[0m     \u001b[39mreturn\u001b[39;00m result\n",
      "File \u001b[0;32m/usr/local/lib/python3.8/dist-packages/torch/_tensor.py:955\u001b[0m, in \u001b[0;36mTensor.__array__\u001b[0;34m(self, dtype)\u001b[0m\n\u001b[1;32m    953\u001b[0m     \u001b[39mreturn\u001b[39;00m handle_torch_function(Tensor\u001b[39m.\u001b[39m__array__, (\u001b[39mself\u001b[39m,), \u001b[39mself\u001b[39m, dtype\u001b[39m=\u001b[39mdtype)\n\u001b[1;32m    954\u001b[0m \u001b[39mif\u001b[39;00m dtype \u001b[39mis\u001b[39;00m \u001b[39mNone\u001b[39;00m:\n\u001b[0;32m--> 955\u001b[0m     \u001b[39mreturn\u001b[39;00m \u001b[39mself\u001b[39;49m\u001b[39m.\u001b[39;49mnumpy()\n\u001b[1;32m    956\u001b[0m \u001b[39melse\u001b[39;00m:\n\u001b[1;32m    957\u001b[0m     \u001b[39mreturn\u001b[39;00m \u001b[39mself\u001b[39m\u001b[39m.\u001b[39mnumpy()\u001b[39m.\u001b[39mastype(dtype, copy\u001b[39m=\u001b[39m\u001b[39mFalse\u001b[39;00m)\n",
      "\u001b[0;31mTypeError\u001b[0m: can't convert cuda:0 device type tensor to numpy. Use Tensor.cpu() to copy the tensor to host memory first."
     ]
    }
   ],
   "source": [
    "accs_train_unpert = np.zeros(n_graphs)\n",
    "accs_test_unpert = np.zeros(n_graphs)\n",
    "\n",
    "accs_train_ignore = np.zeros(n_graphs)\n",
    "accs_test_ignore = np.zeros(n_graphs)\n",
    "\n",
    "accs_train_robust = np.zeros(n_graphs)\n",
    "accs_test_robust = np.zeros(n_graphs)\n",
    "\n",
    "out_dim = max([(node_labels[i].max()+1).item() for i in range(n_graphs)])\n",
    "\n",
    "gcn_ignore = arch.GCNCoefs(torch.zeros((10,10)).to(device), in_dim, hid_dim, out_dim, n_layers, K).to(device)\n",
    "model_gnn_ignore = model.Model(gcn_ignore, n_epochs*n_iters, lr, wd, eval_freq)\n",
    "\n",
    "# GNN Unpert\n",
    "gcn_unpert = arch.GCNCoefs(torch.zeros((10,10)).to(device), in_dim, hid_dim, out_dim, n_layers, K).to(device)\n",
    "model_gnn_unpert = model.Model(gcn_unpert, n_epochs*n_iters, lr, wd, eval_freq)\n",
    "\n",
    "# GNN Ignore\n",
    "gcn_ignore = arch.GCNCoefs(torch.zeros((10,10)).to(device), in_dim, hid_dim, out_dim, n_layers, K).to(device)\n",
    "model_gnn_ignore = model.Model(gcn_ignore, n_epochs*n_iters, lr, wd, eval_freq)\n",
    "\n",
    "# GNN Robust\n",
    "gcn_robust = arch.GCNCoefs(torch.zeros((10,10)).to(device), in_dim, hid_dim, out_dim, n_layers, K).to(device)\n",
    "model_gnn_robust = model.Model(gcn_robust, n_epochs*n_iters, lr, wd, eval_freq)\n",
    "\n",
    "for i in range(n_graphs):\n",
    "\n",
    "    N = adjs[i].shape[0]\n",
    "    N_train = int(tts*N)\n",
    "\n",
    "    train_mask = torch.ones(N, dtype=torch.bool)\n",
    "    test_mask = []\n",
    "\n",
    "    # GNN Unpert\n",
    "    model_gnn_unpert.model.update_Spow(adjs[i])\n",
    "\n",
    "    acc_train, acc_val, acc_test, losses = \\\n",
    "        model_gnn_unpert.test_clas(adjs[i], node_attrs[i], node_labels[i], gamma, train_mask, [], test_mask)\n",
    "\n",
    "    accs_train_unpert[i] = acc_train.max()\n",
    "\n",
    "    Sn = torch.Tensor(pert_S(adjs[i].cpu().numpy(), type=\"prob\", eps=0.25)).to(device)\n",
    "\n",
    "    # GNN Ignore\n",
    "    model_gnn_ignore.model.update_Spow(Sn)\n",
    "\n",
    "    acc_train, acc_val, acc_test, losses = \\\n",
    "        model_gnn_ignore.test_clas(Sn, node_attrs[i], node_labels[i], gamma, train_mask, [], test_mask)\n",
    "\n",
    "    accs_train_ignore[i] = acc_train.max()\n",
    "\n",
    "    model_gnn_robust.model.update_Spow(Sn)\n",
    "\n",
    "    acc_train, acc_test = \\\n",
    "        model_gnn_robust.test_iterative(Sn, node_attrs[i], node_labels[i], lambd, gamma, n_iters, train_mask, [], test_mask)\n",
    "\n",
    "    accs_train_ignore[i] = acc_train.max()\n",
    "\n",
    "for i in range(n_graphs, 2*n_graphs):\n",
    "    model_gnn_unpert.model.update_Spow(adjs[i])\n",
    "    accs_test_unpert[i-n_graphs] = model_gnn_unpert.eval_acc(node_attrs[i], node_labels[i])\n",
    "\n",
    "    Sn = torch.Tensor(pert_S(adjs[i].cpu().numpy(), type=\"prob\", eps=0.25)).to(device)\n",
    "    model_gnn_ignore.model.update_Spow(Sn)\n",
    "    accs_test_ignore[i-n_graphs] = model_gnn_ignore.eval_acc(node_attrs[i], node_labels[i])"
   ]
  },
  {
   "cell_type": "code",
   "execution_count": null,
   "metadata": {},
   "outputs": [
    {
     "data": {
      "text/plain": [
       "([<matplotlib.axis.XTick at 0x7f2088040640>,\n",
       "  <matplotlib.axis.XTick at 0x7f2088040610>,\n",
       "  <matplotlib.axis.XTick at 0x7f2088040820>,\n",
       "  <matplotlib.axis.XTick at 0x7f208033cdc0>],\n",
       " [Text(1, 0, 'Train-Ignore'),\n",
       "  Text(2, 0, 'Train-Unpert'),\n",
       "  Text(3, 0, 'Test-Ignore'),\n",
       "  Text(4, 0, 'Test-Unpert')])"
      ]
     },
     "execution_count": 15,
     "metadata": {},
     "output_type": "execute_result"
    },
    {
     "data": {
      "image/png": "[encoded data removed]",
      "text/plain": [
       "<Figure size 640x480 with 1 Axes>"
      ]
     },
     "metadata": {},
     "output_type": "display_data"
    }
   ],
   "source": [
    "plt.boxplot([accs_train_ignore, accs_train_unpert, accs_test_ignore, accs_test_unpert])\n",
    "plt.xticks(np.arange(1,5), [\"Train-Ignore\", \"Train-Unpert\", \"Test-Ignore\", \"Test-Unpert\"])"
   ]
  },
  {
   "cell_type": "code",
   "execution_count": null,
   "metadata": {},
   "outputs": [
    {
     "data": {
      "text/plain": [
       "(0.7444376508394878,\n",
       " 0.8942698657512664,\n",
       " 0.7187591552734375,\n",
       " 0.7962747116883596)"
      ]
     },
     "execution_count": 16,
     "metadata": {},
     "output_type": "execute_result"
    }
   ],
   "source": [
    "np.mean(accs_train_ignore), np.mean(accs_train_unpert), np.mean(accs_test_ignore), np.mean(accs_test_unpert)"
   ]
  },
  {
   "cell_type": "code",
   "execution_count": null,
   "metadata": {},
   "outputs": [],
   "source": []
  }
 ],
 "metadata": {
  "kernelspec": {
   "display_name": "Python 3",
   "language": "python",
   "name": "python3"
  },
  "language_info": {
   "codemirror_mode": {
    "name": "ipython",
    "version": 3
   },
   "file_extension": ".py",
   "mimetype": "text/x-python",
   "name": "python",
   "nbconvert_exporter": "python",
   "pygments_lexer": "ipython3",
   "version": "3.8.10"
  },
  "orig_nbformat": 4,
  "vscode": {
   "interpreter": {
    "hash": "916dbcbb3f70747c44a77c7bcd40155683ae19c65e1c03b4aa3499c5328201f1"
   }
  }
 },
 "nbformat": 4,
 "nbformat_minor": 2
}
