{
 "cells": [
  {
   "cell_type": "code",
   "execution_count": 1,
   "metadata": {},
   "outputs": [
    {
     "name": "stderr",
     "output_type": "stream",
     "text": [
      "/usr/lib/python3/dist-packages/requests/__init__.py:89: RequestsDependencyWarning: urllib3 (1.26.9) or chardet (3.0.4) doesn't match a supported version!\n",
      "  warnings.warn(\"urllib3 ({}) or chardet ({}) doesn't match a supported \"\n"
     ]
    }
   ],
   "source": [
    "import torch\n",
    "import torch.nn as nn\n",
    "\n",
    "from gsp_utils.data import get_data_dgl, pert_S\n",
    "\n",
    "from arch.model import RobustGNNModel1, RobustGNNModel2\n",
    "\n",
    "import numpy as np\n",
    "\n",
    "import matplotlib.pyplot as plt\n",
    "\n",
    "from utils import GCNN, GAT, MLP, GCNH, test_gcnh\n",
    "\n",
    "from networkx import from_numpy_array\n",
    "from dgl import from_networkx"
   ]
  },
  {
   "cell_type": "code",
   "execution_count": 2,
   "metadata": {},
   "outputs": [],
   "source": [
    "device = torch.device('cuda' if torch.cuda.is_available() else 'cpu')\n",
    "assert torch.cuda.is_available()"
   ]
  },
  {
   "cell_type": "markdown",
   "metadata": {},
   "source": [
    "# Single dataset test"
   ]
  },
  {
   "cell_type": "code",
   "execution_count": 3,
   "metadata": {},
   "outputs": [
    {
     "name": "stdout",
     "output_type": "stream",
     "text": [
      "Nodes 183\n"
     ]
    }
   ],
   "source": [
    "dataset = \"CornellDataset\"\n",
    "\n",
    "S, feat, labels, n_class, masks = get_data_dgl(dataset, dev=device)\n",
    "print(\"Nodes\", S.shape[0])"
   ]
  },
  {
   "cell_type": "code",
   "execution_count": 4,
   "metadata": {},
   "outputs": [],
   "source": [
    "n_iters_H = 50\n",
    "n_epochs = 500\n",
    "lr = 0.001\n",
    "wd = 1e-2\n",
    "eval_freq = 1\n",
    "es_patience_gcnh = 100\n",
    "es_patience_rgcnh = 20\n",
    "\n",
    "lr_S = 1e-3\n",
    "\n",
    "n_iters = 100\n",
    "n_iters_S = 10#15\n",
    "\n",
    "hid_dim = 32\n",
    "n_layers = 2\n",
    "bias = True\n",
    "dropout = 0.25\n",
    "K = 3\n",
    "norm_S = True\n",
    "act = nn.LeakyReLU\n",
    "batch_norm = False\n",
    "\n",
    "in_dim = feat.shape[1]\n",
    "out_dim = n_class\n",
    "\n",
    "model_params = {\n",
    "    'in_dim': in_dim,\n",
    "    'hid_dim': hid_dim,\n",
    "    'out_dim': out_dim,\n",
    "    'n_layers': n_layers,\n",
    "    'act': act,\n",
    "    'bias': bias,\n",
    "    'last_act': nn.Softmax(dim=1),\n",
    "    'dropout': dropout,\n",
    "    'K': K,\n",
    "    'norm_S': norm_S,\n",
    "    'batch_norm': batch_norm\n",
    "}\n",
    "model_params_m2 = model_params.copy()\n",
    "del model_params_m2['K']\n",
    "del model_params_m2['norm_S']\n",
    "\n",
    "gamma = 0\n",
    "beta = 0.1\n",
    "lambd = 1.\n",
    "\n",
    "hid_dim_gat = 8\n",
    "num_heads = 8\n",
    "gat_params = {\n",
    "    'feat_drop': 0.6,\n",
    "    'attn_drop': 0.6\n",
    "}"
   ]
  },
  {
   "cell_type": "code",
   "execution_count": 5,
   "metadata": {},
   "outputs": [
    {
     "data": {
      "text/plain": [
       "tensor(0.2905, device='cuda:0')"
      ]
     },
     "execution_count": 5,
     "metadata": {},
     "output_type": "execute_result"
    }
   ],
   "source": [
    "eps = 0.0\n",
    "n_p = 0.3\n",
    "Sn = pert_S(S, type=\"rewire_nonsym\", eps=eps, n_p_white=n_p)\n",
    "g = from_networkx(from_numpy_array(Sn)).add_self_loop().to(device)\n",
    "\n",
    "S = torch.Tensor(S).to(device)\n",
    "Sn = torch.Tensor(Sn).to(device)\n",
    "\n",
    "torch.linalg.norm(Sn - S) / torch.linalg.norm(S)"
   ]
  },
  {
   "cell_type": "code",
   "execution_count": 6,
   "metadata": {},
   "outputs": [
    {
     "data": {
      "text/plain": [
       "tensor([1.1785, 1.0669, 0.7792, 1.2044, 0.5207, 0.7481, 0.5529, 0.5518, 0.4344,\n",
       "        0.9524, 0.7462, 0.8866, 0.9334, 0.8277, 0.7463, 1.3122, 1.0533, 1.1097,\n",
       "        0.8101, 1.2031, 1.0143, 1.3037, 0.7275, 1.3393, 0.9970, 1.0431, 1.0633,\n",
       "        0.3938, 1.0884, 1.9617, 1.1325, 0.8617, 0.9164, 1.0999, 1.6576, 0.9996,\n",
       "        0.9103, 0.7584, 0.7708, 1.7376, 0.8465, 0.9993, 0.8836, 0.5810, 1.1021,\n",
       "        0.8849, 1.0790, 0.8139, 0.8855, 0.5572, 1.1617, 1.1407, 0.5879, 0.8878,\n",
       "        1.1662, 1.5500, 1.2296, 0.8081, 1.4837, 0.8422, 1.1769, 0.9693, 0.7131,\n",
       "        0.8003, 0.8659, 0.3851, 1.0634, 1.2955, 0.8277, 1.3941, 1.0052, 0.6366,\n",
       "        1.3685, 1.0149, 1.1903, 1.5760, 0.9446, 0.8622, 0.5837, 0.5683, 1.3125,\n",
       "        0.7957, 0.9588, 1.0030, 0.9228, 0.7468, 0.8561, 1.3836, 1.3665, 0.7526,\n",
       "        1.2377, 1.1069, 0.8544, 1.2795, 0.5836, 0.8274, 0.7065, 1.2842, 0.9371,\n",
       "        1.3184, 1.0232, 0.5527, 0.9362, 0.3853, 1.1082, 0.7624, 0.8056, 1.0430,\n",
       "        0.8163, 1.2660, 0.9829, 0.9345, 0.7403, 1.1728, 0.8643, 0.8615, 0.8583,\n",
       "        0.9169, 0.5771, 1.1463, 1.1278, 1.3616, 0.9444, 0.6971, 1.0169, 1.4503,\n",
       "        1.0563, 0.7377, 0.2651, 1.1088, 0.5871, 1.2420, 1.9089, 0.7142, 1.2211,\n",
       "        0.4394, 1.3297, 1.3651, 0.7311, 1.5347, 0.4233, 0.9546, 1.5653, 1.0273,\n",
       "        0.8570, 1.1782, 0.6225, 0.5388, 1.1280, 0.8065, 0.7274, 1.1438, 0.7724,\n",
       "        1.0784, 1.0192, 1.1779, 0.9443, 0.8202, 1.3714, 0.8344, 0.9149, 1.3614,\n",
       "        1.0904, 1.1285, 0.6945, 0.6665, 1.2149, 1.0870, 0.8798, 0.6863, 1.1117,\n",
       "        0.7211, 0.7491, 0.7248, 1.3369, 0.5956, 1.1874, 0.8064, 0.8836, 0.7431,\n",
       "        1.0888, 1.1121, 1.2967, 0.8153, 1.0255, 1.1627, 1.5095, 1.2030, 1.0825,\n",
       "        0.7359, 0.4289, 1.3205, 0.9110, 0.6232, 0.7927, 1.0371, 1.2647, 1.1677,\n",
       "        0.7841, 1.3743, 1.2322, 0.5817, 0.7188, 0.5175, 0.7152, 0.8759, 1.0489,\n",
       "        1.0271, 1.5267, 1.2207, 0.4790, 1.0426, 0.6061, 1.2675, 1.2248, 0.9048,\n",
       "        0.7520, 0.9189, 1.0865, 1.2712, 1.4180, 1.0892, 0.6049, 0.8532, 0.5572,\n",
       "        1.0912, 0.9956, 0.6507, 1.0665, 0.8806, 0.9513, 0.8938, 1.0369, 1.2121,\n",
       "        0.9586, 0.7241, 0.6480, 1.0013, 0.5027, 0.6268, 0.8241, 0.9435, 1.3271,\n",
       "        0.7050, 0.8056, 0.6797, 0.3722, 0.9322, 1.4209, 0.4096, 1.3908, 0.6566,\n",
       "        1.2641, 1.3559, 1.0353, 0.9575, 1.1964, 1.3496, 1.1592, 1.4537, 1.0928,\n",
       "        0.4496, 1.0488, 0.9019, 0.4474, 1.0400, 1.0937, 0.9351, 1.1642, 0.8241,\n",
       "        1.0352, 1.4222, 1.1040, 0.7614, 0.6553, 0.9607, 0.9511, 1.0106, 0.9737,\n",
       "        0.7972, 0.5081, 0.6297, 0.7236, 0.9420, 1.1565, 1.1606, 1.3626, 0.8487,\n",
       "        1.4308, 0.7633, 0.5715, 0.8765, 0.7340, 1.2387, 1.1624, 1.4259, 1.3986,\n",
       "        0.7274], device='cuda:0')"
      ]
     },
     "execution_count": 6,
     "metadata": {},
     "output_type": "execute_result"
    }
   ],
   "source": [
    "Sn[torch.where(Sn != 0)]"
   ]
  },
  {
   "cell_type": "code",
   "execution_count": 7,
   "metadata": {},
   "outputs": [
    {
     "data": {
      "text/plain": [
       "<matplotlib.colorbar.Colorbar at 0x7fc4d82b8820>"
      ]
     },
     "execution_count": 7,
     "metadata": {},
     "output_type": "execute_result"
    },
    {
     "data": {
      "image/png": "[encoded data removed]",
      "text/plain": [
       "<Figure size 432x288 with 2 Axes>"
      ]
     },
     "metadata": {
      "needs_background": "light"
     },
     "output_type": "display_data"
    }
   ],
   "source": [
    "plt.imshow(S.to('cpu').numpy())\n",
    "plt.colorbar()"
   ]
  },
  {
   "cell_type": "code",
   "execution_count": 8,
   "metadata": {},
   "outputs": [
    {
     "data": {
      "text/plain": [
       "<matplotlib.colorbar.Colorbar at 0x7fc4d8107370>"
      ]
     },
     "execution_count": 8,
     "metadata": {},
     "output_type": "execute_result"
    },
    {
     "data": {
      "image/png": "[encoded data removed]",
      "text/plain": [
       "<Figure size 432x288 with 2 Axes>"
      ]
     },
     "metadata": {
      "needs_background": "light"
     },
     "output_type": "display_data"
    }
   ],
   "source": [
    "plt.imshow(Sn.to('cpu').numpy())\n",
    "plt.colorbar()"
   ]
  },
  {
   "cell_type": "code",
   "execution_count": 9,
   "metadata": {},
   "outputs": [
    {
     "name": "stdout",
     "output_type": "stream",
     "text": [
      "Iteration 1 DONE - Acc Test: 0.6216216216216216 - Err S: 0.6338067650794983\n",
      "Iteration 2 DONE - Acc Test: 0.6486486486486487 - Err S: 0.6259327530860901\n",
      "Iteration 3 DONE - Acc Test: 0.7027027027027027 - Err S: 0.618100643157959\n",
      "Iteration 4 DONE - Acc Test: 0.6756756756756757 - Err S: 0.6103096008300781\n",
      "Iteration 5 DONE - Acc Test: 0.7027027027027027 - Err S: 0.6025644540786743\n",
      "Iteration 6 DONE - Acc Test: 0.6756756756756757 - Err S: 0.5948750972747803\n",
      "Iteration 7 DONE - Acc Test: 0.7027027027027027 - Err S: 0.5872462391853333\n",
      "Iteration 8 DONE - Acc Test: 0.7297297297297297 - Err S: 0.5796884298324585\n",
      "Iteration 9 DONE - Acc Test: 0.7027027027027027 - Err S: 0.5722134113311768\n",
      "Iteration 10 DONE - Acc Test: 0.7027027027027027 - Err S: 0.5648012161254883\n",
      "Iteration 11 DONE - Acc Test: 0.6756756756756757 - Err S: 0.5574567914009094\n",
      "Iteration 12 DONE - Acc Test: 0.7567567567567568 - Err S: 0.5501928925514221\n",
      "Iteration 13 DONE - Acc Test: 0.7567567567567568 - Err S: 0.5429877042770386\n",
      "Iteration 14 DONE - Acc Test: 0.7297297297297297 - Err S: 0.535855770111084\n",
      "Iteration 15 DONE - Acc Test: 0.7297297297297297 - Err S: 0.5288039445877075\n",
      "Iteration 16 DONE - Acc Test: 0.7297297297297297 - Err S: 0.5218527913093567\n",
      "Iteration 17 DONE - Acc Test: 0.7297297297297297 - Err S: 0.5149728655815125\n",
      "Iteration 18 DONE - Acc Test: 0.7297297297297297 - Err S: 0.5081309676170349\n",
      "Iteration 19 DONE - Acc Test: 0.7567567567567568 - Err S: 0.5013870596885681\n",
      "Iteration 20 DONE - Acc Test: 0.7297297297297297 - Err S: 0.49468058347702026\n",
      "Iteration 21 DONE - Acc Test: 0.7297297297297297 - Err S: 0.4879579544067383\n",
      "Iteration 22 DONE - Acc Test: 0.7297297297297297 - Err S: 0.4813096225261688\n"
     ]
    }
   ],
   "source": [
    "S_init = Sn.clone()#torch.zeros(Sn.shape, device=device)\n",
    "model = RobustGNNModel1(S_init, n_iters_H, lr, wd, lr_S, eval_freq, model_params, n_iters, n_iters_S, problem_type=\"clas\", loss_fn=nn.NLLLoss)\n",
    "model.model = model.model.to(device)\n",
    "\n",
    "results_dict_m1, S_dict_m1 = model.test_model(Sn, feat, labels, gamma, lambd, beta, train_idx=masks['train'], val_idx=masks['val'], test_idx=masks['test'], norm_S=False, S_true=S, es_patience=es_patience_rgcnh, verbose=True, debug_S=False)"
   ]
  },
  {
   "cell_type": "code",
   "execution_count": 10,
   "metadata": {},
   "outputs": [
    {
     "data": {
      "text/plain": [
       "(0.6486486486486487, 0.7297297297297297, 1.0)"
      ]
     },
     "execution_count": 10,
     "metadata": {},
     "output_type": "execute_result"
    }
   ],
   "source": [
    "results_dict_m1['best_acc_test'], model.eval_fn(feat, labels, masks['test']), model.eval_fn(feat, labels, masks['train'])"
   ]
  },
  {
   "cell_type": "code",
   "execution_count": 11,
   "metadata": {},
   "outputs": [
    {
     "data": {
      "text/plain": [
       "<matplotlib.colorbar.Colorbar at 0x7fc4d80522e0>"
      ]
     },
     "execution_count": 11,
     "metadata": {},
     "output_type": "execute_result"
    },
    {
     "data": {
      "image/png": "[encoded data removed]",
      "text/plain": [
       "<Figure size 432x288 with 2 Axes>"
      ]
     },
     "metadata": {
      "needs_background": "light"
     },
     "output_type": "display_data"
    }
   ],
   "source": [
    "plt.imshow(S_dict_m1['rec_S'].cpu().numpy())\n",
    "plt.colorbar()"
   ]
  },
  {
   "cell_type": "code",
   "execution_count": 12,
   "metadata": {},
   "outputs": [
    {
     "data": {
      "text/plain": [
       "(tensor(11.7100, device='cuda:0'), tensor(17.2627, device='cuda:0'))"
      ]
     },
     "execution_count": 12,
     "metadata": {},
     "output_type": "execute_result"
    }
   ],
   "source": [
    "torch.linalg.norm(S_dict_m1['rec_S']), torch.linalg.norm(S)"
   ]
  },
  {
   "cell_type": "code",
   "execution_count": 13,
   "metadata": {},
   "outputs": [
    {
     "name": "stdout",
     "output_type": "stream",
     "text": [
      "Iteration 1 DONE - Acc Test: 0.16216216216216217 - Err S: 0.21697768568992615\n",
      "Iteration 2 DONE - Acc Test: 0.16216216216216217 - Err S: 0.21697768568992615\n",
      "Iteration 3 DONE - Acc Test: 0.16216216216216217 - Err S: 0.21697768568992615\n",
      "Iteration 4 DONE - Acc Test: 0.1891891891891892 - Err S: 0.21697768568992615\n",
      "Iteration 5 DONE - Acc Test: 0.1891891891891892 - Err S: 0.21697768568992615\n",
      "Iteration 6 DONE - Acc Test: 0.16216216216216217 - Err S: 0.21697768568992615\n",
      "Iteration 7 DONE - Acc Test: 0.13513513513513514 - Err S: 0.21697768568992615\n",
      "Iteration 8 DONE - Acc Test: 0.16216216216216217 - Err S: 0.21697768568992615\n",
      "Iteration 9 DONE - Acc Test: 0.13513513513513514 - Err S: 0.21697768568992615\n",
      "Iteration 10 DONE - Acc Test: 0.16216216216216217 - Err S: 0.21697768568992615\n",
      "Iteration 11 DONE - Acc Test: 0.16216216216216217 - Err S: 0.21697768568992615\n",
      "Iteration 12 DONE - Acc Test: 0.1891891891891892 - Err S: 0.21697768568992615\n",
      "Iteration 13 DONE - Acc Test: 0.1891891891891892 - Err S: 0.21697768568992615\n",
      "Iteration 14 DONE - Acc Test: 0.1891891891891892 - Err S: 0.21697768568992615\n",
      "Iteration 15 DONE - Acc Test: 0.1891891891891892 - Err S: 0.21697768568992615\n",
      "Iteration 16 DONE - Acc Test: 0.1891891891891892 - Err S: 0.21697768568992615\n",
      "Iteration 17 DONE - Acc Test: 0.1891891891891892 - Err S: 0.21697768568992615\n",
      "Iteration 18 DONE - Acc Test: 0.1891891891891892 - Err S: 0.21697768568992615\n",
      "Iteration 19 DONE - Acc Test: 0.1891891891891892 - Err S: 0.21697768568992615\n",
      "Iteration 20 DONE - Acc Test: 0.1891891891891892 - Err S: 0.21697768568992615\n",
      "Iteration 21 DONE - Acc Test: 0.16216216216216217 - Err S: 0.21697768568992615\n",
      "Iteration 22 DONE - Acc Test: 0.13513513513513514 - Err S: 0.21697768568992615\n",
      "Iteration 23 DONE - Acc Test: 0.16216216216216217 - Err S: 0.21697768568992615\n",
      "Iteration 24 DONE - Acc Test: 0.16216216216216217 - Err S: 0.21697768568992615\n",
      "Iteration 25 DONE - Acc Test: 0.16216216216216217 - Err S: 0.21697768568992615\n",
      "Iteration 26 DONE - Acc Test: 0.16216216216216217 - Err S: 0.21697768568992615\n",
      "Iteration 27 DONE - Acc Test: 0.1891891891891892 - Err S: 0.21697768568992615\n",
      "Iteration 28 DONE - Acc Test: 0.1891891891891892 - Err S: 0.21697768568992615\n",
      "Iteration 29 DONE - Acc Test: 0.2702702702702703 - Err S: 0.21697768568992615\n",
      "Iteration 30 DONE - Acc Test: 0.24324324324324326 - Err S: 0.21697768568992615\n",
      "Iteration 31 DONE - Acc Test: 0.2702702702702703 - Err S: 0.21697768568992615\n",
      "Iteration 32 DONE - Acc Test: 0.2972972972972973 - Err S: 0.21697768568992615\n",
      "Iteration 33 DONE - Acc Test: 0.2972972972972973 - Err S: 0.21697768568992615\n",
      "Iteration 34 DONE - Acc Test: 0.32432432432432434 - Err S: 0.21697768568992615\n",
      "Iteration 35 DONE - Acc Test: 0.32432432432432434 - Err S: 0.21697768568992615\n",
      "Iteration 36 DONE - Acc Test: 0.32432432432432434 - Err S: 0.21697768568992615\n",
      "Iteration 37 DONE - Acc Test: 0.3783783783783784 - Err S: 0.21697768568992615\n",
      "Iteration 38 DONE - Acc Test: 0.3783783783783784 - Err S: 0.21697768568992615\n",
      "Iteration 39 DONE - Acc Test: 0.3783783783783784 - Err S: 0.21697768568992615\n",
      "Iteration 40 DONE - Acc Test: 0.3783783783783784 - Err S: 0.21697768568992615\n",
      "Iteration 41 DONE - Acc Test: 0.40540540540540543 - Err S: 0.21697768568992615\n",
      "Iteration 42 DONE - Acc Test: 0.3783783783783784 - Err S: 0.21697768568992615\n",
      "Iteration 43 DONE - Acc Test: 0.40540540540540543 - Err S: 0.21697768568992615\n",
      "Iteration 44 DONE - Acc Test: 0.40540540540540543 - Err S: 0.21697768568992615\n",
      "Iteration 45 DONE - Acc Test: 0.40540540540540543 - Err S: 0.21697768568992615\n",
      "Iteration 46 DONE - Acc Test: 0.40540540540540543 - Err S: 0.21697768568992615\n",
      "Iteration 47 DONE - Acc Test: 0.40540540540540543 - Err S: 0.21697768568992615\n",
      "Iteration 48 DONE - Acc Test: 0.40540540540540543 - Err S: 0.21697768568992615\n",
      "Iteration 49 DONE - Acc Test: 0.40540540540540543 - Err S: 0.21697768568992615\n",
      "Iteration 50 DONE - Acc Test: 0.40540540540540543 - Err S: 0.21697768568992615\n",
      "Iteration 51 DONE - Acc Test: 0.40540540540540543 - Err S: 0.21697768568992615\n",
      "Iteration 52 DONE - Acc Test: 0.40540540540540543 - Err S: 0.21697768568992615\n",
      "Iteration 53 DONE - Acc Test: 0.40540540540540543 - Err S: 0.21697768568992615\n",
      "Iteration 54 DONE - Acc Test: 0.40540540540540543 - Err S: 0.21697768568992615\n",
      "Iteration 55 DONE - Acc Test: 0.40540540540540543 - Err S: 0.21697768568992615\n",
      "Iteration 56 DONE - Acc Test: 0.40540540540540543 - Err S: 0.21697768568992615\n",
      "Iteration 57 DONE - Acc Test: 0.40540540540540543 - Err S: 0.21697768568992615\n",
      "Iteration 58 DONE - Acc Test: 0.40540540540540543 - Err S: 0.21697768568992615\n",
      "Iteration 59 DONE - Acc Test: 0.40540540540540543 - Err S: 0.21697768568992615\n",
      "Iteration 60 DONE - Acc Test: 0.40540540540540543 - Err S: 0.21697768568992615\n",
      "Iteration 61 DONE - Acc Test: 0.40540540540540543 - Err S: 0.21697768568992615\n",
      "Iteration 62 DONE - Acc Test: 0.40540540540540543 - Err S: 0.21697768568992615\n",
      "Iteration 63 DONE - Acc Test: 0.40540540540540543 - Err S: 0.21697768568992615\n",
      "Iteration 64 DONE - Acc Test: 0.40540540540540543 - Err S: 0.21697768568992615\n",
      "Iteration 65 DONE - Acc Test: 0.40540540540540543 - Err S: 0.21697768568992615\n",
      "Iteration 66 DONE - Acc Test: 0.40540540540540543 - Err S: 0.21697768568992615\n",
      "Iteration 67 DONE - Acc Test: 0.40540540540540543 - Err S: 0.21697768568992615\n",
      "Iteration 68 DONE - Acc Test: 0.40540540540540543 - Err S: 0.21697768568992615\n",
      "Iteration 69 DONE - Acc Test: 0.40540540540540543 - Err S: 0.21697768568992615\n",
      "Iteration 70 DONE - Acc Test: 0.40540540540540543 - Err S: 0.21697768568992615\n",
      "Iteration 71 DONE - Acc Test: 0.40540540540540543 - Err S: 0.21697768568992615\n",
      "Iteration 72 DONE - Acc Test: 0.40540540540540543 - Err S: 0.21697768568992615\n",
      "Iteration 73 DONE - Acc Test: 0.40540540540540543 - Err S: 0.21697768568992615\n",
      "Iteration 74 DONE - Acc Test: 0.40540540540540543 - Err S: 0.21697768568992615\n",
      "Iteration 75 DONE - Acc Test: 0.40540540540540543 - Err S: 0.21697768568992615\n",
      "Iteration 76 DONE - Acc Test: 0.40540540540540543 - Err S: 0.21697768568992615\n",
      "Iteration 77 DONE - Acc Test: 0.40540540540540543 - Err S: 0.21697768568992615\n",
      "Iteration 78 DONE - Acc Test: 0.40540540540540543 - Err S: 0.21697768568992615\n",
      "Iteration 79 DONE - Acc Test: 0.40540540540540543 - Err S: 0.21697768568992615\n",
      "Iteration 80 DONE - Acc Test: 0.3783783783783784 - Err S: 0.21697768568992615\n",
      "Iteration 81 DONE - Acc Test: 0.16216216216216217 - Err S: 0.21697768568992615\n",
      "Iteration 82 DONE - Acc Test: 0.16216216216216217 - Err S: 0.21697768568992615\n"
     ]
    }
   ],
   "source": [
    "S_init = Sn.clone()#torch.zeros(Sn.shape, device=device)\n",
    "model = RobustGNNModel2(S_init, n_iters_H, lr, wd, lr_S, eval_freq, model_params_m2, n_iters, n_iters_S, problem_type=\"clas\", loss_fn=nn.NLLLoss)\n",
    "model.model = model.model.to(device)\n",
    "\n",
    "results_dict_m2, S_dict_m2 = model.test_model(Sn, feat, labels, gamma, lambd, beta, train_idx=masks['train'], val_idx=masks['val'], test_idx=masks['test'], norm_S=False, S_true=S, es_patience=es_patience_rgcnh, verbose=True, debug_S=False)"
   ]
  },
  {
   "cell_type": "code",
   "execution_count": 14,
   "metadata": {},
   "outputs": [
    {
     "name": "stdout",
     "output_type": "stream",
     "text": [
      "\tEpoch (H) 1/50 - Loss: -0.202 - Train Acc: 0.598 - Test Acc: 0.514\n",
      "\tEpoch (H) 2/50 - Loss: -0.233 - Train Acc: 0.609 - Test Acc: 0.459\n",
      "\tEpoch (H) 3/50 - Loss: -0.266 - Train Acc: 0.586 - Test Acc: 0.459\n",
      "\tEpoch (H) 4/50 - Loss: -0.303 - Train Acc: 0.575 - Test Acc: 0.459\n",
      "\tEpoch (H) 5/50 - Loss: -0.348 - Train Acc: 0.586 - Test Acc: 0.432\n",
      "\tEpoch (H) 6/50 - Loss: -0.382 - Train Acc: 0.563 - Test Acc: 0.432\n",
      "\tEpoch (H) 7/50 - Loss: -0.415 - Train Acc: 0.575 - Test Acc: 0.432\n",
      "\tEpoch (H) 8/50 - Loss: -0.444 - Train Acc: 0.575 - Test Acc: 0.459\n",
      "\tEpoch (H) 9/50 - Loss: -0.471 - Train Acc: 0.609 - Test Acc: 0.459\n",
      "\tEpoch (H) 10/50 - Loss: -0.489 - Train Acc: 0.644 - Test Acc: 0.459\n",
      "\tEpoch (H) 11/50 - Loss: -0.504 - Train Acc: 0.678 - Test Acc: 0.459\n",
      "\tEpoch (H) 12/50 - Loss: -0.544 - Train Acc: 0.724 - Test Acc: 0.514\n",
      "\tEpoch (H) 13/50 - Loss: -0.546 - Train Acc: 0.724 - Test Acc: 0.514\n",
      "\tEpoch (H) 14/50 - Loss: -0.562 - Train Acc: 0.747 - Test Acc: 0.514\n",
      "\tEpoch (H) 15/50 - Loss: -0.600 - Train Acc: 0.759 - Test Acc: 0.595\n",
      "\tEpoch (H) 16/50 - Loss: -0.593 - Train Acc: 0.759 - Test Acc: 0.595\n",
      "\tEpoch (H) 17/50 - Loss: -0.606 - Train Acc: 0.782 - Test Acc: 0.595\n",
      "\tEpoch (H) 18/50 - Loss: -0.625 - Train Acc: 0.782 - Test Acc: 0.568\n",
      "\tEpoch (H) 19/50 - Loss: -0.635 - Train Acc: 0.793 - Test Acc: 0.595\n",
      "\tEpoch (H) 20/50 - Loss: -0.648 - Train Acc: 0.805 - Test Acc: 0.595\n",
      "\tEpoch (H) 21/50 - Loss: -0.655 - Train Acc: 0.816 - Test Acc: 0.595\n",
      "\tEpoch (H) 22/50 - Loss: -0.675 - Train Acc: 0.839 - Test Acc: 0.595\n",
      "\tEpoch (H) 23/50 - Loss: -0.671 - Train Acc: 0.839 - Test Acc: 0.595\n",
      "\tEpoch (H) 24/50 - Loss: -0.681 - Train Acc: 0.839 - Test Acc: 0.622\n",
      "\tEpoch (H) 25/50 - Loss: -0.691 - Train Acc: 0.839 - Test Acc: 0.622\n",
      "\tEpoch (H) 26/50 - Loss: -0.695 - Train Acc: 0.839 - Test Acc: 0.622\n",
      "\tEpoch (H) 27/50 - Loss: -0.726 - Train Acc: 0.839 - Test Acc: 0.622\n",
      "\tEpoch (H) 28/50 - Loss: -0.720 - Train Acc: 0.851 - Test Acc: 0.622\n",
      "\tEpoch (H) 29/50 - Loss: -0.727 - Train Acc: 0.851 - Test Acc: 0.622\n",
      "\tEpoch (H) 30/50 - Loss: -0.739 - Train Acc: 0.862 - Test Acc: 0.649\n",
      "\tEpoch (H) 31/50 - Loss: -0.740 - Train Acc: 0.862 - Test Acc: 0.649\n",
      "\tEpoch (H) 32/50 - Loss: -0.741 - Train Acc: 0.862 - Test Acc: 0.649\n",
      "\tEpoch (H) 33/50 - Loss: -0.760 - Train Acc: 0.874 - Test Acc: 0.649\n",
      "\tEpoch (H) 34/50 - Loss: -0.753 - Train Acc: 0.874 - Test Acc: 0.649\n",
      "\tEpoch (H) 35/50 - Loss: -0.757 - Train Acc: 0.874 - Test Acc: 0.649\n",
      "\tEpoch (H) 36/50 - Loss: -0.763 - Train Acc: 0.874 - Test Acc: 0.649\n",
      "\tEpoch (H) 37/50 - Loss: -0.774 - Train Acc: 0.874 - Test Acc: 0.649\n",
      "\tEpoch (H) 38/50 - Loss: -0.763 - Train Acc: 0.874 - Test Acc: 0.649\n",
      "\tEpoch (H) 39/50 - Loss: -0.769 - Train Acc: 0.874 - Test Acc: 0.649\n",
      "\tEpoch (H) 40/50 - Loss: -0.783 - Train Acc: 0.874 - Test Acc: 0.649\n",
      "\tEpoch (H) 41/50 - Loss: -0.778 - Train Acc: 0.885 - Test Acc: 0.649\n",
      "\tEpoch (H) 42/50 - Loss: -0.791 - Train Acc: 0.885 - Test Acc: 0.649\n",
      "\tEpoch (H) 43/50 - Loss: -0.788 - Train Acc: 0.885 - Test Acc: 0.649\n",
      "\tEpoch (H) 44/50 - Loss: -0.792 - Train Acc: 0.885 - Test Acc: 0.649\n",
      "\tEpoch (H) 45/50 - Loss: -0.796 - Train Acc: 0.885 - Test Acc: 0.649\n",
      "\tEpoch (H) 46/50 - Loss: -0.796 - Train Acc: 0.885 - Test Acc: 0.649\n",
      "\tEpoch (H) 47/50 - Loss: -0.818 - Train Acc: 0.885 - Test Acc: 0.649\n",
      "\tEpoch (H) 48/50 - Loss: -0.798 - Train Acc: 0.885 - Test Acc: 0.649\n",
      "\tEpoch (H) 49/50 - Loss: -0.805 - Train Acc: 0.885 - Test Acc: 0.649\n",
      "\tEpoch (H) 50/50 - Loss: -0.813 - Train Acc: 0.885 - Test Acc: 0.649\n"
     ]
    }
   ],
   "source": [
    "n_iters_H_gnn = 50\n",
    "model = RobustGNNModel1(Sn, n_iters_H_gnn, lr, wd, lr_S, eval_freq, model_params, n_iters, n_iters_S, problem_type=\"clas\", loss_fn=nn.NLLLoss)\n",
    "model.model = model.model.to(device)\n",
    "\n",
    "_, _, acc_test, _ = model.stepH(\n",
    "    feat, labels, masks['train'], masks['val'], masks['test'], verbose=True\n",
    ")"
   ]
  },
  {
   "cell_type": "code",
   "execution_count": 15,
   "metadata": {},
   "outputs": [
    {
     "name": "stdout",
     "output_type": "stream",
     "text": [
      "Epoch 1/500 - Loss Train: 1.6057456731796265 - Acc Train: 0.4712643623352051 - Acc Val: 0.5423728813559322 - Acc Test: 0.4324324429035187\n",
      "Epoch 4/500 - Loss Train: 1.2865395545959473 - Acc Train: 0.5747126340866089 - Acc Val: 0.576271186440678 - Acc Test: 0.4324324429035187\n",
      "Epoch 8/500 - Loss Train: 0.9538693428039551 - Acc Train: 0.7816091775894165 - Acc Val: 0.5932203389830508 - Acc Test: 0.5675675868988037\n",
      "Epoch 12/500 - Loss Train: 0.8018622398376465 - Acc Train: 0.8735632300376892 - Acc Val: 0.5423728813559322 - Acc Test: 0.5405405163764954\n",
      "Epoch 16/500 - Loss Train: 0.6380288004875183 - Acc Train: 0.8850574493408203 - Acc Val: 0.576271186440678 - Acc Test: 0.5675675868988037\n",
      "Epoch 20/500 - Loss Train: 0.5107887387275696 - Acc Train: 0.931034505367279 - Acc Val: 0.6271186440677966 - Acc Test: 0.5675675868988037\n",
      "Epoch 24/500 - Loss Train: 0.4222560226917267 - Acc Train: 0.954023003578186 - Acc Val: 0.6440677966101694 - Acc Test: 0.5945945978164673\n",
      "Epoch 28/500 - Loss Train: 0.34388428926467896 - Acc Train: 0.9655172228813171 - Acc Val: 0.6610169491525424 - Acc Test: 0.6216216087341309\n",
      "Epoch 32/500 - Loss Train: 0.32795172929763794 - Acc Train: 0.9655172228813171 - Acc Val: 0.6779661016949152 - Acc Test: 0.6216216087341309\n",
      "Epoch 36/500 - Loss Train: 0.24382944405078888 - Acc Train: 0.977011501789093 - Acc Val: 0.6779661016949152 - Acc Test: 0.6216216087341309\n",
      "Epoch 40/500 - Loss Train: 0.2097618132829666 - Acc Train: 0.9885057210922241 - Acc Val: 0.6949152542372882 - Acc Test: 0.6216216087341309\n",
      "Epoch 44/500 - Loss Train: 0.21285885572433472 - Acc Train: 0.9885057210922241 - Acc Val: 0.711864406779661 - Acc Test: 0.6216216087341309\n",
      "Epoch 48/500 - Loss Train: 0.16997505724430084 - Acc Train: 0.9885057210922241 - Acc Val: 0.7457627118644068 - Acc Test: 0.6216216087341309\n",
      "Epoch 52/500 - Loss Train: 0.17158816754817963 - Acc Train: 0.9885057210922241 - Acc Val: 0.7288135593220338 - Acc Test: 0.6216216087341309\n",
      "Epoch 56/500 - Loss Train: 0.12925700843334198 - Acc Train: 0.9885057210922241 - Acc Val: 0.6949152542372882 - Acc Test: 0.6216216087341309\n",
      "Epoch 60/500 - Loss Train: 0.13972455263137817 - Acc Train: 0.9885057210922241 - Acc Val: 0.7457627118644068 - Acc Test: 0.5945945978164673\n",
      "Epoch 64/500 - Loss Train: 0.1349499523639679 - Acc Train: 0.9885057210922241 - Acc Val: 0.7627118644067796 - Acc Test: 0.6216216087341309\n",
      "Epoch 68/500 - Loss Train: 0.1173117607831955 - Acc Train: 1.0 - Acc Val: 0.7627118644067796 - Acc Test: 0.6216216087341309\n",
      "Epoch 72/500 - Loss Train: 0.10074836015701294 - Acc Train: 1.0 - Acc Val: 0.7627118644067796 - Acc Test: 0.6216216087341309\n",
      "Epoch 76/500 - Loss Train: 0.09356792271137238 - Acc Train: 1.0 - Acc Val: 0.7627118644067796 - Acc Test: 0.6216216087341309\n",
      "Epoch 80/500 - Loss Train: 0.10579590499401093 - Acc Train: 1.0 - Acc Val: 0.7627118644067796 - Acc Test: 0.5945945978164673\n",
      "Epoch 84/500 - Loss Train: 0.0853688046336174 - Acc Train: 1.0 - Acc Val: 0.7627118644067796 - Acc Test: 0.5945945978164673\n",
      "Epoch 88/500 - Loss Train: 0.08050637692213058 - Acc Train: 1.0 - Acc Val: 0.7796610169491526 - Acc Test: 0.5945945978164673\n",
      "Epoch 92/500 - Loss Train: 0.07853678613901138 - Acc Train: 1.0 - Acc Val: 0.7796610169491526 - Acc Test: 0.5945945978164673\n",
      "Epoch 96/500 - Loss Train: 0.07493474334478378 - Acc Train: 1.0 - Acc Val: 0.7627118644067796 - Acc Test: 0.5945945978164673\n",
      "Epoch 100/500 - Loss Train: 0.0768783763051033 - Acc Train: 1.0 - Acc Val: 0.7627118644067796 - Acc Test: 0.5945945978164673\n",
      "Epoch 104/500 - Loss Train: 0.0693824514746666 - Acc Train: 1.0 - Acc Val: 0.7627118644067796 - Acc Test: 0.5945945978164673\n",
      "Epoch 108/500 - Loss Train: 0.07537369430065155 - Acc Train: 1.0 - Acc Val: 0.7966101694915254 - Acc Test: 0.5945945978164673\n",
      "Epoch 112/500 - Loss Train: 0.0643436461687088 - Acc Train: 1.0 - Acc Val: 0.8135593220338984 - Acc Test: 0.6216216087341309\n",
      "Epoch 116/500 - Loss Train: 0.054909683763980865 - Acc Train: 1.0 - Acc Val: 0.7966101694915254 - Acc Test: 0.5945945978164673\n",
      "Epoch 120/500 - Loss Train: 0.06670849025249481 - Acc Train: 1.0 - Acc Val: 0.7627118644067796 - Acc Test: 0.5945945978164673\n",
      "Epoch 124/500 - Loss Train: 0.06319119781255722 - Acc Train: 1.0 - Acc Val: 0.7796610169491526 - Acc Test: 0.5945945978164673\n",
      "Epoch 128/500 - Loss Train: 0.06808584928512573 - Acc Train: 1.0 - Acc Val: 0.8305084745762712 - Acc Test: 0.6216216087341309\n",
      "Epoch 132/500 - Loss Train: 0.06370093673467636 - Acc Train: 1.0 - Acc Val: 0.8135593220338984 - Acc Test: 0.6216216087341309\n",
      "Epoch 136/500 - Loss Train: 0.05322849377989769 - Acc Train: 1.0 - Acc Val: 0.8135593220338984 - Acc Test: 0.6216216087341309\n",
      "Epoch 140/500 - Loss Train: 0.06901980936527252 - Acc Train: 1.0 - Acc Val: 0.7966101694915254 - Acc Test: 0.6216216087341309\n",
      "Epoch 144/500 - Loss Train: 0.04632497578859329 - Acc Train: 1.0 - Acc Val: 0.7796610169491526 - Acc Test: 0.6486486196517944\n",
      "Epoch 148/500 - Loss Train: 0.04570350795984268 - Acc Train: 1.0 - Acc Val: 0.7966101694915254 - Acc Test: 0.6216216087341309\n",
      "Epoch 152/500 - Loss Train: 0.04524331912398338 - Acc Train: 1.0 - Acc Val: 0.8135593220338984 - Acc Test: 0.6216216087341309\n",
      "Epoch 156/500 - Loss Train: 0.06062041595578194 - Acc Train: 1.0 - Acc Val: 0.7966101694915254 - Acc Test: 0.6486486196517944\n",
      "Epoch 160/500 - Loss Train: 0.05353712663054466 - Acc Train: 1.0 - Acc Val: 0.7966101694915254 - Acc Test: 0.6486486196517944\n",
      "Epoch 164/500 - Loss Train: 0.05986708030104637 - Acc Train: 1.0 - Acc Val: 0.7966101694915254 - Acc Test: 0.6486486196517944\n",
      "Epoch 168/500 - Loss Train: 0.04530637338757515 - Acc Train: 1.0 - Acc Val: 0.7966101694915254 - Acc Test: 0.6486486196517944\n",
      "Epoch 172/500 - Loss Train: 0.05300677940249443 - Acc Train: 1.0 - Acc Val: 0.8305084745762712 - Acc Test: 0.6486486196517944\n",
      "Epoch 176/500 - Loss Train: 0.04897492006421089 - Acc Train: 1.0 - Acc Val: 0.7966101694915254 - Acc Test: 0.6486486196517944\n",
      "Epoch 180/500 - Loss Train: 0.04720351845026016 - Acc Train: 1.0 - Acc Val: 0.7796610169491526 - Acc Test: 0.6756756901741028\n",
      "Epoch 184/500 - Loss Train: 0.05131179839372635 - Acc Train: 1.0 - Acc Val: 0.7796610169491526 - Acc Test: 0.6756756901741028\n",
      "Epoch 188/500 - Loss Train: 0.04562639072537422 - Acc Train: 1.0 - Acc Val: 0.8135593220338984 - Acc Test: 0.6486486196517944\n",
      "Epoch 192/500 - Loss Train: 0.03976031765341759 - Acc Train: 1.0 - Acc Val: 0.8305084745762712 - Acc Test: 0.6756756901741028\n",
      "Epoch 196/500 - Loss Train: 0.04217183589935303 - Acc Train: 1.0 - Acc Val: 0.8135593220338984 - Acc Test: 0.6216216087341309\n",
      "Epoch 200/500 - Loss Train: 0.05039803311228752 - Acc Train: 1.0 - Acc Val: 0.7966101694915254 - Acc Test: 0.6486486196517944\n",
      "Epoch 204/500 - Loss Train: 0.045577485114336014 - Acc Train: 1.0 - Acc Val: 0.8135593220338984 - Acc Test: 0.6756756901741028\n",
      "Epoch 208/500 - Loss Train: 0.0384703055024147 - Acc Train: 1.0 - Acc Val: 0.8135593220338984 - Acc Test: 0.6756756901741028\n",
      "Epoch 212/500 - Loss Train: 0.0458192452788353 - Acc Train: 1.0 - Acc Val: 0.7966101694915254 - Acc Test: 0.6756756901741028\n",
      "Epoch 216/500 - Loss Train: 0.0400179848074913 - Acc Train: 1.0 - Acc Val: 0.7966101694915254 - Acc Test: 0.6486486196517944\n",
      "Epoch 220/500 - Loss Train: 0.04758552089333534 - Acc Train: 1.0 - Acc Val: 0.8135593220338984 - Acc Test: 0.6486486196517944\n",
      "Epoch 224/500 - Loss Train: 0.04090896621346474 - Acc Train: 1.0 - Acc Val: 0.8135593220338984 - Acc Test: 0.6486486196517944\n",
      "Epoch 228/500 - Loss Train: 0.03933786228299141 - Acc Train: 1.0 - Acc Val: 0.8135593220338984 - Acc Test: 0.6486486196517944\n"
     ]
    },
    {
     "data": {
      "text/plain": [
       "0.6216216216216216"
      ]
     },
     "execution_count": 15,
     "metadata": {},
     "output_type": "execute_result"
    }
   ],
   "source": [
    "#model = GCNH(torch.zeros(Sn.shape, device=device), in_dim, hid_dim, out_dim, model_params['K'], dropout=model_params['dropout']).to(device)\n",
    "model = GCNH(Sn.clone(), **model_params).to(device)\n",
    "\n",
    "# model training\n",
    "loss_train, acc_train, acc_test, best_acc_val, best_acc_test = test_gcnh(model, g, feat, labels, masks['train'], masks['val'], masks['test'], n_epochs, lr, wd, es_patience_gcnh, True)\n",
    "best_acc_test"
   ]
  },
  {
   "cell_type": "code",
   "execution_count": 16,
   "metadata": {},
   "outputs": [
    {
     "name": "stdout",
     "output_type": "stream",
     "text": [
      "Epoch 1/500 - Loss Train: 1.6061434745788574 - Acc Train: 0.4712643623352051 - Acc Val: 0.559322033898305 - Acc Test: 0.37837839126586914\n",
      "Epoch 4/500 - Loss Train: 1.4337083101272583 - Acc Train: 0.6091954112052917 - Acc Val: 0.5423728813559322 - Acc Test: 0.45945945382118225\n",
      "Epoch 8/500 - Loss Train: 1.2193288803100586 - Acc Train: 0.6551724076271057 - Acc Val: 0.5423728813559322 - Acc Test: 0.5135135054588318\n",
      "Epoch 12/500 - Loss Train: 0.9848306775093079 - Acc Train: 0.7011494040489197 - Acc Val: 0.576271186440678 - Acc Test: 0.5135135054588318\n",
      "Epoch 16/500 - Loss Train: 0.8209691643714905 - Acc Train: 0.7931034564971924 - Acc Val: 0.576271186440678 - Acc Test: 0.5135135054588318\n",
      "Epoch 20/500 - Loss Train: 0.7013841271400452 - Acc Train: 0.8045976758003235 - Acc Val: 0.6101694915254238 - Acc Test: 0.5135135054588318\n",
      "Epoch 24/500 - Loss Train: 0.5677101612091064 - Acc Train: 0.8505747318267822 - Acc Val: 0.6440677966101694 - Acc Test: 0.5135135054588318\n",
      "Epoch 28/500 - Loss Train: 0.49843552708625793 - Acc Train: 0.931034505367279 - Acc Val: 0.6610169491525424 - Acc Test: 0.5675675868988037\n",
      "Epoch 32/500 - Loss Train: 0.4367581605911255 - Acc Train: 0.954023003578186 - Acc Val: 0.6779661016949152 - Acc Test: 0.6216216087341309\n",
      "Epoch 36/500 - Loss Train: 0.36936408281326294 - Acc Train: 0.954023003578186 - Acc Val: 0.711864406779661 - Acc Test: 0.6486486196517944\n",
      "Epoch 40/500 - Loss Train: 0.31709080934524536 - Acc Train: 0.9655172228813171 - Acc Val: 0.7457627118644068 - Acc Test: 0.6486486196517944\n",
      "Epoch 44/500 - Loss Train: 0.2959166169166565 - Acc Train: 0.9655172228813171 - Acc Val: 0.7627118644067796 - Acc Test: 0.6756756901741028\n",
      "Epoch 48/500 - Loss Train: 0.2835528254508972 - Acc Train: 0.9655172228813171 - Acc Val: 0.7966101694915254 - Acc Test: 0.6756756901741028\n",
      "Epoch 52/500 - Loss Train: 0.25537562370300293 - Acc Train: 0.9655172228813171 - Acc Val: 0.7966101694915254 - Acc Test: 0.6756756901741028\n",
      "Epoch 56/500 - Loss Train: 0.1963566094636917 - Acc Train: 0.977011501789093 - Acc Val: 0.7966101694915254 - Acc Test: 0.6756756901741028\n",
      "Epoch 60/500 - Loss Train: 0.1855316162109375 - Acc Train: 0.9885057210922241 - Acc Val: 0.7796610169491526 - Acc Test: 0.6756756901741028\n",
      "Epoch 64/500 - Loss Train: 0.17255926132202148 - Acc Train: 0.9885057210922241 - Acc Val: 0.7796610169491526 - Acc Test: 0.6756756901741028\n",
      "Epoch 68/500 - Loss Train: 0.15078169107437134 - Acc Train: 1.0 - Acc Val: 0.7796610169491526 - Acc Test: 0.7027027010917664\n",
      "Epoch 72/500 - Loss Train: 0.1526489406824112 - Acc Train: 1.0 - Acc Val: 0.7796610169491526 - Acc Test: 0.7027027010917664\n",
      "Epoch 76/500 - Loss Train: 0.1434149295091629 - Acc Train: 1.0 - Acc Val: 0.7966101694915254 - Acc Test: 0.7027027010917664\n",
      "Epoch 80/500 - Loss Train: 0.14401766657829285 - Acc Train: 1.0 - Acc Val: 0.7796610169491526 - Acc Test: 0.7027027010917664\n",
      "Epoch 84/500 - Loss Train: 0.13040918111801147 - Acc Train: 1.0 - Acc Val: 0.7796610169491526 - Acc Test: 0.7027027010917664\n",
      "Epoch 88/500 - Loss Train: 0.12732239067554474 - Acc Train: 1.0 - Acc Val: 0.7796610169491526 - Acc Test: 0.7027027010917664\n",
      "Epoch 92/500 - Loss Train: 0.09600941091775894 - Acc Train: 1.0 - Acc Val: 0.7796610169491526 - Acc Test: 0.7027027010917664\n",
      "Epoch 96/500 - Loss Train: 0.09411463141441345 - Acc Train: 1.0 - Acc Val: 0.7796610169491526 - Acc Test: 0.7027027010917664\n",
      "Epoch 100/500 - Loss Train: 0.09828346967697144 - Acc Train: 1.0 - Acc Val: 0.7966101694915254 - Acc Test: 0.7027027010917664\n",
      "Epoch 104/500 - Loss Train: 0.09553366899490356 - Acc Train: 1.0 - Acc Val: 0.7966101694915254 - Acc Test: 0.7027027010917664\n",
      "Epoch 108/500 - Loss Train: 0.1098487600684166 - Acc Train: 1.0 - Acc Val: 0.7966101694915254 - Acc Test: 0.7027027010917664\n",
      "Epoch 112/500 - Loss Train: 0.10151542723178864 - Acc Train: 1.0 - Acc Val: 0.7966101694915254 - Acc Test: 0.7027027010917664\n",
      "Epoch 116/500 - Loss Train: 0.08838571608066559 - Acc Train: 1.0 - Acc Val: 0.7796610169491526 - Acc Test: 0.7027027010917664\n",
      "Epoch 120/500 - Loss Train: 0.10486460477113724 - Acc Train: 1.0 - Acc Val: 0.7796610169491526 - Acc Test: 0.7027027010917664\n",
      "Epoch 124/500 - Loss Train: 0.0677783265709877 - Acc Train: 1.0 - Acc Val: 0.7966101694915254 - Acc Test: 0.7027027010917664\n",
      "Epoch 128/500 - Loss Train: 0.07781479507684708 - Acc Train: 1.0 - Acc Val: 0.7966101694915254 - Acc Test: 0.7027027010917664\n",
      "Epoch 132/500 - Loss Train: 0.07441725581884384 - Acc Train: 1.0 - Acc Val: 0.7966101694915254 - Acc Test: 0.7027027010917664\n",
      "Epoch 136/500 - Loss Train: 0.07775621116161346 - Acc Train: 1.0 - Acc Val: 0.7966101694915254 - Acc Test: 0.7027027010917664\n",
      "Epoch 140/500 - Loss Train: 0.06960000842809677 - Acc Train: 1.0 - Acc Val: 0.7966101694915254 - Acc Test: 0.7027027010917664\n",
      "Epoch 144/500 - Loss Train: 0.06591469049453735 - Acc Train: 1.0 - Acc Val: 0.7796610169491526 - Acc Test: 0.7027027010917664\n"
     ]
    }
   ],
   "source": [
    "#model = GCNH(torch.zeros(Sn.shape, device=device), in_dim, hid_dim, out_dim, model_params['K'], dropout=model_params['dropout']).to(device)\n",
    "model = MLP(in_dim, hid_dim, out_dim, dropout=model_params['dropout']).to(device)\n",
    "\n",
    "# model training\n",
    "loss_train, acc_train, acc_test, best_acc_val, best_acc_test = test_gcnh(model, g, feat, labels, masks['train'], masks['val'], masks['test'], n_epochs, lr, wd, es_patience_gcnh, True)"
   ]
  },
  {
   "cell_type": "markdown",
   "metadata": {},
   "source": [
    "## Pro-GNN"
   ]
  },
  {
   "cell_type": "code",
   "execution_count": 17,
   "metadata": {},
   "outputs": [
    {
     "name": "stdout",
     "output_type": "stream",
     "text": [
      "No module named 'torch_sparse'\n"
     ]
    },
    {
     "name": "stderr",
     "output_type": "stream",
     "text": [
      "/home/vtenorio/.local/lib/python3.8/site-packages/deeprobust/graph/defense/__init__.py:15: UserWarning: Please install pytorch geometric if you would like to use the datasets from pytorch geometric. See details in https://pytorch-geometric.readthedocs.io/en/latest/notes/installation.html\n",
      "  warnings.warn(\"Please install pytorch geometric if you \" +\n"
     ]
    }
   ],
   "source": [
    "from deeprobust.graph.defense import GCN, ProGNN"
   ]
  },
  {
   "cell_type": "code",
   "execution_count": 18,
   "metadata": {},
   "outputs": [],
   "source": [
    "from dataclasses import dataclass\n",
    "\n",
    "@dataclass\n",
    "class ProGNNArgs:\n",
    "    symmetric: bool\n",
    "    lr: float\n",
    "    weight_decay: float\n",
    "    lr_adj: float\n",
    "    alpha: float\n",
    "    beta: float\n",
    "    epochs: int\n",
    "    only_gcn: bool\n",
    "    outer_steps: int\n",
    "    inner_steps: int\n",
    "    debug: bool\n",
    "    lambda_: float\n",
    "    gamma: float\n",
    "    phi: float\n",
    "\n",
    "prognn_args = ProGNNArgs(\n",
    "    symmetric=False,\n",
    "    lr=0.01,\n",
    "    weight_decay=5e-4,\n",
    "    lr_adj=0.01,\n",
    "    alpha=5e-4,\n",
    "    beta=1.5,\n",
    "    epochs=400,\n",
    "    only_gcn=False,\n",
    "    outer_steps=1,\n",
    "    inner_steps=2,\n",
    "    debug=False,\n",
    "    lambda_=0,\n",
    "    gamma=1,\n",
    "    phi=0\n",
    ")"
   ]
  },
  {
   "cell_type": "code",
   "execution_count": 19,
   "metadata": {},
   "outputs": [
    {
     "name": "stderr",
     "output_type": "stream",
     "text": [
      "/home/vtenorio/.local/lib/python3.8/site-packages/deeprobust/graph/defense/prognn.py:75: UserWarning: If you find the nuclear proximal operator runs too slow, you can modify line 77 to use prox_operators.prox_nuclear_cuda instead of prox_operators.prox_nuclear to perform the proximal on GPU. See details in https://github.com/ChandlerBang/Pro-GNN/issues/1\n",
      "  warnings.warn(\"If you find the nuclear proximal operator runs too slow, you can modify line 77 to use prox_operators.prox_nuclear_cuda instead of prox_operators.prox_nuclear to perform the proximal on GPU. See details in https://github.com/ChandlerBang/Pro-GNN/issues/1\")\n"
     ]
    },
    {
     "data": {
      "text/plain": [
       "0.5135135135135136"
      ]
     },
     "execution_count": 19,
     "metadata": {},
     "output_type": "execute_result"
    }
   ],
   "source": [
    "# Pro-GNN\n",
    "model = GCN(nfeat=in_dim,\n",
    "            nhid=hid_dim,\n",
    "            nclass=n_class,\n",
    "            dropout=0.5, device=device)\n",
    "\n",
    "prognn = ProGNN(model, prognn_args, device)\n",
    "prognn.fit(feat, Sn, labels, masks['train'], masks['val'])\n",
    "prognn.test(feat, labels, masks['test'])"
   ]
  },
  {
   "cell_type": "markdown",
   "metadata": {},
   "source": [
    "# Exhaustive Tests"
   ]
  },
  {
   "cell_type": "code",
   "execution_count": 20,
   "metadata": {},
   "outputs": [],
   "source": [
    "EXPS = [\n",
    "    {\n",
    "        \"dataset\": \"Cornell\",\n",
    "        \"layer\": \"GCNH\",\n",
    "        \"legend\": \"Cornell-GCNH\",\n",
    "        \"fmt\": \"v-\"\n",
    "    },\n",
    "    {\n",
    "        \"dataset\": \"Texas\",\n",
    "        \"layer\": \"GCNH\",\n",
    "        \"legend\": \"Texas-GCNH\",\n",
    "        \"fmt\": \"d-\"\n",
    "    },\n",
    "    {\n",
    "        \"dataset\": \"Wisconsin\",\n",
    "        \"layer\": \"GCNH\",\n",
    "        \"legend\": \"Wisconsin-GCNH\",\n",
    "        \"fmt\": \"s-\"\n",
    "    },\n",
    "#     {\n",
    "#         \"dataset\": \"Cora\",\n",
    "#         \"layer\": \"GCNH\",\n",
    "#         \"legend\": \"Cora-GCNH\",\n",
    "#         \"fmt\": \"o-\"\n",
    "#     },\n",
    "    {\n",
    "        \"dataset\": \"Cornell\",\n",
    "        \"layer\": \"RGFGCN-M1\",\n",
    "        \"legend\": \"Cornell-RGCNH-M1\",\n",
    "        \"fmt\": \"v-\"\n",
    "    },\n",
    "    {\n",
    "        \"dataset\": \"Texas\",\n",
    "        \"layer\": \"RGFGCN-M1\",\n",
    "        \"legend\": \"Texas-RGCNH-M1\",\n",
    "        \"fmt\": \"d-\"\n",
    "    },\n",
    "    {\n",
    "        \"dataset\": \"Wisconsin\",\n",
    "        \"layer\": \"RGFGCN-M1\",\n",
    "        \"legend\": \"Wisconsin-RGCNH-M1\",\n",
    "        \"fmt\": \"s-\"\n",
    "    },\n",
    "#     {\n",
    "#         \"dataset\": \"Cora\",\n",
    "#         \"layer\": \"RGFGCN-M1\",\n",
    "#         \"legend\": \"Cora-RGCNH-M1\",\n",
    "#         \"fmt\": \"o-\"\n",
    "#     },\n",
    "#     {\n",
    "#         \"dataset\": \"Cornell\",\n",
    "#         \"layer\": \"RGFGCN-M2\",\n",
    "#         \"legend\": \"Cornell-RGCNH-M2\",\n",
    "#         \"fmt\": \"v-\"\n",
    "#     },\n",
    "#     {\n",
    "#         \"dataset\": \"Texas\",\n",
    "#         \"layer\": \"RGFGCN-M2\",\n",
    "#         \"legend\": \"Texas-RGCNH-M2\",\n",
    "#         \"fmt\": \"d-\"\n",
    "#     },\n",
    "#     {\n",
    "#         \"dataset\": \"Wisconsin\",\n",
    "#         \"layer\": \"RGFGCN-M2\",\n",
    "#         \"legend\": \"Wisconsin-RGCNH-M2\",\n",
    "#         \"fmt\": \"s-\"\n",
    "#     },\n",
    "#     {\n",
    "#         \"dataset\": \"Cora\",\n",
    "#         \"layer\": \"RGFGCN-M2\",\n",
    "#         \"legend\": \"Cora-RGCNH-M2\",\n",
    "#         \"fmt\": \"o-\"\n",
    "#     },\n",
    "#     {\n",
    "#         \"dataset\": \"Cornell\",\n",
    "#         \"layer\": \"GCNN\",\n",
    "#         \"legend\": \"Cornell-GCNN\",\n",
    "#         \"fmt\": \"v-\"\n",
    "#     },\n",
    "#     {\n",
    "#         \"dataset\": \"Texas\",\n",
    "#         \"layer\": \"GCNN\",\n",
    "#         \"legend\": \"Texas-GCNN\",\n",
    "#         \"fmt\": \"d-\"\n",
    "#     },\n",
    "#     {\n",
    "#         \"dataset\": \"Wisconsin\",\n",
    "#         \"layer\": \"GCNN\",\n",
    "#         \"legend\": \"Wisconsin-GCNN\",\n",
    "#         \"fmt\": \"s-\"\n",
    "#     },\n",
    "#     {\n",
    "#         \"dataset\": \"Cora\",\n",
    "#         \"layer\": \"GCNN\",\n",
    "#         \"legend\": \"Cora-GCNN\",\n",
    "#         \"fmt\": \"o-\"\n",
    "#     },\n",
    "#     {\n",
    "#         \"dataset\": \"Cornell\",\n",
    "#         \"layer\": \"ProGNN\",\n",
    "#         \"legend\": \"Cornell-ProGNN\",\n",
    "#         \"fmt\": \"v-\"\n",
    "#     },\n",
    "#     {\n",
    "#         \"dataset\": \"Texas\",\n",
    "#         \"layer\": \"ProGNN\",\n",
    "#         \"legend\": \"Texas-ProGNN\",\n",
    "#         \"fmt\": \"d-\"\n",
    "#     },\n",
    "#     {\n",
    "#         \"dataset\": \"Wisconsin\",\n",
    "#         \"layer\": \"ProGNN\",\n",
    "#         \"legend\": \"Wisconsin-ProGNN\",\n",
    "#         \"fmt\": \"s-\"\n",
    "#     },\n",
    "#     {\n",
    "#         \"dataset\": \"Cora\",\n",
    "#         \"layer\": \"ProGNN\",\n",
    "#         \"legend\": \"Cora-ProGNN\",\n",
    "#         \"fmt\": \"o-\"\n",
    "#     },\n",
    "#     {\n",
    "#         \"dataset\": \"Cornell\",\n",
    "#         \"layer\": \"GAT\",\n",
    "#         \"legend\": \"Cornell-GAT\",\n",
    "#         \"fmt\": \"v-\"\n",
    "#     },\n",
    "#     {\n",
    "#         \"dataset\": \"Texas\",\n",
    "#         \"layer\": \"GAT\",\n",
    "#         \"legend\": \"Texas-GAT\",\n",
    "#         \"fmt\": \"d-\"\n",
    "#     },\n",
    "#     {\n",
    "#         \"dataset\": \"Wisconsin\",\n",
    "#         \"layer\": \"GAT\",\n",
    "#         \"legend\": \"Wisconsin-GAT\",\n",
    "#         \"fmt\": \"s-\"\n",
    "#     },\n",
    "#     {\n",
    "#         \"dataset\": \"Cora\",\n",
    "#         \"layer\": \"GAT\",\n",
    "#         \"legend\": \"Cora-GAT\",\n",
    "#         \"fmt\": \"o-\"\n",
    "#     },\n",
    "    # {\n",
    "    #     \"dataset\": \"Cornell\",\n",
    "    #     \"layer\": \"MLP\",\n",
    "    #     \"legend\": \"Cornell-MLP\",\n",
    "    #     \"fmt\": \"v-.\"\n",
    "    # },\n",
    "    # {\n",
    "    #     \"dataset\": \"Texas\",\n",
    "    #     \"layer\": \"MLP\",\n",
    "    #     \"legend\": \"Texas-MLP\",\n",
    "    #     \"fmt\": \"d-.\"\n",
    "    # },\n",
    "    # {\n",
    "    #     \"dataset\": \"Wisconsin\",\n",
    "    #     \"layer\": \"MLP\",\n",
    "    #     \"legend\": \"Wisconsin-MLP\",\n",
    "    #     \"fmt\": \"s-.\"\n",
    "    # },\n",
    "]"
   ]
  },
  {
   "cell_type": "code",
   "execution_count": 21,
   "metadata": {},
   "outputs": [],
   "source": [
    "# EXPS = [\n",
    "#     {\n",
    "#         \"dataset\": \"Cornell\",\n",
    "#         \"layer\": \"ProGNN\",\n",
    "#         \"legend\": \"Cornell-RGCNH-M2\",\n",
    "#         \"fmt\": \"v-\"\n",
    "#     },\n",
    "#     {\n",
    "#         \"dataset\": \"Texas\",\n",
    "#         \"layer\": \"RGFGCN-M2\",\n",
    "#         \"legend\": \"Texas-RGCNH-M2\",\n",
    "#         \"fmt\": \"d-\"\n",
    "#     },\n",
    "# ]"
   ]
  },
  {
   "cell_type": "code",
   "execution_count": null,
   "metadata": {},
   "outputs": [
    {
     "name": "stdout",
     "output_type": "stream",
     "text": [
      "Starting pert 0.0 - n_p 0.0 of exp Cornell - GCNH: 1 2 3 4 5 6 7 8 9 10 11 12 13 14 15 16 17 18 19 20 21 22 23 24 25 26 27 28 29 30 DONE - Accuracy Test: 0.69099\n",
      "Starting pert 0.0 - n_p 0.0 of exp Texas - GCNH: 1 2 3 4 5 6 7 8 9 10 11 12 13 14 15 16 17 18 19 20 21 22 23 24 25 26 27 28 29 30 DONE - Accuracy Test: 0.76126\n",
      "Starting pert 0.0 - n_p 0.0 of exp Wisconsin - GCNH: 1 2 3 4 5 6 7 8 9 10 11 12 13 14 15 16 17 18 19 20 21 22 23 24 25 26 27 28 29 30 DONE - Accuracy Test: 0.75556\n",
      "Starting pert 0.0 - n_p 0.0 of exp Cornell - RGFGCN-M1: 1 2 3 4 5 6 7 8 9 10 11 12 13 14 15 16 17 18 19 20 21 22 23 24 25 26 27 28 29 30 DONE - Accuracy Test: 0.71982\n",
      "Starting pert 0.0 - n_p 0.0 of exp Texas - RGFGCN-M1: 1 2 3 4 5 6 7 8 9 10 11 12 13 14 15 16 17 18 19 20 21 22 23 24 25 26 27 28 29 30 DONE - Accuracy Test: 0.79009\n",
      "Starting pert 0.0 - n_p 0.0 of exp Wisconsin - RGFGCN-M1: 1 2 3 4 5 6 7 8 9 10 11 12 13 14 15 16 17 18 19 20 21 22 23 24 25 26 27 28 29 30 DONE - Accuracy Test: 0.78170\n",
      "Starting pert 0.0 - n_p 0.033 of exp Cornell - GCNH: 1 2 3 4 5 6 7 8 9 10 11 12 13 14 15 16 17 18 19 20 21 22 23 24 25 26 27 28 29 30 DONE - Accuracy Test: 0.68108\n",
      "Starting pert 0.0 - n_p 0.033 of exp Texas - GCNH: 1 2 3 4 5 6 7 8 9 10 11 12 13 14 15 16 17 18 19 20 21 22 23 24 25 26 27 28 29 30 DONE - Accuracy Test: 0.76757\n",
      "Starting pert 0.0 - n_p 0.033 of exp Wisconsin - GCNH: 1 2 3 4 5 6 7 8 9 10 11 12 13 14 15 16 17 18 19 20 21 22 23 24 25 26 27 28 29 30 DONE - Accuracy Test: 0.76275\n",
      "Starting pert 0.0 - n_p 0.033 of exp Cornell - RGFGCN-M1: 1 2 3 4 5 6 7 8 9 10 11 12 13 14 15 16 17 18 19 20 21 22 23 24 25 26 27 28 29 30 DONE - Accuracy Test: 0.72613\n",
      "Starting pert 0.0 - n_p 0.033 of exp Texas - RGFGCN-M1: 1 2 3 4 5 6 7 8 9 10 11 12 13 14 15 16 17 18 19 20 21 22 23 24 25 26 27 28 29 30 DONE - Accuracy Test: 0.78829\n",
      "Starting pert 0.0 - n_p 0.033 of exp Wisconsin - RGFGCN-M1: 1 2 3 4 5 6 7 8 9 10 11 12 13 14 15 16 17 18 19 20 21 22 23 24 25 26 27 28 29 30 DONE - Accuracy Test: 0.78235\n",
      "Starting pert 0.0 - n_p 0.066 of exp Cornell - GCNH: 1 2 3 4 5 6 7 8 9 10 11 12 13 14 15 16 17 18 19 20 21 22 23 24 25 26 27 28 29 30 DONE - Accuracy Test: 0.69640\n",
      "Starting pert 0.0 - n_p 0.066 of exp Texas - GCNH: 1 2 3 4 5 6 7 8 9 10 11 12 13 14 15 16 17 18 19 20 21 22 23 24 25 26 27 28 29 30 DONE - Accuracy Test: 0.75766\n",
      "Starting pert 0.0 - n_p 0.066 of exp Wisconsin - GCNH: 1 2 3 4 5 6 7 8 9 10 11 12 13 14 15 16 17 18 19 20 21 22 23 24 25 26 27 28 29 30 DONE - Accuracy Test: 0.76340\n",
      "Starting pert 0.0 - n_p 0.066 of exp Cornell - RGFGCN-M1: 1 2 3 4 5 6 7 8 9 10 11 12 13 14 15 16 17 18 19 20 21 22 23 24 25 26 27 28 29 30 DONE - Accuracy Test: 0.71261\n",
      "Starting pert 0.0 - n_p 0.066 of exp Texas - RGFGCN-M1: 1 2 3 4 5 6 7 8 9 10 11 12 13 14 15 16 17 18 19 20 21 22 23 24 25 26 27 28 29 30 DONE - Accuracy Test: 0.79640\n",
      "Starting pert 0.0 - n_p 0.066 of exp Wisconsin - RGFGCN-M1: 1 2 3 4 5 6 7 8 9 10 11 12 13 14 15 16 17 18 19 20 21 22 23 24 25 26 27 28 29 30 DONE - Accuracy Test: 0.78170\n",
      "Starting pert 0.0 - n_p 0.1 of exp Cornell - GCNH: 1 2 3 4 5 6 7 8 9 10 11 12 13 14 15 16 17 18 19 20 21 22 23 24 25 26 27 28 29 30 DONE - Accuracy Test: 0.69459\n",
      "Starting pert 0.0 - n_p 0.1 of exp Texas - GCNH: 1 2 3 4 5 6 7 8 9 10 11 12 13 14 15 16 17 18 19 20 21 22 23 24 25 26 27 28 29 30 DONE - Accuracy Test: 0.76216\n",
      "Starting pert 0.0 - n_p 0.1 of exp Wisconsin - GCNH: 1 2 3 4 5 6 7 8 9 10 11 12 13 14 15 16 17 18 19 20 21 22 23 24 25 26 27 28 29 30 DONE - Accuracy Test: 0.75556\n",
      "Starting pert 0.0 - n_p 0.1 of exp Cornell - RGFGCN-M1: 1 2 3 4 5 6 7 8 9 10 11 12 13 14 15 16 17 18 19 20 21 22 23 24 25 26 27 28 29 30 DONE - Accuracy Test: 0.71261\n",
      "Starting pert 0.0 - n_p 0.1 of exp Texas - RGFGCN-M1: 1 2 3 4 5 6 7 8 9 10 11 12 13 14 15 16 17 18 19 20 21 22 23 24 25 26 27 28 29 30 DONE - Accuracy Test: 0.79009\n",
      "Starting pert 0.0 - n_p 0.1 of exp Wisconsin - RGFGCN-M1: 1 2 3 4 5 6 7 8 9 10 11 12 13 14 15 "
     ]
    }
   ],
   "source": [
    "#perts = [0., 0.01, 0.02, 0.05, 0.15]\n",
    "perts = [0., 0.033, 0.066, 0.1]\n",
    "n_ps = [0., 0.033, 0.066, 0.1]\n",
    "\n",
    "\n",
    "n_graphs = 30\n",
    "n_graphs_cora = 2\n",
    "\n",
    "accs_test = np.zeros((n_graphs, len(EXPS), len(perts), len(n_ps)))\n",
    "errs_S = np.zeros((n_graphs, len(EXPS), len(perts), len(n_ps)))\n",
    "for i, p in enumerate(perts):\n",
    "    for j, n_p in enumerate(n_ps):\n",
    "\n",
    "        for k, exp in enumerate(EXPS):\n",
    "\n",
    "            print(f\"Starting pert {p} - n_p {n_p} of exp {exp['dataset']} - {exp['layer']}: \", end=\"\")\n",
    "\n",
    "            if \"Cora\" in exp['dataset']:\n",
    "                n_graphs_exp = n_graphs_cora\n",
    "            else:\n",
    "                n_graphs_exp = n_graphs\n",
    "\n",
    "            for n in range(n_graphs):\n",
    "\n",
    "                #if exp['dataset'] == \"Cornell\" or exp['dataset'] == \"Texas\" or exp['dataset'] == \"Wisconsin\": # TODO: Implement cross validation properly\n",
    "                idx = n % 10\n",
    "                S, feat, labels, n_class, masks = get_data_dgl(exp['dataset'] + \"Dataset\", dev=device, idx=idx)\n",
    "                    \n",
    "                print(f\"{n+1} \", end=\"\")\n",
    "                \n",
    "                Sn = pert_S(S.copy(), type=\"rewire_nonsym\", eps=p, n_p_white=n_p)\n",
    "                if p == 0. and n_p == 0.:\n",
    "                    assert np.all(Sn == S)\n",
    "\n",
    "                g = from_networkx(from_numpy_array(Sn.copy())).add_self_loop().to(device)\n",
    "\n",
    "                S = torch.Tensor(S).to(device)\n",
    "                Sn = torch.Tensor(Sn).to(device)\n",
    "\n",
    "                if exp['layer'] == \"GCNH\":\n",
    "                    # model.n_iters_H = 50\n",
    "                    # _, _, acc_test, _ = model.stepH(\n",
    "                    #     feat, labels, masks['train'], masks['val'], masks['test'], verbose=False\n",
    "                    # )\n",
    "                    model = GCNH(Sn.clone(), **model_params).to(device)\n",
    "\n",
    "                    # model training\n",
    "                    loss_train, acc_train, acc_test, best_acc_val, best_acc_test = test_gcnh(model, g, feat, labels, masks['train'], masks['val'], masks['test'], n_epochs, lr, wd, es_patience_gcnh, False)\n",
    "                    err_S = torch.linalg.norm(S - Sn) / torch.linalg.norm(S)\n",
    "                elif exp['layer'] == \"RGFGCN-M1\":\n",
    "                    #S_init = torch.zeros(S.shape, device=device)\n",
    "                    S_init = Sn.clone()\n",
    "                    model = RobustGNNModel1(S_init, n_iters_H, lr, wd, lr_S, eval_freq, model_params,\n",
    "                                            n_iters, n_iters_S, problem_type=\"clas\", loss_fn=nn.NLLLoss)\n",
    "                    model.model = model.model.to(device)\n",
    "                    results_dict, S_dict = model.test_model(Sn, feat, labels, gamma, lambd, beta,\n",
    "                                                                train_idx=masks['train'], val_idx=masks['val'], test_idx=masks['test'],\n",
    "                                                                norm_S=False, S_true=S, es_patience=es_patience_rgcnh, verbose=False\n",
    "                                                        )\n",
    "                    best_acc_test = results_dict['best_acc_test']\n",
    "                    best_acc_val = results_dict['best_acc_val']\n",
    "                    err_S = S_dict['best_err_S']\n",
    "                elif exp['layer'] == \"RGFGCN-M2\":\n",
    "                    #S_init = torch.zeros(S.shape, device=device)\n",
    "                    S_init = Sn.clone()\n",
    "                    model = RobustGNNModel2(S_init, n_iters_H, lr, wd, lr_S, eval_freq, model_params_m2,\n",
    "                                            n_iters, n_iters_S, problem_type=\"clas\", loss_fn=nn.NLLLoss)\n",
    "                    model.model = model.model.to(device)\n",
    "                    results_dict, S_dict = model.test_model(Sn, feat, labels, gamma, lambd, beta,\n",
    "                                                                train_idx=masks['train'], val_idx=masks['val'], test_idx=masks['test'],\n",
    "                                                                norm_S=False, S_true=S, es_patience=es_patience_rgcnh, verbose=False\n",
    "                                                        )\n",
    "                    best_acc_test = results_dict['best_acc_test']\n",
    "                    best_acc_val = results_dict['best_acc_val']\n",
    "                    err_S = S_dict['best_err_S']\n",
    "                elif exp['layer'] == \"MLP\":\n",
    "                    model = MLP(in_dim, hid_dim, out_dim).to(device)\n",
    "\n",
    "                    # model training\n",
    "                    loss_train, acc_train, acc_test, best_acc_val, best_acc_test = test_gcnh(model, g, feat, labels, masks['train'], masks['val'], masks['test'], n_epochs, lr, wd, es_patience_gcnh, False)\n",
    "                    err_S = torch.linalg.norm(S - Sn) / torch.linalg.norm(S)\n",
    "\n",
    "                elif exp['layer'] == \"GCNN\":\n",
    "                    model = GCNN(in_dim, hid_dim, out_dim).to(device)\n",
    "\n",
    "                    # model training\n",
    "                    loss_train, acc_train, acc_test, best_acc_val, best_acc_test = test_gcnh(model, g, feat, labels, masks['train'], masks['val'], masks['test'], n_epochs, lr, wd, es_patience_gcnh, False)\n",
    "                    err_S = torch.linalg.norm(S - Sn) / torch.linalg.norm(S)\n",
    "                elif exp['layer'] == \"GAT\":\n",
    "                    model = GAT(in_dim, hid_dim_gat, out_dim, num_heads, gat_params).to(device)\n",
    "\n",
    "                    # model training\n",
    "                    loss_train, acc_train, acc_test, best_acc_val, best_acc_test = test_gcnh(model, g, feat, labels, masks['train'], masks['val'], masks['test'], n_epochs, lr, wd, es_patience_gcnh, False)\n",
    "                    err_S = torch.linalg.norm(S - Sn) / torch.linalg.norm(S)\n",
    "                elif exp['layer'] == \"ProGNN\":\n",
    "                    model = GCN(nfeat=in_dim,\n",
    "                                nhid=hid_dim,\n",
    "                                nclass=n_class,\n",
    "                                dropout=0.5, device=device)\n",
    "\n",
    "                    prognn = ProGNN(model, prognn_args, device)\n",
    "                    prognn.fit(feat, Sn, labels, masks['train'], masks['val'])\n",
    "                    best_acc_test = prognn.test(feat, labels, masks['test'])\n",
    "                    err_S = torch.linalg.norm(S - Sn) / torch.linalg.norm(S)\n",
    "                #print(acc_test[-1], end=\" \")\n",
    "                accs_test[n, k, i, j] = best_acc_test\n",
    "                errs_S[n, k, i, j] = err_S\n",
    "            print(f\"DONE - Accuracy Test: {np.mean(accs_test, 0)[k, i, j]:.5f}\")"
   ]
  },
  {
   "cell_type": "code",
   "execution_count": null,
   "metadata": {},
   "outputs": [],
   "source": [
    "datasets = [\"Cornell\", \"Texas\", \"Wisconsin\"]\n",
    "\n",
    "fig, ax = plt.subplots(2,3,figsize=(12,8))\n",
    "\n",
    "for i, exp in enumerate(EXPS):\n",
    "    idx = datasets.index(exp[\"dataset\"])\n",
    "    idx_exp = 0 if exp['layer'] == 'GCNH' else 1\n",
    "    im = ax[idx_exp, idx].imshow(np.mean(accs_test, 0)[i,:,:])\n",
    "    \n",
    "fig.subplots_adjust(right=0.8)\n",
    "cbar_ax = fig.add_axes([0.85, 0.15, 0.05, 0.7])\n",
    "fig.colorbar(im, cax=cbar_ax)\n"
   ]
  },
  {
   "cell_type": "code",
   "execution_count": null,
   "metadata": {},
   "outputs": [],
   "source": [
    "for i, exp in enumerate(EXPS):\n",
    "    plt.plot(perts, accs_test.mean(0)[i,:], exp[\"fmt\"], label=exp[\"legend\"])\n",
    "\n",
    "plt.xlabel(\"Percentage of links modified\", fontsize=12)\n",
    "plt.ylabel(\"Accuracy over the test dataset\", fontsize=12)\n",
    "plt.title(\"Effect of perturbations on the performance of a GNN\", fontsize=16)\n",
    "plt.legend()\n",
    "plt.grid()"
   ]
  },
  {
   "cell_type": "code",
   "execution_count": null,
   "metadata": {},
   "outputs": [],
   "source": [
    "datasets = [\"Cornell\", \"Texas\", \"Wisconsin\"]\n",
    "\n",
    "f, ax = plt.subplots(1,len(datasets), figsize=(12,6))\n",
    "\n",
    "for i, exp in enumerate(EXPS):\n",
    "    idx = datasets.index(exp[\"dataset\"])\n",
    "    ax[idx].plot(perts, accs_test.mean(0)[i,:], exp[\"fmt\"], label=exp[\"legend\"])\n",
    "\n",
    "for i, d in enumerate(datasets):\n",
    "    ax[i].set_title(d)\n",
    "    ax[i].set_xlabel(\"Percentage of links modified\")\n",
    "\n",
    "f.legend()"
   ]
  },
  {
   "cell_type": "code",
   "execution_count": null,
   "metadata": {},
   "outputs": [],
   "source": [
    "if False:\n",
    "    with open('results/20231023-gaussian.csv', 'w') as f:\n",
    "        f.write(\"Pert;\" + ';'.join([exp['legend'] for exp in EXPS]) + \"\\n\")\n",
    "        for i in range(len(perts)):\n",
    "            f.write(str(perts[i]) + ';' + ';'.join([str(accs_test.mean(0)[j,i]) for j in range(len(EXPS))]) + '\\n')"
   ]
  },
  {
   "cell_type": "code",
   "execution_count": null,
   "metadata": {},
   "outputs": [],
   "source": [
    "for i, exp in enumerate(EXPS):\n",
    "    plt.plot(perts, errs_S.mean(0)[i,:], exp[\"fmt\"], label=exp[\"legend\"])\n",
    "\n",
    "plt.xlabel(\"Percentage of links modified\", fontsize=12)\n",
    "plt.ylabel(\"Error on the recovered S\", fontsize=12)\n",
    "plt.title(\"Effect of perturbations on the graph denoising\", fontsize=16)\n",
    "plt.legend()\n",
    "plt.grid()"
   ]
  },
  {
   "cell_type": "code",
   "execution_count": null,
   "metadata": {},
   "outputs": [],
   "source": []
  }
 ],
 "metadata": {
  "kernelspec": {
   "display_name": "Python 3 (ipykernel)",
   "language": "python",
   "name": "python3"
  },
  "language_info": {
   "codemirror_mode": {
    "name": "ipython",
    "version": 3
   },
   "file_extension": ".py",
   "mimetype": "text/x-python",
   "name": "python",
   "nbconvert_exporter": "python",
   "pygments_lexer": "ipython3",
   "version": "3.8.10"
  }
 },
 "nbformat": 4,
 "nbformat_minor": 4
}
