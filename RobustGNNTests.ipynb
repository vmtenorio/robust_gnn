{
 "cells": [
  {
   "cell_type": "code",
   "execution_count": 14,
   "metadata": {},
   "outputs": [],
   "source": [
    "import dgl\n",
    "\n",
    "import torch\n",
    "import torch.nn as nn\n",
    "\n",
    "import pytorch_lightning as pl\n",
    "\n",
    "import networkx as nx\n",
    "\n",
    "from data import pert_S\n",
    "\n",
    "from arch.model import Model1, Model2\n",
    "\n",
    "from dgl.nn import GATConv, GraphConv\n",
    "\n",
    "import numpy as np\n",
    "\n",
    "import matplotlib.pyplot as plt"
   ]
  },
  {
   "cell_type": "code",
   "execution_count": 15,
   "metadata": {},
   "outputs": [],
   "source": [
    "device = torch.device('cuda:1' if torch.cuda.is_available() else 'cpu')"
   ]
  },
  {
   "cell_type": "code",
   "execution_count": 16,
   "metadata": {},
   "outputs": [],
   "source": [
    "def get_data(dataset_class):\n",
    "    dataset = getattr(dgl.data, dataset_class)(verbose=False)\n",
    "    g = dataset[0]\n",
    "    num_class = dataset.num_classes\n",
    "\n",
    "    # get node feature\n",
    "    feat = g.ndata['feat'].to(device)\n",
    "\n",
    "    # get data split\n",
    "    train_mask = g.ndata['train_mask'].to(device)\n",
    "    val_mask = g.ndata['val_mask'].to(device)\n",
    "    test_mask = g.ndata['test_mask'].to(device)\n",
    "\n",
    "    # get labels\n",
    "    label = g.ndata['label'].to(device)\n",
    "    N = g.number_of_nodes()\n",
    "    n_feat = feat.shape[1]\n",
    "\n",
    "    S = g.adj().to_dense().numpy()\n",
    "\n",
    "    return S, feat, label, n_feat, num_class, train_mask, val_mask, test_mask"
   ]
  },
  {
   "cell_type": "code",
   "execution_count": 17,
   "metadata": {},
   "outputs": [],
   "source": [
    "S, feat, label, n_feat, num_class, train_mask, val_mask, test_mask = get_data(\"CoraGraphDataset\")"
   ]
  },
  {
   "cell_type": "code",
   "execution_count": 18,
   "metadata": {},
   "outputs": [],
   "source": [
    "n_epochs = 50\n",
    "lr = 5e-3\n",
    "wd = 5e-4\n",
    "eval_freq = 50\n",
    "\n",
    "n_iters = 50\n",
    "\n",
    "hid_dim = 16\n",
    "n_layers = 2\n",
    "model_params = {\n",
    "    'in_dim': n_feat,\n",
    "    'hid_dim': hid_dim,\n",
    "    'out_dim': num_class,\n",
    "    'n_layers': n_layers,\n",
    "    'K': 4\n",
    "}\n",
    "\n",
    "model_params_m2 = {\n",
    "    'in_dim': n_feat,\n",
    "    'hid_dim': hid_dim,\n",
    "    'out_dim': num_class,\n",
    "    'n_layers': n_layers\n",
    "}\n",
    "\n",
    "gamma = 0.1\n",
    "beta = 0.01\n",
    "lambd = 0.1"
   ]
  },
  {
   "cell_type": "code",
   "execution_count": 19,
   "metadata": {},
   "outputs": [],
   "source": [
    "Sn = torch.Tensor(pert_S(S, eps=0.1)).to(device)"
   ]
  },
  {
   "cell_type": "code",
   "execution_count": 20,
   "metadata": {},
   "outputs": [
    {
     "name": "stdout",
     "output_type": "stream",
     "text": [
      "Epoch 1/50 - Loss: 838.90966796875 - Train Acc: 0.02857142857142857 - Test Acc: 0.107\n",
      "Epoch 50/50 - Loss: 19.301616668701172 - Train Acc: 0.6642857142857143 - Test Acc: 0.542\n",
      "Iteration 1 DONE - Acc Test: 0.542 - Err Sn: 1.0\n",
      "Epoch 1/50 - Loss: 1.9063513278961182 - Train Acc: 0.2714285714285714 - Test Acc: 0.206\n",
      "Epoch 50/50 - Loss: 1.9027690887451172 - Train Acc: 0.2785714285714286 - Test Acc: 0.204\n",
      "Iteration 2 DONE - Acc Test: 0.204 - Err Sn: 0.9000000357627869\n",
      "Epoch 1/50 - Loss: 1.8164821863174438 - Train Acc: 0.3357142857142857 - Test Acc: 0.263\n",
      "Epoch 50/50 - Loss: 1.7999110221862793 - Train Acc: 0.3357142857142857 - Test Acc: 0.262\n",
      "Iteration 3 DONE - Acc Test: 0.262 - Err Sn: 0.8100000619888306\n",
      "Epoch 1/50 - Loss: 2.162832498550415 - Train Acc: 0.4 - Test Acc: 0.321\n",
      "Epoch 50/50 - Loss: 1.4040088653564453 - Train Acc: 0.4714285714285714 - Test Acc: 0.384\n",
      "Iteration 4 DONE - Acc Test: 0.384 - Err Sn: 0.7200000286102295\n",
      "Epoch 1/50 - Loss: 1.2160565853118896 - Train Acc: 0.5285714285714286 - Test Acc: 0.474\n",
      "Epoch 50/50 - Loss: 0.9596535563468933 - Train Acc: 0.65 - Test Acc: 0.543\n",
      "Iteration 5 DONE - Acc Test: 0.543 - Err Sn: 0.6300000548362732\n",
      "Epoch 1/50 - Loss: 1.0250433683395386 - Train Acc: 0.6071428571428571 - Test Acc: 0.569\n",
      "Epoch 50/50 - Loss: 0.8055952787399292 - Train Acc: 0.6928571428571428 - Test Acc: 0.553\n",
      "Iteration 6 DONE - Acc Test: 0.553 - Err Sn: 0.5399999618530273\n",
      "Epoch 1/50 - Loss: 1.0819499492645264 - Train Acc: 0.7142857142857143 - Test Acc: 0.574\n",
      "Epoch 50/50 - Loss: 0.802280843257904 - Train Acc: 0.7785714285714286 - Test Acc: 0.564\n",
      "Iteration 7 DONE - Acc Test: 0.564 - Err Sn: 0.45000001788139343\n",
      "Epoch 1/50 - Loss: 1.2388057708740234 - Train Acc: 0.7642857142857142 - Test Acc: 0.574\n",
      "Epoch 50/50 - Loss: 0.7994537949562073 - Train Acc: 0.8214285714285714 - Test Acc: 0.584\n",
      "Iteration 8 DONE - Acc Test: 0.584 - Err Sn: 0.35999998450279236\n",
      "Epoch 1/50 - Loss: 1.2940868139266968 - Train Acc: 0.8 - Test Acc: 0.581\n",
      "Epoch 50/50 - Loss: 0.6417762041091919 - Train Acc: 0.8642857142857143 - Test Acc: 0.564\n",
      "Iteration 9 DONE - Acc Test: 0.564 - Err Sn: 0.2699999511241913\n",
      "Epoch 1/50 - Loss: 1.0734996795654297 - Train Acc: 0.85 - Test Acc: 0.575\n",
      "Epoch 50/50 - Loss: 0.27578476071357727 - Train Acc: 0.9428571428571428 - Test Acc: 0.558\n",
      "Iteration 10 DONE - Acc Test: 0.558 - Err Sn: 0.17999988794326782\n",
      "Epoch 1/50 - Loss: 0.5056769847869873 - Train Acc: 0.9214285714285714 - Test Acc: 0.554\n",
      "Epoch 50/50 - Loss: 0.09722715616226196 - Train Acc: 0.9714285714285714 - Test Acc: 0.559\n",
      "Iteration 11 DONE - Acc Test: 0.559 - Err Sn: 0.08999986201524734\n",
      "Epoch 1/50 - Loss: 0.15458537638187408 - Train Acc: 0.9642857142857143 - Test Acc: 0.56\n",
      "Epoch 50/50 - Loss: 0.05757766589522362 - Train Acc: 0.9785714285714285 - Test Acc: 0.566\n",
      "Iteration 12 DONE - Acc Test: 0.566 - Err Sn: 1.0\n",
      "Epoch 1/50 - Loss: 1.822131872177124 - Train Acc: 0.35 - Test Acc: 0.231\n",
      "Epoch 50/50 - Loss: 1.7951182126998901 - Train Acc: 0.35714285714285715 - Test Acc: 0.234\n",
      "Iteration 13 DONE - Acc Test: 0.234 - Err Sn: 0.9000000357627869\n",
      "Epoch 1/50 - Loss: 1.6033872365951538 - Train Acc: 0.4642857142857143 - Test Acc: 0.296\n",
      "Epoch 50/50 - Loss: 1.511881709098816 - Train Acc: 0.5428571428571428 - Test Acc: 0.309\n",
      "Iteration 14 DONE - Acc Test: 0.309 - Err Sn: 0.8100000619888306\n",
      "Epoch 1/50 - Loss: 1.2075194120407104 - Train Acc: 0.6428571428571429 - Test Acc: 0.379\n",
      "Epoch 50/50 - Loss: 0.9159882664680481 - Train Acc: 0.7357142857142858 - Test Acc: 0.48\n",
      "Iteration 15 DONE - Acc Test: 0.48 - Err Sn: 0.7200000286102295\n",
      "Epoch 1/50 - Loss: 0.6311454772949219 - Train Acc: 0.8142857142857143 - Test Acc: 0.56\n",
      "Epoch 50/50 - Loss: 0.47903943061828613 - Train Acc: 0.8714285714285714 - Test Acc: 0.568\n",
      "Iteration 16 DONE - Acc Test: 0.568 - Err Sn: 0.6300000548362732\n",
      "Epoch 1/50 - Loss: 0.3501625955104828 - Train Acc: 0.8714285714285714 - Test Acc: 0.608\n",
      "Epoch 50/50 - Loss: 0.2434232383966446 - Train Acc: 0.9214285714285714 - Test Acc: 0.588\n",
      "Iteration 17 DONE - Acc Test: 0.588 - Err Sn: 0.5399999618530273\n",
      "Epoch 1/50 - Loss: 0.19603818655014038 - Train Acc: 0.9214285714285714 - Test Acc: 0.609\n",
      "Epoch 50/50 - Loss: 0.12043767422437668 - Train Acc: 0.9571428571428572 - Test Acc: 0.601\n",
      "Iteration 18 DONE - Acc Test: 0.601 - Err Sn: 0.45000001788139343\n",
      "Epoch 1/50 - Loss: 0.1000763326883316 - Train Acc: 0.9642857142857143 - Test Acc: 0.61\n",
      "Epoch 50/50 - Loss: 0.05929902568459511 - Train Acc: 1.0 - Test Acc: 0.604\n",
      "Iteration 19 DONE - Acc Test: 0.604 - Err Sn: 0.35999998450279236\n",
      "Epoch 1/50 - Loss: 0.0506611131131649 - Train Acc: 0.9928571428571429 - Test Acc: 0.604\n",
      "Epoch 50/50 - Loss: 0.03079100325703621 - Train Acc: 1.0 - Test Acc: 0.596\n",
      "Iteration 20 DONE - Acc Test: 0.596 - Err Sn: 0.2699999511241913\n",
      "Epoch 1/50 - Loss: 0.0291175227612257 - Train Acc: 1.0 - Test Acc: 0.595\n",
      "Epoch 50/50 - Loss: 0.018402839079499245 - Train Acc: 1.0 - Test Acc: 0.594\n",
      "Iteration 21 DONE - Acc Test: 0.594 - Err Sn: 0.17999988794326782\n",
      "Epoch 1/50 - Loss: 0.01640559919178486 - Train Acc: 1.0 - Test Acc: 0.595\n",
      "Epoch 50/50 - Loss: 0.011415364220738411 - Train Acc: 1.0 - Test Acc: 0.591\n",
      "Iteration 22 DONE - Acc Test: 0.591 - Err Sn: 0.08999986201524734\n",
      "Epoch 1/50 - Loss: 0.010481005534529686 - Train Acc: 1.0 - Test Acc: 0.586\n",
      "Epoch 50/50 - Loss: 0.0066758994944393635 - Train Acc: 1.0 - Test Acc: 0.583\n",
      "Iteration 23 DONE - Acc Test: 0.583 - Err Sn: 1.0\n",
      "Epoch 1/50 - Loss: 1.583289623260498 - Train Acc: 0.4714285714285714 - Test Acc: 0.249\n",
      "Epoch 50/50 - Loss: 1.4741986989974976 - Train Acc: 0.5142857142857142 - Test Acc: 0.257\n",
      "Iteration 24 DONE - Acc Test: 0.257 - Err Sn: 0.9000000357627869\n",
      "Epoch 1/50 - Loss: 1.1635814905166626 - Train Acc: 0.6428571428571429 - Test Acc: 0.328\n",
      "Epoch 50/50 - Loss: 0.9706131219863892 - Train Acc: 0.6928571428571428 - Test Acc: 0.361\n",
      "Iteration 25 DONE - Acc Test: 0.361 - Err Sn: 0.8100000619888306\n",
      "Epoch 1/50 - Loss: 0.5743575692176819 - Train Acc: 0.8571428571428571 - Test Acc: 0.483\n",
      "Epoch 50/50 - Loss: 0.41969358921051025 - Train Acc: 0.9214285714285714 - Test Acc: 0.509\n",
      "Iteration 26 DONE - Acc Test: 0.509 - Err Sn: 0.7200000286102295\n",
      "Epoch 1/50 - Loss: 0.22413749992847443 - Train Acc: 0.9357142857142857 - Test Acc: 0.59\n",
      "Epoch 50/50 - Loss: 0.15611663460731506 - Train Acc: 0.9571428571428572 - Test Acc: 0.589\n",
      "Iteration 27 DONE - Acc Test: 0.589 - Err Sn: 0.6300000548362732\n",
      "Epoch 1/50 - Loss: 0.09850805997848511 - Train Acc: 0.9785714285714285 - Test Acc: 0.631\n",
      "Epoch 50/50 - Loss: 0.05615293234586716 - Train Acc: 1.0 - Test Acc: 0.619\n",
      "Iteration 28 DONE - Acc Test: 0.619 - Err Sn: 0.5399999618530273\n",
      "Epoch 1/50 - Loss: 0.03975139185786247 - Train Acc: 1.0 - Test Acc: 0.644\n",
      "Epoch 50/50 - Loss: 0.02098684385418892 - Train Acc: 1.0 - Test Acc: 0.621\n",
      "Iteration 29 DONE - Acc Test: 0.621 - Err Sn: 0.45000001788139343\n",
      "Epoch 1/50 - Loss: 0.014965600334107876 - Train Acc: 1.0 - Test Acc: 0.633\n",
      "Epoch 50/50 - Loss: 0.008211085572838783 - Train Acc: 1.0 - Test Acc: 0.621\n",
      "Iteration 30 DONE - Acc Test: 0.621 - Err Sn: 0.35999998450279236\n",
      "Epoch 1/50 - Loss: 0.007100224494934082 - Train Acc: 1.0 - Test Acc: 0.621\n",
      "Epoch 50/50 - Loss: 0.00390356476418674 - Train Acc: 1.0 - Test Acc: 0.614\n",
      "Iteration 31 DONE - Acc Test: 0.614 - Err Sn: 0.2699999511241913\n",
      "Epoch 1/50 - Loss: 0.003691023215651512 - Train Acc: 1.0 - Test Acc: 0.614\n",
      "Epoch 50/50 - Loss: 0.0025849181693047285 - Train Acc: 1.0 - Test Acc: 0.612\n",
      "Iteration 32 DONE - Acc Test: 0.612 - Err Sn: 0.17999988794326782\n",
      "Epoch 1/50 - Loss: 0.0034386480692774057 - Train Acc: 1.0 - Test Acc: 0.61\n",
      "Epoch 50/50 - Loss: 0.002130355918779969 - Train Acc: 1.0 - Test Acc: 0.604\n",
      "Iteration 33 DONE - Acc Test: 0.604 - Err Sn: 0.08999986201524734\n",
      "Epoch 1/50 - Loss: 0.008126710541546345 - Train Acc: 0.9928571428571429 - Test Acc: 0.6\n",
      "Epoch 50/50 - Loss: 0.21124188601970673 - Train Acc: 0.9928571428571429 - Test Acc: 0.619\n",
      "Iteration 34 DONE - Acc Test: 0.619 - Err Sn: 1.0\n",
      "Epoch 1/50 - Loss: 1.0483554601669312 - Train Acc: 0.6428571428571429 - Test Acc: 0.299\n",
      "Epoch 50/50 - Loss: 0.8571046590805054 - Train Acc: 0.7214285714285714 - Test Acc: 0.316\n",
      "Iteration 35 DONE - Acc Test: 0.316 - Err Sn: 0.9000000357627869\n",
      "Epoch 1/50 - Loss: 0.5469997525215149 - Train Acc: 0.8428571428571429 - Test Acc: 0.379\n",
      "Epoch 50/50 - Loss: 0.36790189146995544 - Train Acc: 0.9071428571428571 - Test Acc: 0.396\n",
      "Iteration 36 DONE - Acc Test: 0.396 - Err Sn: 0.8100000619888306\n",
      "Epoch 1/50 - Loss: 0.16155590116977692 - Train Acc: 0.9642857142857143 - Test Acc: 0.496\n",
      "Epoch 50/50 - Loss: 0.11008688062429428 - Train Acc: 0.9714285714285714 - Test Acc: 0.516\n",
      "Iteration 37 DONE - Acc Test: 0.516 - Err Sn: 0.7200000286102295\n",
      "Epoch 1/50 - Loss: 0.0658353641629219 - Train Acc: 0.9785714285714285 - Test Acc: 0.589\n",
      "Epoch 50/50 - Loss: 0.03934049606323242 - Train Acc: 0.9928571428571429 - Test Acc: 0.595\n",
      "Iteration 38 DONE - Acc Test: 0.595 - Err Sn: 0.6300000548362732\n",
      "Epoch 1/50 - Loss: 0.02402818389236927 - Train Acc: 0.9928571428571429 - Test Acc: 0.627\n",
      "Epoch 50/50 - Loss: 0.016052473336458206 - Train Acc: 1.0 - Test Acc: 0.629\n",
      "Iteration 39 DONE - Acc Test: 0.629 - Err Sn: 0.5399999618530273\n",
      "Epoch 1/50 - Loss: 0.008847358636558056 - Train Acc: 1.0 - Test Acc: 0.65\n",
      "Epoch 50/50 - Loss: 0.006954282522201538 - Train Acc: 1.0 - Test Acc: 0.652\n",
      "Iteration 40 DONE - Acc Test: 0.652 - Err Sn: 0.45000001788139343\n",
      "Epoch 1/50 - Loss: 0.005086000543087721 - Train Acc: 1.0 - Test Acc: 0.652\n",
      "Epoch 50/50 - Loss: 0.0037986773531883955 - Train Acc: 1.0 - Test Acc: 0.655\n",
      "Iteration 41 DONE - Acc Test: 0.655 - Err Sn: 0.35999998450279236\n",
      "Epoch 1/50 - Loss: 0.004444299265742302 - Train Acc: 1.0 - Test Acc: 0.651\n",
      "Epoch 50/50 - Loss: 0.0024885546881705523 - Train Acc: 1.0 - Test Acc: 0.657\n",
      "Iteration 42 DONE - Acc Test: 0.657 - Err Sn: 0.2699999511241913\n",
      "Epoch 1/50 - Loss: 0.008176754228770733 - Train Acc: 1.0 - Test Acc: 0.645\n",
      "Epoch 50/50 - Loss: 0.0018338838126510382 - Train Acc: 1.0 - Test Acc: 0.644\n",
      "Iteration 43 DONE - Acc Test: 0.644 - Err Sn: 0.17999988794326782\n",
      "Epoch 1/50 - Loss: 0.013941299170255661 - Train Acc: 0.9928571428571429 - Test Acc: 0.638\n",
      "Epoch 50/50 - Loss: 0.0010387208312749863 - Train Acc: 1.0 - Test Acc: 0.638\n",
      "Iteration 44 DONE - Acc Test: 0.638 - Err Sn: 0.08999986201524734\n",
      "Epoch 1/50 - Loss: 0.006238141097128391 - Train Acc: 1.0 - Test Acc: 0.626\n",
      "Epoch 50/50 - Loss: 0.0007479257183149457 - Train Acc: 1.0 - Test Acc: 0.632\n",
      "Iteration 45 DONE - Acc Test: 0.632 - Err Sn: 1.0\n",
      "Epoch 1/50 - Loss: 0.6061559915542603 - Train Acc: 0.8142857142857143 - Test Acc: 0.325\n",
      "Epoch 50/50 - Loss: 0.3729769289493561 - Train Acc: 0.9214285714285714 - Test Acc: 0.325\n",
      "Iteration 46 DONE - Acc Test: 0.325 - Err Sn: 0.9000000357627869\n",
      "Epoch 1/50 - Loss: 0.1630912572145462 - Train Acc: 0.9857142857142858 - Test Acc: 0.408\n",
      "Epoch 50/50 - Loss: 0.09501095116138458 - Train Acc: 0.9928571428571429 - Test Acc: 0.41\n",
      "Iteration 47 DONE - Acc Test: 0.41 - Err Sn: 0.8100000619888306\n",
      "Epoch 1/50 - Loss: 0.03148888796567917 - Train Acc: 1.0 - Test Acc: 0.52\n",
      "Epoch 50/50 - Loss: 0.022527797147631645 - Train Acc: 1.0 - Test Acc: 0.525\n",
      "Iteration 48 DONE - Acc Test: 0.525 - Err Sn: 0.7200000286102295\n",
      "Epoch 1/50 - Loss: 0.011859229765832424 - Train Acc: 1.0 - Test Acc: 0.605\n",
      "Epoch 50/50 - Loss: 0.007951607927680016 - Train Acc: 1.0 - Test Acc: 0.601\n",
      "Iteration 49 DONE - Acc Test: 0.601 - Err Sn: 0.6300000548362732\n",
      "Epoch 1/50 - Loss: 0.0046834987588226795 - Train Acc: 1.0 - Test Acc: 0.641\n",
      "Epoch 50/50 - Loss: 0.003673046361654997 - Train Acc: 1.0 - Test Acc: 0.644\n",
      "Iteration 50 DONE - Acc Test: 0.644 - Err Sn: 0.5399999618530273\n"
     ]
    }
   ],
   "source": [
    "model = Model1(Sn, n_epochs, lr, wd, eval_freq, model_params, n_iters)\n",
    "model.model = model.model.to(device)\n",
    "\n",
    "accs_train, accs_test, S_id = model.test_model(Sn, feat, label, lambd, beta, merge_theta_H=True, train_idx=train_mask, val_idx=val_mask, test_idx=test_mask, verbose=True)"
   ]
  },
  {
   "cell_type": "code",
   "execution_count": 26,
   "metadata": {},
   "outputs": [
    {
     "data": {
      "text/plain": [
       "Parameter containing:\n",
       "tensor([[-0.2612,  0.0615, -0.0326,  ..., -0.0007, -0.3409,  0.0671],\n",
       "        [ 0.0483,  0.4926, -0.0569,  ...,  0.0653,  0.0533, -0.3239],\n",
       "        [-0.0602,  0.1949, -0.0626,  ..., -0.4826, -0.4732, -0.0571],\n",
       "        ...,\n",
       "        [ 0.2003, -0.1615, -0.4625,  ...,  0.6054, -0.1228,  0.0441],\n",
       "        [ 0.2557,  0.5278,  0.3968,  ..., -0.5445,  0.0234, -0.3099],\n",
       "        [-0.0681,  0.6139,  0.1642,  ..., -0.0422, -0.4243,  0.2183]],\n",
       "       device='cuda:1', requires_grad=True)"
      ]
     },
     "execution_count": 26,
     "metadata": {},
     "output_type": "execute_result"
    }
   ],
   "source": [
    "model.model.convs[0].W"
   ]
  },
  {
   "cell_type": "code",
   "execution_count": 21,
   "metadata": {},
   "outputs": [
    {
     "data": {
      "text/plain": [
       "0.644"
      ]
     },
     "execution_count": 21,
     "metadata": {},
     "output_type": "execute_result"
    }
   ],
   "source": [
    "accs_test[-1,-1]"
   ]
  },
  {
   "cell_type": "code",
   "execution_count": 22,
   "metadata": {},
   "outputs": [
    {
     "data": {
      "text/plain": [
       "(tensor(0.6192, device='cuda:1'), tensor(0.5400, device='cuda:1'))"
      ]
     },
     "execution_count": 22,
     "metadata": {},
     "output_type": "execute_result"
    }
   ],
   "source": [
    "norm_S = np.sqrt((S**2).sum())\n",
    "torch.sqrt(((S_id - torch.Tensor(S).to(device))**2).sum()) / norm_S, torch.sqrt(((S_id - Sn)**2).sum()) / norm_S"
   ]
  },
  {
   "cell_type": "code",
   "execution_count": 10,
   "metadata": {},
   "outputs": [],
   "source": [
    "model = Model2(Sn, n_epochs, lr, wd, eval_freq, model_params_m2, n_iters)\n",
    "model.model = model.model.to(device)\n",
    "\n",
    "accs_train, accs_test, S_id = model.test_model(Sn, feat, label, lambd, gamma, beta, merge_theta_H=False, train_idx=train_mask, val_idx=val_mask, test_idx=test_mask)"
   ]
  },
  {
   "cell_type": "code",
   "execution_count": 11,
   "metadata": {},
   "outputs": [
    {
     "data": {
      "text/plain": [
       "0.073"
      ]
     },
     "execution_count": 11,
     "metadata": {},
     "output_type": "execute_result"
    }
   ],
   "source": [
    "accs_test[-1,-1]"
   ]
  },
  {
   "cell_type": "code",
   "execution_count": 12,
   "metadata": {},
   "outputs": [
    {
     "data": {
      "text/plain": [
       "(tensor(17.1413, device='cuda:1'), tensor(43.9051, device='cuda:1'))"
      ]
     },
     "execution_count": 12,
     "metadata": {},
     "output_type": "execute_result"
    }
   ],
   "source": [
    "torch.sqrt(((S_id - torch.Tensor(S).to(device))**2).sum()) / norm_S, torch.sqrt(((S_id - Sn)**2).sum()) / norm_S"
   ]
  },
  {
   "cell_type": "code",
   "execution_count": 13,
   "metadata": {},
   "outputs": [
    {
     "data": {
      "text/plain": [
       "(tensor(0.3365, device='cuda:1'), 0.9985605318450284)"
      ]
     },
     "execution_count": 13,
     "metadata": {},
     "output_type": "execute_result"
    }
   ],
   "source": [
    "(S_id==0.).sum() / (S_id.shape[0]*S_id.shape[1]), (S==0.).sum() / (S.shape[0]*S.shape[1])"
   ]
  },
  {
   "attachments": {},
   "cell_type": "markdown",
   "metadata": {},
   "source": [
    "# Other GNN testing - For Future comparison"
   ]
  },
  {
   "cell_type": "code",
   "execution_count": 5,
   "metadata": {},
   "outputs": [],
   "source": [
    "def evaluate(g, features, labels, mask, model):\n",
    "    model.eval()\n",
    "    with torch.no_grad():\n",
    "        logits = model(g, features)\n",
    "        logits = logits[mask]\n",
    "        labels = labels[mask]\n",
    "        _, indices = torch.max(logits, dim=1)\n",
    "        correct = torch.sum(indices == labels)\n",
    "        return correct.item() * 1.0 / len(labels)\n",
    "\n",
    "def test(model, g, feat, label, train_mask, val_mask, test_mask, verbose=True):\n",
    "    opt = torch.optim.Adam(model.parameters(), lr=lr, weight_decay=wd)\n",
    "\n",
    "    loss_fn = torch.nn.CrossEntropyLoss()\n",
    "\n",
    "    loss_train, acc_train, acc_test = [torch.zeros(n_epochs) for _ in range(3)]\n",
    "\n",
    "    for i in range(n_epochs):\n",
    "        y_hat = model(g, feat)\n",
    "\n",
    "        # Compute loss\n",
    "        # Note that you should only compute the losses of the nodes in the training set.\n",
    "        loss = loss_fn(y_hat[train_mask], label[train_mask])\n",
    "\n",
    "        opt.zero_grad()\n",
    "        loss.backward()\n",
    "        opt.step()\n",
    "\n",
    "        # Compute accuracy on training/validation/test\n",
    "        train_acc = evaluate(g, feat, label, train_mask, model)\n",
    "        val_acc = evaluate(g, feat, label, val_mask, model)\n",
    "        test_acc = evaluate(g, feat, label, test_mask, model)\n",
    "\n",
    "        loss_train[i] = loss.detach().cpu().item()\n",
    "        acc_train[i] = train_acc\n",
    "        acc_test[i] = test_acc\n",
    "\n",
    "        if (i == 0 or (i+1) % eval_freq == 0) and verbose:\n",
    "            print(f\"Epoch {i+1}/{n_epochs} - Loss Train: {loss_train[i]} - Acc Train: {acc_train[i]} - Acc Val: {val_acc} - Acc Test: {acc_test[i]}\", flush=True)\n",
    "\n",
    "    return loss_train, acc_train, acc_test"
   ]
  },
  {
   "cell_type": "code",
   "execution_count": 11,
   "metadata": {},
   "outputs": [],
   "source": [
    "hid_dim_gcn = 16\n",
    "\n",
    "hid_dim_gat = 8\n",
    "num_heads = 8\n",
    "gat_params = {\n",
    "    'feat_drop': 0.6,\n",
    "    'attn_drop': 0.6\n",
    "}"
   ]
  },
  {
   "cell_type": "code",
   "execution_count": 12,
   "metadata": {},
   "outputs": [],
   "source": [
    "EXPS = [\n",
    "    {\n",
    "        \"dataset\": \"Cora\",\n",
    "        \"layer\": \"GCN\",\n",
    "        \"legend\": \"Cora-GCN\",\n",
    "        \"fmt\": \"d-\"\n",
    "    },\n",
    "    {\n",
    "        \"dataset\": \"Citeseer\",\n",
    "        \"layer\": \"GCN\",\n",
    "        \"legend\": \"Citeseer-GCN\",\n",
    "        \"fmt\": \"v-\"\n",
    "    },\n",
    "    {\n",
    "        \"dataset\": \"Cora\",\n",
    "        \"layer\": \"GAT\",\n",
    "        \"legend\": \"Cora-GAT\",\n",
    "        \"fmt\": \"s-\"\n",
    "    },\n",
    "    {\n",
    "        \"dataset\": \"Citeseer\",\n",
    "        \"layer\": \"GAT\",\n",
    "        \"legend\": \"Citeseer-GAT\",\n",
    "        \"fmt\": \"v-\"\n",
    "    },\n",
    "]"
   ]
  },
  {
   "cell_type": "code",
   "execution_count": 13,
   "metadata": {},
   "outputs": [],
   "source": [
    "class GAT(nn.Module):\n",
    "    def __init__(self, in_dim, hidden_dim, out_dim, num_heads):\n",
    "        super(GAT, self).__init__()\n",
    "        self.layer1 = GATConv(in_dim, hidden_dim, num_heads)\n",
    "        # Be aware that the input dimension is hidden_dim*num_heads since\n",
    "        # multiple head outputs are concatenated together. Also, only\n",
    "        # one attention head in the output layer.\n",
    "        self.layer2 = GATConv(hidden_dim * num_heads, out_dim, 1)\n",
    "        self.nonlin = nn.ELU()\n",
    "\n",
    "    def forward(self, graph, h):\n",
    "        h = self.layer1(graph, h)\n",
    "        # concatenate\n",
    "        h = h.flatten(1)\n",
    "        h = self.nonlin(h)\n",
    "        h = self.layer2(graph, h)\n",
    "        return h.squeeze()"
   ]
  },
  {
   "cell_type": "code",
   "execution_count": 14,
   "metadata": {},
   "outputs": [],
   "source": [
    "class GCN(nn.Module):\n",
    "    def __init__(self, in_dim, hidden_dim, out_dim):\n",
    "        super(GCN, self).__init__()\n",
    "        self.layer1 = GraphConv(in_dim, hidden_dim)\n",
    "        self.layer2 = GraphConv(hidden_dim, out_dim)\n",
    "        self.nonlin = nn.Tanh()\n",
    "\n",
    "    def forward(self, graph, h):\n",
    "        h = self.layer1(graph, h)\n",
    "        h = self.nonlin(h)\n",
    "        h = self.layer2(graph, h)\n",
    "        return h"
   ]
  },
  {
   "cell_type": "code",
   "execution_count": 15,
   "metadata": {},
   "outputs": [
    {
     "name": "stdout",
     "output_type": "stream",
     "text": [
      "Starting pert 0.0 of exp Cora - GCN: 1 2 3 4 5 6 7 8 "
     ]
    }
   ],
   "source": [
    "perts = [0., 0.05, 0.1, 0.15, 0.2, 0.25]\n",
    "\n",
    "n_graphs = 25\n",
    "\n",
    "accs_test = np.zeros((n_graphs, len(EXPS), len(perts)))\n",
    "for i, p in enumerate(perts):\n",
    "\n",
    "    for j, exp in enumerate(EXPS):\n",
    "\n",
    "        S, feat, label, in_dim, out_dim, train_mask, val_mask, test_mask = get_data(exp['dataset'] + \"GraphDataset\")\n",
    "\n",
    "        print(f\"Starting pert {p} of exp {exp['dataset']} - {exp['layer']}: \", end=\"\")\n",
    "\n",
    "        for n in range(n_graphs):\n",
    "            print(f\"{n+1} \", end=\"\")\n",
    "            \n",
    "            S_pert = pert_S(S.copy(), eps=p)\n",
    "            if p == 0.:\n",
    "                assert np.all(S_pert == S)\n",
    "\n",
    "            g = dgl.from_networkx(nx.from_numpy_array(S_pert)).add_self_loop().to('cuda')\n",
    "\n",
    "            if exp['layer'] == \"GCN\":\n",
    "                model = GCN(in_dim, hid_dim_gcn, out_dim).to('cuda')\n",
    "            elif exp['layer'] == \"GAT\":\n",
    "                model = GAT(in_dim, hid_dim_gat, out_dim, num_heads **gat_params).to('cuda')\n",
    "\n",
    "            loss_train, acc_train, acc_test = test(model, g, feat, label, train_mask, val_mask, test_mask, False)\n",
    "\n",
    "            accs_test[n, j, i] = acc_test[-1]\n",
    "        print(f\"DONE - Accuracy Test: {np.mean(accs_test, 0)[j,i]}\")"
   ]
  },
  {
   "cell_type": "code",
   "execution_count": null,
   "metadata": {},
   "outputs": [
    {
     "data": {
      "image/png": "[encoded data removed]",
      "text/plain": [
       "<Figure size 640x480 with 1 Axes>"
      ]
     },
     "metadata": {},
     "output_type": "display_data"
    }
   ],
   "source": [
    "for i, exp in enumerate(EXPS):\n",
    "    plt.plot(perts, accs_test.mean(0)[i,:], exp[\"fmt\"], label=exp[\"legend\"])\n",
    "\n",
    "plt.xlabel(\"Percentage of links modified\", fontsize=12)\n",
    "plt.ylabel(\"Accuracy over the test dataset\", fontsize=12)\n",
    "plt.title(\"Effect of perturbations on the performance of a GNN\", fontsize=16)\n",
    "plt.legend()\n",
    "plt.grid()"
   ]
  },
  {
   "cell_type": "code",
   "execution_count": null,
   "metadata": {},
   "outputs": [],
   "source": []
  }
 ],
 "metadata": {
  "kernelspec": {
   "display_name": "Python 3",
   "language": "python",
   "name": "python3"
  },
  "language_info": {
   "codemirror_mode": {
    "name": "ipython",
    "version": 3
   },
   "file_extension": ".py",
   "mimetype": "text/x-python",
   "name": "python",
   "nbconvert_exporter": "python",
   "pygments_lexer": "ipython3",
   "version": "3.8.10"
  },
  "orig_nbformat": 4
 },
 "nbformat": 4,
 "nbformat_minor": 2
}
