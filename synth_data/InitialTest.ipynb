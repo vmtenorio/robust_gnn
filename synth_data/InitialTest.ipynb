{
 "cells": [
  {
   "cell_type": "code",
   "execution_count": 1,
   "metadata": {},
   "outputs": [],
   "source": [
    "import torch.nn as nn\n",
    "import torch\n",
    "import numpy as np\n",
    "\n",
    "import matplotlib.pyplot as plt\n",
    "\n",
    "\n",
    "import sys\n",
    "sys.path.append('..')\n",
    "\n",
    "from opt import graph_id, graph_id_rew\n",
    "import sev_filters_opt\n",
    "from data import gen_data, gen_data_sev_H, ER, pert_S"
   ]
  },
  {
   "cell_type": "code",
   "execution_count": 2,
   "metadata": {},
   "outputs": [],
   "source": [
    "device = torch.device(\"cuda\" if torch.cuda.is_available() else \"cpu\")"
   ]
  },
  {
   "cell_type": "markdown",
   "metadata": {},
   "source": [
    "# GNN"
   ]
  },
  {
   "cell_type": "code",
   "execution_count": 3,
   "metadata": {},
   "outputs": [],
   "source": [
    "class GCNLayer(nn.Module):\n",
    "    def __init__(self, Spow, h, in_dim, out_dim):\n",
    "        super().__init__()\n",
    "        self.Spow = Spow\n",
    "        self.N = self.Spow.shape[1]\n",
    "        self.in_dim = in_dim\n",
    "        self.out_dim = out_dim\n",
    "\n",
    "        self.h = h\n",
    "        self.K = self.h.shape[0]\n",
    "        assert self.Spow.shape[0] == self.K\n",
    "        \n",
    "        self.W = nn.Parameter(torch.empty((self.in_dim, self.out_dim)))\n",
    "        torch.nn.init.kaiming_uniform_(self.W.data)\n",
    "\n",
    "    def forward(self, x):\n",
    "        if x.ndim == 3:\n",
    "            _, Nin, Fin = x.shape\n",
    "        else:\n",
    "            Nin, Fin = x.shape\n",
    "        assert Nin == self.N\n",
    "        assert Fin == self.in_dim\n",
    "\n",
    "        H = torch.sum(self.h[:,None,None]*self.Spow, 0)\n",
    "        return H @ x @ self.W\n",
    "\n",
    "class GCN(nn.Module):\n",
    "    def __init__(self, S, in_dim, hid_dim, out_dim, n_layers, K):\n",
    "        super().__init__()\n",
    "        self.S = S\n",
    "        self.N = self.S.shape[0]\n",
    "        self.K = K\n",
    "\n",
    "        self.h = nn.Parameter(torch.ones(self.K))\n",
    "\n",
    "        self.Spow = self.calc_Spow(self.S)\n",
    "\n",
    "        self.n_layers = n_layers\n",
    "        self.convs = nn.ModuleList()\n",
    "\n",
    "        self.convs.append(GCNLayer(self.Spow, self.h, in_dim, hid_dim))\n",
    "\n",
    "        if n_layers > 1:\n",
    "            for i in range(n_layers - 2):\n",
    "                self.convs.append(GCNLayer(self.Spow, self.h, hid_dim, hid_dim))\n",
    "            self.convs.append(GCNLayer(self.Spow, self.h, hid_dim, out_dim))\n",
    "\n",
    "    def forward(self, x):\n",
    "\n",
    "        for i in range(self.n_layers - 1):\n",
    "            x = torch.tanh(self.convs[i](x))\n",
    "        x = self.convs[-1](x)\n",
    "\n",
    "        return x\n",
    "\n",
    "    def calc_Spow(self, newS):\n",
    "        Spow = torch.zeros((self.K, self.N, self.N), device=newS.device)\n",
    "        Spow[0,:,:] = torch.eye(self.N, device=newS.device)\n",
    "        for k in range(1, self.K):\n",
    "            Spow[k,:,:] = Spow[k-1,:,:] @ newS\n",
    "        return Spow\n",
    "\n",
    "    def update_Spow(self, S):\n",
    "        self.S = S\n",
    "        self.N = S.shape[0]\n",
    "        self.Spow = self.calc_Spow(S)\n",
    "        for i in range(self.n_layers):\n",
    "            self.convs[i].Spow = self.Spow"
   ]
  },
  {
   "cell_type": "markdown",
   "metadata": {},
   "source": [
    "# Training methods"
   ]
  },
  {
   "cell_type": "code",
   "execution_count": 4,
   "metadata": {},
   "outputs": [],
   "source": [
    "lr = 1e-2\n",
    "wd = 0\n",
    "n_epochs = 50\n",
    "n_layers = 3\n",
    "hid_dim = 128\n",
    "eval_freq = 50"
   ]
  },
  {
   "cell_type": "code",
   "execution_count": 5,
   "metadata": {},
   "outputs": [],
   "source": [
    "def test_reg(model, S, x_train, y_train, n_epochs=n_epochs, lr=lr, wd=wd, x_test=None, y_test=None, verbose=True):\n",
    "\n",
    "    global gamma\n",
    "\n",
    "    opt = torch.optim.Adam(model.parameters(), lr=lr, weight_decay=wd)\n",
    "\n",
    "    loss_fn = nn.MSELoss()\n",
    "\n",
    "    loss_train, loss_test = [np.zeros(n_epochs) for _ in range(2)]\n",
    "\n",
    "    for i in range(n_epochs):\n",
    "        y = model(x_train).squeeze()\n",
    "        loss = loss_fn(y, y_train)\n",
    "\n",
    "        assert y.shape[1] == S.shape[0]\n",
    "\n",
    "        # Commutativity term\n",
    "        #loss += gamma*((model.H @ S - S @ model.H)**2).sum()\n",
    "\n",
    "        opt.zero_grad()\n",
    "        loss.backward()\n",
    "        opt.step()\n",
    "\n",
    "        loss_train[i] = loss.cpu().item()\n",
    "\n",
    "        if (i == 0 or (i+1) % eval_freq == 0) and verbose and (x_test is not None):\n",
    "            with torch.no_grad():\n",
    "                y_hat = model(x_test).T\n",
    "                loss_test = loss_fn(y_hat, y_test.T)\n",
    "            print(f\"Epoch {i+1}/{n_epochs} - Loss train: {loss.cpu().item()} - Loss: {loss_test.cpu().item()}\", flush=True)\n",
    "        elif (i == 0 or (i+1) % eval_freq == 0) and verbose:\n",
    "            print(f\"Epoch {i+1}/{n_epochs} - Loss train: {loss.cpu().item()}\", flush=True)\n",
    "\n",
    "    return loss_train, loss_test"
   ]
  },
  {
   "cell_type": "code",
   "execution_count": 6,
   "metadata": {},
   "outputs": [],
   "source": [
    "def test_clas(model, graph, x, labels, n_epochs=n_epochs, lr=lr, wd=wd, train_idx=[], val_idx=[], test_idx=[], verbose=True):\n",
    "\n",
    "    opt = torch.optim.Adam(model.parameters(), lr=lr, weight_decay=wd)\n",
    "\n",
    "    loss_fn = nn.CrossEntropyLoss()\n",
    "\n",
    "    acc_train, acc_val, acc_test, losses = [np.zeros(n_epochs) for _ in range(4)]\n",
    "\n",
    "    gamma = 0.1\n",
    "\n",
    "    for i in range(n_epochs):\n",
    "        y = model(x)\n",
    "        loss = loss_fn(y[train_idx], labels[train_idx])\n",
    "\n",
    "        # Commutativity term\n",
    "        #loss += gamma*((model.H @ graph - graph @ model.H)**2).sum()\n",
    "\n",
    "        opt.zero_grad()\n",
    "        loss.backward()\n",
    "        opt.step()\n",
    "\n",
    "        preds = torch.argmax(y, 1)\n",
    "        results = (preds == labels).type(torch.float32)\n",
    "        acc_train[i] = results[train_idx].mean().item()\n",
    "        acc_val[i] = results[val_idx].mean().item()\n",
    "        acc_test[i] = results[test_idx].mean().item()\n",
    "        losses[i] = loss.item()\n",
    "\n",
    "        if (i == 0 or (i+1) % eval_freq == 0) and verbose:\n",
    "            print(f\"Epoch {i+1}/{n_epochs} - Loss: {loss.item()} - Train Acc: {acc_train[i]} - Test Acc: {acc_test[i]}\", flush=True)\n",
    "\n",
    "    return acc_train, acc_val, acc_test, losses"
   ]
  },
  {
   "cell_type": "markdown",
   "metadata": {},
   "source": [
    "# Data generation"
   ]
  },
  {
   "cell_type": "code",
   "execution_count": 7,
   "metadata": {},
   "outputs": [],
   "source": [
    "N = 20\n",
    "M = 50\n",
    "g_params = {'type': ER, 'p': 0.2}\n",
    "p_n = 0.1\n",
    "eps = 0.15\n",
    "K = 4"
   ]
  },
  {
   "cell_type": "code",
   "execution_count": 8,
   "metadata": {},
   "outputs": [],
   "source": [
    "X, Y, Cy, Cy_samp, H, S, Sn, h = gen_data(N, M, g_params, p_n, eps, norm_H=True, norm_S=True)"
   ]
  },
  {
   "cell_type": "code",
   "execution_count": 9,
   "metadata": {},
   "outputs": [],
   "source": [
    "X = torch.Tensor(X).to(device)\n",
    "Y = torch.Tensor(Y).to(device)"
   ]
  },
  {
   "cell_type": "code",
   "execution_count": 10,
   "metadata": {},
   "outputs": [
    {
     "data": {
      "text/plain": [
       "(torch.Size([50, 20, 1]), torch.Size([50, 20]))"
      ]
     },
     "execution_count": 10,
     "metadata": {},
     "output_type": "execute_result"
    }
   ],
   "source": [
    "H_ten = torch.Tensor(H.copy()).to(device)\n",
    "W1 = torch.randn(1,32).to(device)\n",
    "W2 = torch.randn(32,32).to(device)\n",
    "W3 = torch.randn(32,1).to(device)\n",
    "\n",
    "X = X.T[:,:,None]\n",
    "z1 = torch.tanh(H_ten @ X @ W1)\n",
    "z2 = torch.tanh(H_ten @ z1 @ W2)\n",
    "Y = (H_ten @ z2 @ W3).squeeze()\n",
    "X.shape, Y.shape"
   ]
  },
  {
   "cell_type": "markdown",
   "metadata": {},
   "source": [
    "# Model creation and evaluation"
   ]
  },
  {
   "cell_type": "code",
   "execution_count": 11,
   "metadata": {},
   "outputs": [],
   "source": [
    "in_dim = 1\n",
    "out_dim = 1"
   ]
  },
  {
   "cell_type": "code",
   "execution_count": 12,
   "metadata": {},
   "outputs": [],
   "source": [
    "lambd, gamma, delta, inc_gamma = [5e-4, 1e-4, 10., 1.]\n",
    "gamma = 1e-3"
   ]
  },
  {
   "cell_type": "code",
   "execution_count": 13,
   "metadata": {},
   "outputs": [
    {
     "name": "stdout",
     "output_type": "stream",
     "text": [
      "************ Iteration 0 ***********Stats: err_h=3.022365774308118 - err_H=37232.65250102717 - err_S=103.54121863428517 - loss_train[i,-1]=2807.2578125\n",
      "************ Iteration 1 ***********Stats: err_h=2.1854653566646935 - err_H=14.420512275044569 - err_S=0.0011289151576238418 - loss_train[i,-1]=0.06975987553596497\n",
      "************ Iteration 2 ***********Stats: err_h=2.0088050017811665 - err_H=37305.19729871141 - err_S=0.0011160374152769372 - loss_train[i,-1]=73.75826263427734\n",
      "************ Iteration 3 ***********Stats: err_h=1.3781352022019733 - err_H=22096.429739837753 - err_S=0.001108467337071504 - loss_train[i,-1]=122.8288345336914\n",
      "************ Iteration 4 ***********Stats: err_h=0.9852624372439733 - err_H=10408.05247908425 - err_S=0.0011058687123082403 - loss_train[i,-1]=26.957618713378906\n",
      "************ Iteration 5 ***********Stats: err_h=0.7982754457078303 - err_H=3326.716141391356 - err_S=0.001104548508241999 - loss_train[i,-1]=30.21657371520996\n",
      "************ Iteration 6 ***********Stats: err_h=0.8156623969888256 - err_H=163.44915450870621 - err_S=0.001117005131994624 - loss_train[i,-1]=4.275166988372803\n",
      "************ Iteration 7 ***********Stats: err_h=0.8630425354562867 - err_H=4.084564036106069 - err_S=0.0011128937943088444 - loss_train[i,-1]=0.13131476938724518\n",
      "************ Iteration 8 ***********Stats: err_h=0.8206652142829168 - err_H=0.10019695770765014 - err_S=0.001112156544601226 - loss_train[i,-1]=0.003614266635850072\n",
      "************ Iteration 9 ***********Stats: err_h=0.8914278670076886 - err_H=123.15140460628682 - err_S=0.0011138884826124174 - loss_train[i,-1]=0.10785014182329178\n",
      "************ Iteration 10 ***********Stats: err_h=0.8166634739266443 - err_H=21.630159743079293 - err_S=0.0011128255271383937 - loss_train[i,-1]=0.23362500965595245\n",
      "************ Iteration 11 ***********Stats: err_h=0.8402581492421131 - err_H=4.19295504379302 - err_S=0.001111154606783025 - loss_train[i,-1]=0.2578214704990387\n",
      "************ Iteration 12 ***********Stats: err_h=0.8261231179836088 - err_H=1.5408018960910685 - err_S=0.001112755646168299 - loss_train[i,-1]=0.012020046822726727\n",
      "************ Iteration 13 ***********Stats: err_h=0.856669408215706 - err_H=59.936383746804864 - err_S=0.001113484871719252 - loss_train[i,-1]=0.03179216757416725\n",
      "************ Iteration 14 ***********Stats: err_h=0.7904023711490679 - err_H=0.1901041995928308 - err_S=0.0011122450624327838 - loss_train[i,-1]=0.06327176839113235\n",
      "************ Iteration 15 ***********Stats: err_h=0.7965532382934977 - err_H=0.09221299621194946 - err_S=0.0011136425474743631 - loss_train[i,-1]=0.02213122695684433\n",
      "************ Iteration 16 ***********Stats: err_h=0.8078492577590807 - err_H=1.3965614526567245 - err_S=0.0011120957729158624 - loss_train[i,-1]=0.015106264501810074\n",
      "************ Iteration 17 ***********Stats: err_h=0.8416446556605729 - err_H=0.29296253744553985 - err_S=0.0011126677861396158 - loss_train[i,-1]=0.06623972207307816\n",
      "************ Iteration 18 ***********Stats: err_h=0.8294603839449423 - err_H=1.488014464352685 - err_S=0.0011126575428879373 - loss_train[i,-1]=0.022158920764923096\n",
      "************ Iteration 19 ***********Stats: err_h=0.7922863683804784 - err_H=49.04911888780665 - err_S=0.0011124007258347863 - loss_train[i,-1]=0.14071603119373322\n"
     ]
    }
   ],
   "source": [
    "n_iters = 20\n",
    "\n",
    "S_id = Sn\n",
    "H_id = Sn\n",
    "Ws = None\n",
    "\n",
    "S_gcn = torch.Tensor(S_id).to(device)\n",
    "gcn_model = GCN(S_gcn, in_dim, hid_dim, out_dim, n_layers, K).to(device)\n",
    "\n",
    "gcn_ignore = GCN(S_gcn, in_dim, hid_dim, out_dim, n_layers, K).to(device)\n",
    "loss_train_ignore, loss_test_ignore = test_reg(gcn_ignore, S_gcn, X, Y, n_epochs=n_epochs*n_iters, verbose=False)\n",
    "\n",
    "loss_train = np.zeros((n_iters, n_epochs))\n",
    "loss_test = np.zeros((n_iters, n_epochs))\n",
    "\n",
    "for i in range(n_iters):\n",
    "    #print(\"**************************************\")\n",
    "    print(f\"************ Iteration {i} ***********\", end=\"\")\n",
    "    #print(\"**************************************\")\n",
    "\n",
    "    S_gcn = torch.Tensor(S_id).to(device)\n",
    "\n",
    "    gcn_model.update_Spow(S_gcn)\n",
    "    \n",
    "    # Filter estimation\n",
    "    #gcn_model = GCN(S_gcn, in_dim, hid_dim, out_dim, n_layers, K).to(device)\n",
    "    #gcn_model.h.data = h_id\n",
    "    loss_train[i,:], loss_test[i,:] = test_reg(gcn_model, S_gcn, X, Y, verbose=False)\n",
    "\n",
    "    h_id = gcn_model.h.data\n",
    "    H_id = torch.sum(h_id[:,None,None]*gcn_model.Spow, 0).cpu().numpy()\n",
    "\n",
    "    #print(\"Graph identification\")\n",
    "    # Graph estimation\n",
    "    S_id = graph_id(Sn, H_id, Cy, lambd, gamma, delta)\n",
    "\n",
    "    err_h = ((h - h_id.cpu().numpy())**2).sum()\n",
    "    err_H = ((H - H_id)**2).sum()\n",
    "    err_S = ((S - S_id)**2).sum()\n",
    "    print(f\"Stats: {err_h=} - {err_H=} - {err_S=} - {loss_train[i,-1]=}\")\n",
    "    #print()"
   ]
  },
  {
   "cell_type": "code",
   "execution_count": 14,
   "metadata": {},
   "outputs": [
    {
     "data": {
      "text/plain": [
       "<matplotlib.legend.Legend at 0x7fe9517cd880>"
      ]
     },
     "execution_count": 14,
     "metadata": {},
     "output_type": "execute_result"
    },
    {
     "data": {
      "image/png": "[encoded data removed]",
      "text/plain": [
       "<Figure size 640x480 with 1 Axes>"
      ]
     },
     "metadata": {},
     "output_type": "display_data"
    }
   ],
   "source": [
    "plt.semilogy(loss_train_ignore, label=\"Ignoring Pert\")\n",
    "plt.semilogy(loss_train.reshape(-1), label=\"Ours\")\n",
    "plt.legend()"
   ]
  },
  {
   "cell_type": "markdown",
   "metadata": {},
   "source": [
    "# Several filters"
   ]
  },
  {
   "cell_type": "code",
   "execution_count": 15,
   "metadata": {},
   "outputs": [],
   "source": [
    "class GCNLayerMulti(nn.Module):\n",
    "    def __init__(self, Spow, K, in_dim, out_dim):\n",
    "        super().__init__()\n",
    "\n",
    "        self.Spow = Spow\n",
    "        self.N = self.Spow.shape[1]\n",
    "        self.K = K\n",
    "\n",
    "        self.in_dim = in_dim\n",
    "        self.out_dim = out_dim\n",
    "\n",
    "        self.h = nn.Parameter(torch.ones(self.K))\n",
    "        assert self.Spow.shape[0] == self.K\n",
    "\n",
    "        self.W = nn.Parameter(torch.empty((self.in_dim, self.out_dim)))\n",
    "        torch.nn.init.kaiming_uniform_(self.W.data)\n",
    "\n",
    "    def forward(self, x):\n",
    "        if x.ndim == 3:\n",
    "            _, Nin, Fin = x.shape\n",
    "        else:\n",
    "            Nin, Fin = x.shape\n",
    "        assert Nin == self.N\n",
    "        assert Fin == self.in_dim\n",
    "\n",
    "        #print(self.h.device, self.Spow.device)\n",
    "        H = torch.sum(self.h[:,None,None]*self.Spow, 0)\n",
    "        \n",
    "        return H @ x @ self.W"
   ]
  },
  {
   "cell_type": "code",
   "execution_count": 16,
   "metadata": {},
   "outputs": [],
   "source": [
    "class GCNMulti(nn.Module):\n",
    "    def __init__(self, S, in_dim, hid_dim, out_dim, n_layers, K):\n",
    "        super().__init__()\n",
    "        self.S = S\n",
    "        self.N = self.S.shape[0]\n",
    "        self.n_layers = n_layers\n",
    "        self.K = K\n",
    "\n",
    "        self.Spow = self.calc_Spow(self.S)\n",
    "\n",
    "        self.convs = nn.ModuleList()\n",
    "\n",
    "        self.convs.append(GCNLayerMulti(self.Spow, self.K, in_dim, hid_dim))\n",
    "\n",
    "        if self.n_layers > 1:\n",
    "            for i in range(self.n_layers - 2):\n",
    "                self.convs.append(GCNLayerMulti(self.Spow, self.K, hid_dim, hid_dim))\n",
    "            self.convs.append(GCNLayerMulti(self.Spow, self.K, hid_dim, out_dim))\n",
    "\n",
    "    def forward(self, x):\n",
    "\n",
    "        for i in range(self.n_layers - 1):\n",
    "            x = torch.tanh(self.convs[i](x))\n",
    "        x = self.convs[-1](x)\n",
    "\n",
    "        return x\n",
    "\n",
    "    def calc_Spow(self, newS):\n",
    "        Spow = torch.zeros((self.K, self.N, self.N), device=newS.device)\n",
    "        Spow[0,:,:] = torch.eye(self.N, device=newS.device)\n",
    "        for k in range(1, self.K):\n",
    "            Spow[k,:,:] = Spow[k-1,:,:] @ newS\n",
    "        return Spow\n",
    "\n",
    "    def update_Spow(self, S):\n",
    "        self.N = S.shape[0]\n",
    "        self.S = S\n",
    "        self.Spow = self.calc_Spow(S)\n",
    "        for i in range(self.n_layers):\n",
    "            self.convs[i].Spow = self.Spow"
   ]
  },
  {
   "cell_type": "code",
   "execution_count": 17,
   "metadata": {},
   "outputs": [],
   "source": [
    "def test_reg_multi(model, S, x_train, y_train, n_epochs, x_test=None, y_test=None, verbose=True):\n",
    "\n",
    "    global gamma\n",
    "\n",
    "    opt = torch.optim.Adam(model.parameters(), lr=lr, weight_decay=wd)\n",
    "\n",
    "    loss_fn = nn.MSELoss()\n",
    "\n",
    "    loss_train, loss_test = [np.zeros(n_epochs) for _ in range(2)]\n",
    "\n",
    "    for i in range(n_epochs):\n",
    "        y = model(x_train).squeeze()\n",
    "        loss = loss_fn(y, y_train)\n",
    "        \n",
    "        assert y.shape[1] == S.shape[0]\n",
    "\n",
    "        # Commutativity term\n",
    "        # for k in range(model.n_layers):\n",
    "        #     loss += gamma * (((model.H[k,:,:] @ S - S @ model.H[k,:,:])**2).sum())\n",
    "\n",
    "        opt.zero_grad()\n",
    "        loss.backward()\n",
    "        opt.step()\n",
    "\n",
    "        loss_train[i] = loss.cpu().item()\n",
    "\n",
    "        if (i == 0 or (i+1) % eval_freq == 0) and verbose and (x_test is not None):\n",
    "            with torch.no_grad():\n",
    "                y_hat = model(x_test)\n",
    "                loss_test = loss_fn(y_hat, y_test)\n",
    "            print(f\"Epoch {i+1}/{n_epochs} - Loss train: {loss.cpu().item()} - Loss: {loss_test.cpu().item()}\", flush=True)\n",
    "        elif (i == 0 or (i+1) % eval_freq == 0) and verbose:\n",
    "            print(f\"Epoch {i+1}/{n_epochs} - Loss train: {loss.cpu().item()}\", flush=True)\n",
    "\n",
    "    return loss_train, loss_test"
   ]
  },
  {
   "cell_type": "code",
   "execution_count": 18,
   "metadata": {},
   "outputs": [],
   "source": [
    "X, Y, Cy, Cy_samp, Hs, S, Sn, hs = gen_data_sev_H(N, M, n_layers, g_params, p_n, eps, norm_H=True, norm_S=True)"
   ]
  },
  {
   "cell_type": "code",
   "execution_count": 19,
   "metadata": {},
   "outputs": [],
   "source": [
    "X = torch.Tensor(X[0,:,:]).to(device)\n",
    "Y = torch.Tensor(Y[0,:,:]).to(device)\n",
    "Hs_ten = torch.Tensor(Hs.copy()).to(device)"
   ]
  },
  {
   "cell_type": "code",
   "execution_count": 20,
   "metadata": {},
   "outputs": [
    {
     "data": {
      "text/plain": [
       "(torch.Size([50, 20, 1]), torch.Size([50, 20]))"
      ]
     },
     "execution_count": 20,
     "metadata": {},
     "output_type": "execute_result"
    }
   ],
   "source": [
    "X = X.T[:,:,None]\n",
    "z = X.clone()\n",
    "F = [1, 32, 32, 1]\n",
    "for i in range(1, n_layers+1):\n",
    "    W = torch.randn(F[i-1], F[i]).to(device)\n",
    "    z = torch.tanh(Hs_ten[i-1,:,:] @ z @ W)\n",
    "Y = z.squeeze()\n",
    "X.shape, Y.shape"
   ]
  },
  {
   "cell_type": "code",
   "execution_count": 21,
   "metadata": {},
   "outputs": [
    {
     "name": "stdout",
     "output_type": "stream",
     "text": [
      "************ Iteration 0 *********** - Stats: err_h=3.350526 - err_H=41137.846721 - err_S=82.017477 - loss_train[i,-1]=0.000000\n",
      "************ Iteration 1 *********** - Stats: err_h=2.431183 - err_H=14.541885 - err_S=0.026701 - loss_train[i,-1]=0.000000\n",
      "************ Iteration 2 *********** - Stats: err_h=2.228304 - err_H=28682.840566 - err_S=0.026573 - loss_train[i,-1]=30.038280\n",
      "************ Iteration 3 *********** - Stats: err_h=2.070066 - err_H=25209.637562 - err_S=0.026467 - loss_train[i,-1]=30.038280\n",
      "************ Iteration 4 *********** - Stats: err_h=1.906440 - err_H=22319.424763 - err_S=0.026387 - loss_train[i,-1]=30.038280\n",
      "************ Iteration 5 *********** - Stats: err_h=1.893138 - err_H=20891.738057 - err_S=0.026310 - loss_train[i,-1]=30.038280\n",
      "************ Iteration 6 *********** - Stats: err_h=1.928115 - err_H=24624.552787 - err_S=0.026241 - loss_train[i,-1]=30.038280\n",
      "************ Iteration 7 *********** - Stats: err_h=1.914418 - err_H=23752.652336 - err_S=0.026176 - loss_train[i,-1]=30.038280\n",
      "************ Iteration 8 *********** - Stats: err_h=1.999312 - err_H=25507.552591 - err_S=0.026115 - loss_train[i,-1]=30.038280\n",
      "************ Iteration 9 *********** - Stats: err_h=1.978471 - err_H=24996.028393 - err_S=0.026054 - loss_train[i,-1]=30.038280\n",
      "************ Iteration 10 *********** - Stats: err_h=1.975431 - err_H=24498.446803 - err_S=0.025987 - loss_train[i,-1]=30.038280\n",
      "************ Iteration 11 *********** - Stats: err_h=1.967878 - err_H=23172.263735 - err_S=0.025918 - loss_train[i,-1]=30.038280\n",
      "************ Iteration 12 *********** - Stats: err_h=1.967497 - err_H=21084.914679 - err_S=0.025842 - loss_train[i,-1]=30.038280\n",
      "************ Iteration 13 *********** - Stats: err_h=1.943302 - err_H=18837.258606 - err_S=0.025755 - loss_train[i,-1]=30.038280\n",
      "************ Iteration 14 *********** - Stats: err_h=1.930647 - err_H=23238.424080 - err_S=0.025689 - loss_train[i,-1]=30.038280\n",
      "************ Iteration 15 *********** - Stats: err_h=1.791889 - err_H=20910.130139 - err_S=0.025613 - loss_train[i,-1]=30.038280\n",
      "************ Iteration 16 *********** - Stats: err_h=1.784413 - err_H=22719.787040 - err_S=0.025545 - loss_train[i,-1]=30.038280\n",
      "************ Iteration 17 *********** - Stats: err_h=1.705566 - err_H=22779.418044 - err_S=0.025477 - loss_train[i,-1]=30.038280\n",
      "************ Iteration 18 *********** - Stats: err_h=1.676871 - err_H=22540.943062 - err_S=0.025410 - loss_train[i,-1]=30.038280\n",
      "************ Iteration 19 *********** - Stats: err_h=1.677612 - err_H=23886.807844 - err_S=0.025347 - loss_train[i,-1]=30.038280\n",
      "************ Iteration 20 *********** - Stats: err_h=1.647372 - err_H=19856.846036 - err_S=0.025270 - loss_train[i,-1]=30.038280\n",
      "************ Iteration 21 *********** - Stats: err_h=1.644615 - err_H=22057.512741 - err_S=0.025203 - loss_train[i,-1]=30.038280\n",
      "************ Iteration 22 *********** - Stats: err_h=1.657782 - err_H=24098.760054 - err_S=0.025141 - loss_train[i,-1]=30.038280\n",
      "************ Iteration 23 *********** - Stats: err_h=1.617052 - err_H=22159.446840 - err_S=0.025074 - loss_train[i,-1]=30.038280\n",
      "************ Iteration 24 *********** - Stats: err_h=1.616803 - err_H=19617.936480 - err_S=0.025000 - loss_train[i,-1]=30.038280\n",
      "************ Iteration 25 *********** - Stats: err_h=1.592520 - err_H=20581.310198 - err_S=0.024929 - loss_train[i,-1]=30.038280\n",
      "************ Iteration 26 *********** - Stats: err_h=1.631265 - err_H=23029.603071 - err_S=0.024868 - loss_train[i,-1]=30.038280\n",
      "************ Iteration 27 *********** - Stats: err_h=1.622740 - err_H=23768.580862 - err_S=0.024808 - loss_train[i,-1]=30.038280\n",
      "************ Iteration 28 *********** - Stats: err_h=1.607904 - err_H=20889.935317 - err_S=0.024740 - loss_train[i,-1]=30.038280\n",
      "************ Iteration 29 *********** - Stats: err_h=1.607562 - err_H=19603.656495 - err_S=0.024667 - loss_train[i,-1]=30.038280\n"
     ]
    }
   ],
   "source": [
    "n_iters = 30\n",
    "\n",
    "S_id = Sn\n",
    "H_id = np.array([Sn]*n_layers)\n",
    "Ws = None\n",
    "\n",
    "S_gcn = torch.Tensor(S_id).to(device)\n",
    "gcn_model = GCNMulti(S_gcn, in_dim, hid_dim, out_dim, n_layers, K).to(device)\n",
    "\n",
    "gcn_ignore = GCNMulti(S_gcn, in_dim, hid_dim, out_dim, n_layers, K).to(device)\n",
    "loss_train_ignore, loss_test_ignore = test_reg_multi(gcn_ignore, S_gcn, X, Y, n_epochs=n_epochs*n_iters, verbose=False)\n",
    "\n",
    "loss_train = np.zeros((n_iters, n_epochs))\n",
    "loss_test = np.zeros((n_iters, n_epochs))\n",
    "\n",
    "for i in range(n_iters):\n",
    "    #print(\"**************************************\")\n",
    "    print(f\"************ Iteration {i} ***********\", end=\"\")\n",
    "    #print(\"**************************************\")\n",
    "\n",
    "    S_gcn = torch.Tensor(S_id).to(device)\n",
    "\n",
    "    gcn_model.update_Spow(S_gcn)\n",
    "    \n",
    "    # Filter estimation\n",
    "    loss_train[i,:], loss_test[i,:] = test_reg_multi(gcn_model, S_gcn, X, Y, verbose=False)\n",
    "\n",
    "    h_id = torch.stack([gcn_model.convs[i].h.data for i in range(n_layers)])\n",
    "    H_id = np.zeros((n_layers, N, N))\n",
    "    for i in range(n_layers):\n",
    "        hs = h_id[i,:]\n",
    "        H_id[i,:,:] = torch.sum(hs[:,None,None]*gcn_model.Spow, 0).cpu().numpy()\n",
    "\n",
    "    #print(\"Graph identification\")\n",
    "    # Graph estimation\n",
    "    S_id = sev_filters_opt.graph_id(Sn, H_id, Cy, lambd, gamma, delta)\n",
    "\n",
    "    err_h = ((h - h_id.cpu().numpy())**2).sum(1).mean()\n",
    "    err_H = ((Hs - H_id)**2).sum((1,2)).mean()\n",
    "    err_S = ((S - S_id)**2).sum()\n",
    "    print(f\" - Stats: {err_h=:5f} - {err_H=:5f} - {err_S=:5f} - {loss_train[i,-1]=:5f}\")\n",
    "    #print()"
   ]
  },
  {
   "cell_type": "code",
   "execution_count": 22,
   "metadata": {},
   "outputs": [
    {
     "data": {
      "text/plain": [
       "<matplotlib.legend.Legend at 0x7fe951651d00>"
      ]
     },
     "execution_count": 22,
     "metadata": {},
     "output_type": "execute_result"
    },
    {
     "data": {
      "image/png": "[encoded data removed]",
      "text/plain": [
       "<Figure size 640x480 with 1 Axes>"
      ]
     },
     "metadata": {},
     "output_type": "display_data"
    }
   ],
   "source": [
    "plt.semilogy(loss_train_ignore, label=\"Ignoring Pert\")\n",
    "plt.semilogy(loss_train.reshape(-1), label=\"Ours\")\n",
    "plt.legend()"
   ]
  },
  {
   "cell_type": "markdown",
   "metadata": {},
   "source": [
    "# Karate Club classification"
   ]
  },
  {
   "cell_type": "code",
   "execution_count": 23,
   "metadata": {},
   "outputs": [],
   "source": [
    "from dgl.data import KarateClubDataset"
   ]
  },
  {
   "cell_type": "code",
   "execution_count": 24,
   "metadata": {},
   "outputs": [
    {
     "data": {
      "text/plain": [
       "2"
      ]
     },
     "execution_count": 24,
     "metadata": {},
     "output_type": "execute_result"
    }
   ],
   "source": [
    "zach = KarateClubDataset()[0]\n",
    "\n",
    "labels = zach.ndata['label'].to(device)\n",
    "S = zach.adj().to_dense()\n",
    "Sn = pert_S(S, type=\"rewire\", eps=0.1)\n",
    "\n",
    "N = S.shape[0]\n",
    "in_dim = 1\n",
    "out_dim = (torch.max(labels) + 1).item()\n",
    "out_dim"
   ]
  },
  {
   "cell_type": "code",
   "execution_count": 25,
   "metadata": {},
   "outputs": [],
   "source": [
    "N_train = int(0.5 * N)\n",
    "idxs = torch.randperm(N)\n",
    "train_idx = idxs[:N_train]\n",
    "test_idx = idxs[N_train:]"
   ]
  },
  {
   "cell_type": "code",
   "execution_count": 26,
   "metadata": {},
   "outputs": [
    {
     "data": {
      "text/plain": [
       "(torch.Size([34, 1]), torch.Size([34]))"
      ]
     },
     "execution_count": 26,
     "metadata": {},
     "output_type": "execute_result"
    }
   ],
   "source": [
    "X = torch.sum(S, 0).to(device)[:,None]\n",
    "Y = labels\n",
    "X.shape, Y.shape"
   ]
  },
  {
   "cell_type": "code",
   "execution_count": 27,
   "metadata": {},
   "outputs": [],
   "source": [
    "Cy = np.zeros((N,N))\n",
    "delta = 0."
   ]
  },
  {
   "cell_type": "code",
   "execution_count": 28,
   "metadata": {},
   "outputs": [
    {
     "name": "stdout",
     "output_type": "stream",
     "text": [
      "************ Iteration 0 *********** - Stats: err_S=28.000184 - acc_train[-1]=0.588235 - acc_test[-1]=0.411765 - losses[-1]=29.210251\n",
      "************ Iteration 1 *********** - Stats: err_S=28.000105 - acc_train[-1]=0.588235 - acc_test[-1]=0.411765 - losses[-1]=69.147331\n",
      "************ Iteration 2 *********** - Stats: err_S=28.000031 - acc_train[-1]=0.588235 - acc_test[-1]=0.411765 - losses[-1]=9.919921\n",
      "************ Iteration 3 *********** - Stats: err_S=27.999945 - acc_train[-1]=0.529412 - acc_test[-1]=0.411765 - losses[-1]=0.671220\n",
      "************ Iteration 4 *********** - Stats: err_S=27.999946 - acc_train[-1]=0.411765 - acc_test[-1]=0.588235 - losses[-1]=0.751594\n",
      "************ Iteration 5 *********** - Stats: err_S=28.000000 - acc_train[-1]=0.588235 - acc_test[-1]=0.470588 - losses[-1]=0.650413\n",
      "************ Iteration 6 *********** - Stats: err_S=28.000017 - acc_train[-1]=0.588235 - acc_test[-1]=0.411765 - losses[-1]=0.746180\n",
      "************ Iteration 7 *********** - Stats: err_S=27.999934 - acc_train[-1]=0.764706 - acc_test[-1]=0.470588 - losses[-1]=0.637509\n",
      "************ Iteration 8 *********** - Stats: err_S=27.999948 - acc_train[-1]=0.588235 - acc_test[-1]=0.411765 - losses[-1]=0.671578\n",
      "************ Iteration 9 *********** - Stats: err_S=28.000000 - acc_train[-1]=0.588235 - acc_test[-1]=0.411765 - losses[-1]=0.672147\n",
      "************ Iteration 10 *********** - Stats: err_S=28.000000 - acc_train[-1]=0.411765 - acc_test[-1]=0.588235 - losses[-1]=0.742457\n",
      "************ Iteration 11 *********** - Stats: err_S=28.000000 - acc_train[-1]=0.588235 - acc_test[-1]=0.411765 - losses[-1]=0.693338\n",
      "************ Iteration 12 *********** - Stats: err_S=28.000000 - acc_train[-1]=0.411765 - acc_test[-1]=0.529412 - losses[-1]=1.321774\n",
      "************ Iteration 13 *********** - Stats: err_S=28.000000 - acc_train[-1]=0.588235 - acc_test[-1]=0.411765 - losses[-1]=0.672019\n",
      "************ Iteration 14 *********** - Stats: err_S=28.000000 - acc_train[-1]=0.588235 - acc_test[-1]=0.411765 - losses[-1]=0.666824\n",
      "************ Iteration 15 *********** - Stats: err_S=27.999951 - acc_train[-1]=0.588235 - acc_test[-1]=0.411765 - losses[-1]=0.668120\n",
      "************ Iteration 16 *********** - Stats: err_S=28.000000 - acc_train[-1]=0.588235 - acc_test[-1]=0.411765 - losses[-1]=0.669253\n",
      "************ Iteration 17 *********** - Stats: err_S=28.000000 - acc_train[-1]=0.588235 - acc_test[-1]=0.411765 - losses[-1]=0.692691\n",
      "************ Iteration 18 *********** - Stats: err_S=28.000000 - acc_train[-1]=0.588235 - acc_test[-1]=0.411765 - losses[-1]=0.671643\n",
      "************ Iteration 19 *********** - Stats: err_S=28.000000 - acc_train[-1]=0.588235 - acc_test[-1]=0.411765 - losses[-1]=0.677916\n"
     ]
    }
   ],
   "source": [
    "n_iters = 20\n",
    "\n",
    "S_id = Sn\n",
    "H_id = Sn\n",
    "Ws = None\n",
    "\n",
    "S_gcn = torch.Tensor(S_id).to(device)\n",
    "gcn_model = GCN(S_gcn, in_dim, hid_dim, out_dim, n_layers, K).to(device)\n",
    "\n",
    "for i in range(n_iters):\n",
    "    #print(\"**************************************\")\n",
    "    print(f\"************ Iteration {i} ***********\", end=\"\")\n",
    "    #print(\"**************************************\")\n",
    "\n",
    "    S_gcn = torch.Tensor(S_id).to(device)\n",
    "\n",
    "    gcn_model.update_Spow(S_gcn)\n",
    "    \n",
    "    # Filter estimation\n",
    "    #gcn_model = GCN(S_gcn, in_dim, hid_dim, out_dim, n_layers, K).to(device)\n",
    "    #gcn_model.h.data = h_id\n",
    "    acc_train, acc_val, acc_test, losses = test_clas(gcn_model, S_gcn, X, Y, train_idx=train_idx, test_idx=test_idx, verbose=False)\n",
    "\n",
    "    h_id = gcn_model.h.data\n",
    "    H_id = torch.sum(h_id[:,None,None]*gcn_model.Spow, 0).cpu().numpy()\n",
    "\n",
    "    #print(\"Graph identification\")\n",
    "    # Graph estimation\n",
    "    S_id = graph_id(Sn, H_id, Cy, lambd, gamma, delta)\n",
    "\n",
    "    #err_h = ((h - h_id.cpu().numpy())**2).sum()\n",
    "    #err_H = ((H - H_id)**2).sum()\n",
    "    err_S = ((S - S_id)**2).sum()\n",
    "    print(f\" - Stats: {err_S=:5f} - {acc_train[-1]=:5f} - {acc_test[-1]=:5f} - {losses[-1]=:5f}\")\n",
    "    #print()"
   ]
  },
  {
   "cell_type": "code",
   "execution_count": null,
   "metadata": {},
   "outputs": [],
   "source": []
  }
 ],
 "metadata": {
  "kernelspec": {
   "display_name": "Python 3.8.10 64-bit",
   "language": "python",
   "name": "python3"
  },
  "language_info": {
   "codemirror_mode": {
    "name": "ipython",
    "version": 3
   },
   "file_extension": ".py",
   "mimetype": "text/x-python",
   "name": "python",
   "nbconvert_exporter": "python",
   "pygments_lexer": "ipython3",
   "version": "3.8.10"
  },
  "orig_nbformat": 4,
  "vscode": {
   "interpreter": {
    "hash": "916dbcbb3f70747c44a77c7bcd40155683ae19c65e1c03b4aa3499c5328201f1"
   }
  }
 },
 "nbformat": 4,
 "nbformat_minor": 2
}
