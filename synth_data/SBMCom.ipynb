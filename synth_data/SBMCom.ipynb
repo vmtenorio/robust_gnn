{
 "cells": [
  {
   "cell_type": "code",
   "execution_count": 1,
   "metadata": {},
   "outputs": [],
   "source": [
    "import data\n",
    "\n",
    "import sys\n",
    "sys.path.append(\"..\")\n",
    "\n",
    "import matplotlib.pyplot as plt\n",
    "\n",
    "from opt import graph_id, graph_id_rew\n",
    "\n",
    "from arch import arch\n",
    "from arch import model\n",
    "\n",
    "import torch\n",
    "import numpy as np"
   ]
  },
  {
   "cell_type": "code",
   "execution_count": 2,
   "metadata": {},
   "outputs": [],
   "source": [
    "device = torch.device(\"cuda\" if torch.cuda.is_available() else \"cpu\")\n",
    "#device = torch.device(\"cpu\")"
   ]
  },
  {
   "cell_type": "code",
   "execution_count": 3,
   "metadata": {},
   "outputs": [],
   "source": [
    "N = 50\n",
    "k = 4\n",
    "p = 0.4\n",
    "q = 0.05\n",
    "\n",
    "M = 1#50\n",
    "p_n = 0.1\n",
    "eps = 0.15\n",
    "L = 4"
   ]
  },
  {
   "cell_type": "code",
   "execution_count": 4,
   "metadata": {},
   "outputs": [],
   "source": [
    "dataset = data.SBMComLabel(N, k, p, q, M, L, data=\"diffused_sparse\", n_deltas=k)\n",
    "dataset.pert_S()"
   ]
  },
  {
   "cell_type": "code",
   "execution_count": 5,
   "metadata": {},
   "outputs": [
    {
     "data": {
      "text/plain": [
       "<matplotlib.image.AxesImage at 0x7f69981cf790>"
      ]
     },
     "execution_count": 5,
     "metadata": {},
     "output_type": "execute_result"
    },
    {
     "data": {
      "image/png": "[encoded data removed]",
      "text/plain": [
       "<Figure size 1200x600 with 2 Axes>"
      ]
     },
     "metadata": {},
     "output_type": "display_data"
    }
   ],
   "source": [
    "f, ax = plt.subplots(1,2,figsize=(12,6))\n",
    "ax[0].imshow(dataset.S)\n",
    "ax[1].imshow(dataset.Sn)"
   ]
  },
  {
   "cell_type": "code",
   "execution_count": 6,
   "metadata": {},
   "outputs": [],
   "source": [
    "lr = 1e-2\n",
    "wd = 0\n",
    "n_epochs = 50\n",
    "n_layers = 3\n",
    "hid_dim = 128\n",
    "eval_freq = 100\n",
    "\n",
    "n_iters = 30"
   ]
  },
  {
   "cell_type": "code",
   "execution_count": 7,
   "metadata": {},
   "outputs": [],
   "source": [
    "lambd, gamma, delta, inc_gamma = [5e-4, 1e-4, 10., 1.]\n",
    "gamma = 1e-3"
   ]
  },
  {
   "cell_type": "code",
   "execution_count": 8,
   "metadata": {},
   "outputs": [],
   "source": [
    "N_train = int(0.7*N)\n",
    "dataset.create_mask(N_train)"
   ]
  },
  {
   "cell_type": "code",
   "execution_count": 9,
   "metadata": {},
   "outputs": [],
   "source": [
    "S_gcn = torch.Tensor(dataset.Sn).to(device)\n",
    "\n",
    "in_dim = 1\n",
    "out_dim = k"
   ]
  },
  {
   "cell_type": "code",
   "execution_count": 10,
   "metadata": {},
   "outputs": [
    {
     "data": {
      "text/plain": [
       "(torch.Size([50, 1]), torch.Size([50]), torch.float32)"
      ]
     },
     "execution_count": 10,
     "metadata": {},
     "output_type": "execute_result"
    }
   ],
   "source": [
    "X = torch.Tensor(dataset.x[:,None]).to(device)\n",
    "Y = torch.LongTensor(dataset.y).to(device)\n",
    "X.shape, Y.shape, X.dtype"
   ]
  },
  {
   "cell_type": "code",
   "execution_count": 11,
   "metadata": {},
   "outputs": [
    {
     "name": "stdout",
     "output_type": "stream",
     "text": [
      "Epoch 1/1500 - Loss: 4647.78759765625 - Train Acc: 0.2571428716182709 - Test Acc: 0.40000003576278687\n",
      "Epoch 100/1500 - Loss: 133.038330078125 - Train Acc: 0.2571428716182709 - Test Acc: 0.40000003576278687\n",
      "Epoch 200/1500 - Loss: 39.36719512939453 - Train Acc: 0.2857142984867096 - Test Acc: 0.20000001788139343\n",
      "Epoch 300/1500 - Loss: 10.710365295410156 - Train Acc: 0.22857142984867096 - Test Acc: 0.20000001788139343\n",
      "Epoch 400/1500 - Loss: 4.13880729675293 - Train Acc: 0.2857142984867096 - Test Acc: 0.20000001788139343\n",
      "Epoch 500/1500 - Loss: 1.3535692691802979 - Train Acc: 0.3142857253551483 - Test Acc: 0.2666666805744171\n",
      "Epoch 600/1500 - Loss: 1.0915980339050293 - Train Acc: 0.4285714328289032 - Test Acc: 0.5333333611488342\n",
      "Epoch 700/1500 - Loss: 1.0521305799484253 - Train Acc: 0.4285714328289032 - Test Acc: 0.6000000238418579\n",
      "Epoch 800/1500 - Loss: 1.0249780416488647 - Train Acc: 0.4285714328289032 - Test Acc: 0.6000000238418579\n",
      "Epoch 900/1500 - Loss: 1.0090876817703247 - Train Acc: 0.4285714328289032 - Test Acc: 0.6666666865348816\n",
      "Epoch 1000/1500 - Loss: 1.3979331254959106 - Train Acc: 0.2571428716182709 - Test Acc: 0.20000001788139343\n",
      "Epoch 1100/1500 - Loss: 0.9668473601341248 - Train Acc: 0.6571428775787354 - Test Acc: 0.5333333611488342\n",
      "Epoch 1200/1500 - Loss: 0.725074052810669 - Train Acc: 0.7428571581840515 - Test Acc: 0.7333333492279053\n",
      "Epoch 1300/1500 - Loss: 0.480073481798172 - Train Acc: 0.8571428656578064 - Test Acc: 0.8000000715255737\n",
      "Epoch 1400/1500 - Loss: 1.3875291347503662 - Train Acc: 0.22857142984867096 - Test Acc: 0.20000001788139343\n",
      "Epoch 1500/1500 - Loss: 1.3453069925308228 - Train Acc: 0.2857142984867096 - Test Acc: 0.20000001788139343\n"
     ]
    },
    {
     "data": {
      "text/plain": [
       "(array([0.25714287, 0.25714287, 0.25714287, ..., 0.2857143 , 0.2857143 ,\n",
       "        0.2857143 ]),\n",
       " array([nan, nan, nan, ..., nan, nan, nan]),\n",
       " array([0.40000004, 0.40000004, 0.40000004, ..., 0.20000002, 0.20000002,\n",
       "        0.20000002]),\n",
       " array([4.64778760e+03, 5.01208057e+03, 3.23080396e+03, ...,\n",
       "        1.34531176e+00, 1.34530771e+00, 1.34530699e+00]))"
      ]
     },
     "execution_count": 11,
     "metadata": {},
     "output_type": "execute_result"
    }
   ],
   "source": [
    "# GNN Ignore\n",
    "gcn_ignore = arch.GCNCoefs(S_gcn, in_dim, hid_dim, out_dim, n_layers, L).to(device)\n",
    "model_gnn_ignore = model.Model(gcn_ignore, n_epochs*n_iters, lr, wd, eval_freq)\n",
    "\n",
    "model_gnn_ignore.test_clas(S_gcn, X, Y, gamma, dataset.train_mask, [], dataset.test_mask)"
   ]
  },
  {
   "cell_type": "code",
   "execution_count": 12,
   "metadata": {},
   "outputs": [
    {
     "name": "stdout",
     "output_type": "stream",
     "text": [
      "Epoch 1/1500 - Loss: 3887.753662109375 - Train Acc: 0.22857142984867096 - Test Acc: 0.20000001788139343\n",
      "Epoch 100/1500 - Loss: 107.62351989746094 - Train Acc: 0.2857142984867096 - Test Acc: 0.20000001788139343\n",
      "Epoch 200/1500 - Loss: 20.154563903808594 - Train Acc: 0.2571428716182709 - Test Acc: 0.40000003576278687\n",
      "Epoch 300/1500 - Loss: 107.38243865966797 - Train Acc: 0.2571428716182709 - Test Acc: 0.40000003576278687\n",
      "Epoch 400/1500 - Loss: 1.723096489906311 - Train Acc: 0.2571428716182709 - Test Acc: 0.40000003576278687\n",
      "Epoch 500/1500 - Loss: 1.2880223989486694 - Train Acc: 0.37142857909202576 - Test Acc: 0.2666666805744171\n",
      "Epoch 600/1500 - Loss: 1.7701258659362793 - Train Acc: 0.2571428716182709 - Test Acc: 0.40000003576278687\n",
      "Epoch 700/1500 - Loss: 1.354291558265686 - Train Acc: 0.2857142984867096 - Test Acc: 0.20000001788139343\n",
      "Epoch 800/1500 - Loss: 1.3483444452285767 - Train Acc: 0.2857142984867096 - Test Acc: 0.20000001788139343\n",
      "Epoch 900/1500 - Loss: 1.3493850231170654 - Train Acc: 0.2857142984867096 - Test Acc: 0.20000001788139343\n",
      "Epoch 1000/1500 - Loss: 1.3490968942642212 - Train Acc: 0.2857142984867096 - Test Acc: 0.20000001788139343\n",
      "Epoch 1100/1500 - Loss: 1.3488966226577759 - Train Acc: 0.2857142984867096 - Test Acc: 0.20000001788139343\n",
      "Epoch 1200/1500 - Loss: 1.3486769199371338 - Train Acc: 0.2857142984867096 - Test Acc: 0.20000001788139343\n",
      "Epoch 1300/1500 - Loss: 1.3484249114990234 - Train Acc: 0.2857142984867096 - Test Acc: 0.20000001788139343\n",
      "Epoch 1400/1500 - Loss: 1.3481379747390747 - Train Acc: 0.2857142984867096 - Test Acc: 0.20000001788139343\n",
      "Epoch 1500/1500 - Loss: 1.3478052616119385 - Train Acc: 0.2857142984867096 - Test Acc: 0.20000001788139343\n"
     ]
    },
    {
     "data": {
      "text/plain": [
       "(array([0.22857143, 0.2857143 , 0.25714287, ..., 0.2857143 , 0.2857143 ,\n",
       "        0.2857143 ]),\n",
       " array([nan, nan, nan, ..., nan, nan, nan]),\n",
       " array([0.20000002, 0.20000002, 0.40000004, ..., 0.20000002, 0.20000002,\n",
       "        0.20000002]),\n",
       " array([3.88775366e+03, 1.23569141e+03, 4.45070068e+03, ...,\n",
       "        1.34781432e+00, 1.34780943e+00, 1.34780526e+00]))"
      ]
     },
     "execution_count": 12,
     "metadata": {},
     "output_type": "execute_result"
    }
   ],
   "source": [
    "S_ten = torch.Tensor(dataset.S).to(device)\n",
    "\n",
    "gcn_unpert = arch.GCNCoefs(S_ten, in_dim, hid_dim, out_dim, n_layers, L).to(device)\n",
    "model_gnn_unpert = model.Model(gcn_unpert, n_epochs*n_iters, lr, wd, eval_freq)\n",
    "\n",
    "model_gnn_unpert.test_clas(S_ten, X, Y, gamma, dataset.train_mask, [], dataset.test_mask)"
   ]
  },
  {
   "cell_type": "code",
   "execution_count": 13,
   "metadata": {},
   "outputs": [
    {
     "name": "stdout",
     "output_type": "stream",
     "text": [
      "************ Iteration 0 ***********Epoch 1/50 - Loss: 5020.2421875 - Train Acc: 0.2571428716182709 - Test Acc: 0.40000003576278687\n",
      "Stats: err_h=2.827316064735605 - err_H=25672.028248497532 - err_S=59.99992161775494 - losses[i,-1]=282.5556335449219\n",
      "************ Iteration 1 ***********Epoch 1/50 - Loss: 264.3282775878906 - Train Acc: 0.2857142984867096 - Test Acc: 0.20000001788139343\n",
      "Stats: err_h=1.416375072963753 - err_H=25718.087890905488 - err_S=59.999966967304616 - losses[i,-1]=69.42282104492188\n",
      "************ Iteration 2 ***********Epoch 1/50 - Loss: 68.16173553466797 - Train Acc: 0.22857142984867096 - Test Acc: 0.20000001788139343\n",
      "Stats: err_h=1.0168451221824368 - err_H=150639.51352008755 - err_S=59.99989097684113 - losses[i,-1]=7.177703380584717\n",
      "************ Iteration 3 ***********Epoch 1/50 - Loss: 22.5211124420166 - Train Acc: 0.2857142984867096 - Test Acc: 0.20000001788139343\n",
      "Stats: err_h=1.0082480725181182 - err_H=144500.70361822378 - err_S=59.9998987379738 - losses[i,-1]=1.4124494791030884\n",
      "************ Iteration 4 ***********Epoch 1/50 - Loss: 1.3868000507354736 - Train Acc: 0.2571428716182709 - Test Acc: 0.40000003576278687\n",
      "Stats: err_h=0.9983097166772763 - err_H=139708.3533943462 - err_S=60.0 - losses[i,-1]=1.220179796218872\n",
      "************ Iteration 5 ***********Epoch 1/50 - Loss: 1.212127923965454 - Train Acc: 0.4000000059604645 - Test Acc: 0.5333333611488342\n",
      "Stats: err_h=1.0346364899106235 - err_H=140727.1720682629 - err_S=60.0 - losses[i,-1]=1.6766878366470337\n",
      "************ Iteration 6 ***********Epoch 1/50 - Loss: 2.405911684036255 - Train Acc: 0.2857142984867096 - Test Acc: 0.20000001788139343\n",
      "Stats: err_h=1.0279097457833486 - err_H=142230.57511977968 - err_S=60.0 - losses[i,-1]=1.449946641921997\n",
      "************ Iteration 7 ***********Epoch 1/50 - Loss: 1.5335520505905151 - Train Acc: 0.20000000298023224 - Test Acc: 0.20000001788139343\n",
      "Stats: err_h=1.0331813450455571 - err_H=142114.2803499117 - err_S=60.0 - losses[i,-1]=1.3103954792022705\n",
      "************ Iteration 8 ***********Epoch 1/50 - Loss: 1.279969334602356 - Train Acc: 0.34285715222358704 - Test Acc: 0.46666669845581055\n",
      "Stats: err_h=1.0240126408472023 - err_H=138824.56320291068 - err_S=60.0 - losses[i,-1]=1.36501944065094\n",
      "************ Iteration 9 ***********Epoch 1/50 - Loss: 1.3921314477920532 - Train Acc: 0.2571428716182709 - Test Acc: 0.40000003576278687\n",
      "Stats: err_h=1.023889442119474 - err_H=144111.78067579094 - err_S=60.0 - losses[i,-1]=8.00412368774414\n",
      "************ Iteration 10 ***********Epoch 1/50 - Loss: 5.893845081329346 - Train Acc: 0.22857142984867096 - Test Acc: 0.20000001788139343\n",
      "Stats: err_h=1.0250451378808347 - err_H=141959.30290634604 - err_S=60.0 - losses[i,-1]=1.3259553909301758\n",
      "************ Iteration 11 ***********Epoch 1/50 - Loss: 1.4326821565628052 - Train Acc: 0.34285715222358704 - Test Acc: 0.3333333432674408\n",
      "Stats: err_h=1.027042557894807 - err_H=142023.5931782852 - err_S=60.0 - losses[i,-1]=1.3481277227401733\n",
      "************ Iteration 12 ***********Epoch 1/50 - Loss: 1.3443952798843384 - Train Acc: 0.2571428716182709 - Test Acc: 0.40000003576278687\n",
      "Stats: err_h=1.0180669908558646 - err_H=139357.95796505525 - err_S=60.0 - losses[i,-1]=2.1948111057281494\n",
      "************ Iteration 13 ***********Epoch 1/50 - Loss: 2.068178653717041 - Train Acc: 0.22857142984867096 - Test Acc: 0.20000001788139343\n",
      "Stats: err_h=1.0296628748397696 - err_H=151802.34528356369 - err_S=60.0 - losses[i,-1]=6.587463855743408\n",
      "************ Iteration 14 ***********Epoch 1/50 - Loss: 4.1858720779418945 - Train Acc: 0.2571428716182709 - Test Acc: 0.40000003576278687\n",
      "Stats: err_h=1.0186188527251308 - err_H=139294.88444872852 - err_S=60.0 - losses[i,-1]=1.4393303394317627\n",
      "************ Iteration 15 ***********Epoch 1/50 - Loss: 1.435734510421753 - Train Acc: 0.22857142984867096 - Test Acc: 0.20000001788139343\n",
      "Stats: err_h=1.0252475373232222 - err_H=141912.85778806114 - err_S=60.0 - losses[i,-1]=1.5999304056167603\n",
      "************ Iteration 16 ***********Epoch 1/50 - Loss: 1.2950913906097412 - Train Acc: 0.3142857253551483 - Test Acc: 0.46666669845581055\n",
      "Stats: err_h=1.034736825582462 - err_H=147107.30596793082 - err_S=59.9999011359833 - losses[i,-1]=1.4348430633544922\n",
      "************ Iteration 17 ***********Epoch 1/50 - Loss: 1.4910720586776733 - Train Acc: 0.22857142984867096 - Test Acc: 0.20000001788139343\n",
      "Stats: err_h=1.0317636579462095 - err_H=139101.37718077257 - err_S=60.0 - losses[i,-1]=2.4507291316986084\n",
      "************ Iteration 18 ***********Epoch 1/50 - Loss: 2.9283409118652344 - Train Acc: 0.22857142984867096 - Test Acc: 0.20000001788139343\n",
      "Stats: err_h=1.0501351232721077 - err_H=141075.7270691067 - err_S=60.0 - losses[i,-1]=1.1398042440414429\n",
      "************ Iteration 19 ***********Epoch 1/50 - Loss: 1.161418080329895 - Train Acc: 0.4571428596973419 - Test Acc: 0.46666669845581055\n",
      "Stats: err_h=1.042173104353944 - err_H=143327.8450275278 - err_S=60.0 - losses[i,-1]=1.5878962278366089\n",
      "************ Iteration 20 ***********Epoch 1/50 - Loss: 1.598070740699768 - Train Acc: 0.22857142984867096 - Test Acc: 0.20000001788139343\n",
      "Stats: err_h=1.0370953490060661 - err_H=139039.29777689045 - err_S=60.0 - losses[i,-1]=2.199178457260132\n",
      "************ Iteration 21 ***********Epoch 1/50 - Loss: 2.379835844039917 - Train Acc: 0.2857142984867096 - Test Acc: 0.20000001788139343\n",
      "Stats: err_h=1.0412792056571782 - err_H=142776.4351294842 - err_S=60.0 - losses[i,-1]=1.3551241159439087\n",
      "************ Iteration 22 ***********Epoch 1/50 - Loss: 1.3532358407974243 - Train Acc: 0.2571428716182709 - Test Acc: 0.40000003576278687\n",
      "Stats: err_h=1.0381978734056108 - err_H=139282.56875308682 - err_S=60.0 - losses[i,-1]=2.7384777069091797\n",
      "************ Iteration 23 ***********Epoch 1/50 - Loss: 2.1734678745269775 - Train Acc: 0.22857142984867096 - Test Acc: 0.20000001788139343\n",
      "Stats: err_h=1.0305773711137167 - err_H=142236.94134729216 - err_S=60.0 - losses[i,-1]=1.522766351699829\n",
      "************ Iteration 24 ***********Epoch 1/50 - Loss: 1.3565747737884521 - Train Acc: 0.37142857909202576 - Test Acc: 0.46666669845581055\n",
      "Stats: err_h=1.0320474489364924 - err_H=140276.2508290484 - err_S=60.0 - losses[i,-1]=1.362339973449707\n",
      "************ Iteration 25 ***********Epoch 1/50 - Loss: 1.3545985221862793 - Train Acc: 0.2857142984867096 - Test Acc: 0.20000001788139343\n",
      "Stats: err_h=1.0509861908700586 - err_H=141979.18530796326 - err_S=60.0 - losses[i,-1]=1.2604504823684692\n",
      "************ Iteration 26 ***********Epoch 1/50 - Loss: 1.2148633003234863 - Train Acc: 0.4285714328289032 - Test Acc: 0.6000000238418579\n",
      "Stats: err_h=1.05047466933462 - err_H=139969.59639518702 - err_S=60.0 - losses[i,-1]=1.3615666627883911\n",
      "************ Iteration 27 ***********Epoch 1/50 - Loss: 1.3607984781265259 - Train Acc: 0.3142857253551483 - Test Acc: 0.40000003576278687\n",
      "Stats: err_h=1.055143568887746 - err_H=141856.97449879683 - err_S=60.0 - losses[i,-1]=1.225251317024231\n",
      "************ Iteration 28 ***********Epoch 1/50 - Loss: 1.227936029434204 - Train Acc: 0.37142857909202576 - Test Acc: 0.5333333611488342\n",
      "Stats: err_h=1.0462531083410924 - err_H=138634.0133325573 - err_S=60.0 - losses[i,-1]=1.388226866722107\n",
      "************ Iteration 29 ***********Epoch 1/50 - Loss: 1.3988971710205078 - Train Acc: 0.2857142984867096 - Test Acc: 0.20000001788139343\n",
      "Stats: err_h=1.0273275547180774 - err_H=139225.25476071413 - err_S=60.0 - losses[i,-1]=1.2986658811569214\n"
     ]
    }
   ],
   "source": [
    "S_id = dataset.Sn.copy()\n",
    "\n",
    "gcn_model = arch.GCNCoefs(S_gcn, in_dim, hid_dim, out_dim, n_layers, L).to(device)\n",
    "model_gcn_robust = model.Model(gcn_model, n_epochs, lr, wd, eval_freq)\n",
    "\n",
    "acc_train = np.zeros((n_iters, n_epochs))\n",
    "acc_test = np.zeros((n_iters, n_epochs))\n",
    "losses = np.zeros((n_iters, n_epochs))\n",
    "\n",
    "for i in range(n_iters):\n",
    "    #print(\"**************************************\")\n",
    "    print(f\"************ Iteration {i} ***********\", end=\"\")\n",
    "    #print(\"**************************************\")\n",
    "\n",
    "    S_gcn = torch.Tensor(S_id).to(device)\n",
    "\n",
    "    gcn_model.update_Spow(S_gcn)\n",
    "    \n",
    "    # Filter estimation\n",
    "    #gcn_model = GCN(S_gcn, in_dim, hid_dim, out_dim, n_layers, K).to(device)\n",
    "    #gcn_model.h.data = h_id\n",
    "    acc_train[i,:], _, acc_test[i,:], losses[i,:] = model_gcn_robust.test_clas(S_ten, X, Y, gamma, dataset.train_mask, [], dataset.test_mask)\n",
    "\n",
    "    h_id = gcn_model.h.data\n",
    "    H_id = torch.sum(h_id[:,None,None]*gcn_model.Spow, 0).cpu().numpy()\n",
    "\n",
    "    #print(\"Graph identification\")\n",
    "    # Graph estimation\n",
    "    S_id = graph_id(dataset.Sn, H_id, dataset.Cy, lambd, gamma, delta)\n",
    "\n",
    "    err_h = ((dataset.h - h_id.cpu().numpy())**2).sum()\n",
    "    err_H = ((dataset.H - H_id)**2).sum()\n",
    "    err_S = ((dataset.S - S_id)**2).sum()\n",
    "    print(f\"Stats: {err_h=} - {err_H=} - {err_S=} - {losses[i,-1]=}\")\n",
    "    #print()"
   ]
  },
  {
   "cell_type": "code",
   "execution_count": null,
   "metadata": {},
   "outputs": [],
   "source": []
  }
 ],
 "metadata": {
  "kernelspec": {
   "display_name": "Python 3",
   "language": "python",
   "name": "python3"
  },
  "language_info": {
   "codemirror_mode": {
    "name": "ipython",
    "version": 3
   },
   "file_extension": ".py",
   "mimetype": "text/x-python",
   "name": "python",
   "nbconvert_exporter": "python",
   "pygments_lexer": "ipython3",
   "version": "3.8.10"
  },
  "orig_nbformat": 4,
  "vscode": {
   "interpreter": {
    "hash": "916dbcbb3f70747c44a77c7bcd40155683ae19c65e1c03b4aa3499c5328201f1"
   }
  }
 },
 "nbformat": 4,
 "nbformat_minor": 2
}
