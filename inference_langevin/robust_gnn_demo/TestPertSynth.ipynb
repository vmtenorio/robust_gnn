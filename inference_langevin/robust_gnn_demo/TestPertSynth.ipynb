{
 "cells": [
  {
   "cell_type": "code",
   "execution_count": 1,
   "metadata": {},
   "outputs": [],
   "source": [
    "import numpy as np\n",
    "import data\n",
    "\n",
    "import sys\n",
    "sys.path.append('../..')\n",
    "\n",
    "import torch\n",
    "import torch.nn as nn"
   ]
  },
  {
   "cell_type": "code",
   "execution_count": 2,
   "metadata": {},
   "outputs": [],
   "source": [
    "device = torch.device('cuda' if torch.cuda.is_available() else 'cpu')\n",
    "assert torch.cuda.is_available()"
   ]
  },
  {
   "cell_type": "code",
   "execution_count": 3,
   "metadata": {},
   "outputs": [],
   "source": [
    "class GFGCNLayer(nn.Module):\n",
    "    def __init__(self, in_dim, out_dim, K, bias=True):\n",
    "        super().__init__()\n",
    "        self.K = K\n",
    "        self.in_dim = in_dim\n",
    "        self.out_dim = out_dim\n",
    "        \n",
    "        self.W = nn.Parameter(torch.empty((self.K, self.in_dim, self.out_dim)))\n",
    "        torch.nn.init.kaiming_uniform_(self.W.data)\n",
    "\n",
    "        if bias:\n",
    "            self.b = nn.Parameter(torch.empty(self.out_dim))\n",
    "            torch.nn.init.constant_(self.b.data, 0.)\n",
    "        else:\n",
    "            self.b = None\n",
    "        \n",
    "    def forward(self, X, S):\n",
    "\n",
    "        M, Nin, Fin = X.shape\n",
    "        Ns = S.shape[0]\n",
    "        assert Nin == Ns\n",
    "        assert Fin == self.in_dim\n",
    "\n",
    "        X_out = X @ self.W[0,:,:]\n",
    "        Sx = X\n",
    "        for k in range(1, self.K):\n",
    "            Sx = S @ Sx\n",
    "            X_out += Sx @ self.W[k,:,:]\n",
    "\n",
    "        if self.b is not None:\n",
    "            return X_out + self.b[None,None,:]\n",
    "        else:\n",
    "            return X_out\n",
    "        \n",
    "\n",
    "class GFGCN(nn.Module):\n",
    "    def __init__(self, S, in_dim, hid_dim, out_dim, n_layers, K, bias=True,\n",
    "                 act=nn.ReLU, last_act=nn.Identity, dropout=0,\n",
    "                 diff_layer=GFGCNLayer, norm_S=False, batch_norm=False):\n",
    "        super().__init__()\n",
    "        self.S = nn.Parameter(S)\n",
    "        self.act = act()\n",
    "        self.last_act = last_act()\n",
    "        self.dropout = nn.Dropout(p=dropout)\n",
    "        self.n_layers = n_layers\n",
    "        self.bias = bias\n",
    "\n",
    "        self.batch_norm = batch_norm\n",
    "        if self.batch_norm:\n",
    "            self.batch_norm_layers = nn.ModuleList()\n",
    "\n",
    "        if norm_S:\n",
    "            self.normalize_S()\n",
    "\n",
    "        self.convs = nn.ModuleList()\n",
    "        if n_layers > 1:\n",
    "            self.convs.append(diff_layer(in_dim, hid_dim, K, bias))\n",
    "            if self.batch_norm:\n",
    "                self.batch_norm_layers.append(nn.BatchNorm1d(hid_dim))\n",
    "            for _ in range(n_layers - 2):\n",
    "                self.convs.append(diff_layer(hid_dim, hid_dim, K, bias))\n",
    "                if self.batch_norm:\n",
    "                    self.batch_norm_layers.append(nn.BatchNorm1d(hid_dim))\n",
    "            self.convs.append(diff_layer(hid_dim, out_dim, K, bias))\n",
    "        else:\n",
    "            self.convs.append(diff_layer(in_dim, out_dim, K, bias))\n",
    "\n",
    "    def forward(self, X):\n",
    "        for i in range(self.n_layers - 1):\n",
    "            X = self.convs[i](X, self.S)\n",
    "            X = self.act(X)\n",
    "            if self.batch_norm:\n",
    "                X = self.batch_norm_layers[i](X)\n",
    "            X = self.dropout(X)\n",
    "        X = self.convs[-1](X, self.S)\n",
    "        return self.last_act(X)\n",
    "    \n",
    "    def normalize_S(self):\n",
    "        unnorm_S = self.S.data.clone()\n",
    "        d = unnorm_S.sum(1)\n",
    "        D_inv = torch.diag(torch.sqrt(1/d))\n",
    "        D_inv[torch.isinf(D_inv)] = 0.\n",
    "\n",
    "        S_norm = D_inv @ unnorm_S @ D_inv\n",
    "\n",
    "        self.S.data = S_norm\n",
    "\n",
    "    def update_S(self, newS, normalize=True):\n",
    "        self.S.data = newS\n",
    "        if normalize:\n",
    "            self.normalize_S()"
   ]
  },
  {
   "cell_type": "code",
   "execution_count": 4,
   "metadata": {},
   "outputs": [],
   "source": [
    "def test(model, x, y, train_idx, val_idx, test_idx, lr, wd, n_epochs, es_patience=-1, eval_freq=4, verbose=False):\n",
    "    opt = torch.optim.Adam(model.parameters(), lr=lr, weight_decay=wd)\n",
    "\n",
    "    loss_fn = nn.MSELoss()\n",
    "\n",
    "    loss_train, loss_val, loss_test = [np.zeros(n_epochs) for _ in range(3)]\n",
    "\n",
    "    best_val_loss = np.inf\n",
    "    best_test_loss = 0\n",
    "    es_count = 0\n",
    "\n",
    "    for i in range(n_epochs):\n",
    "        yhat = model(x)\n",
    "        loss = loss_fn(yhat[train_idx,:,:], y[train_idx,:,:])\n",
    "\n",
    "        opt.zero_grad()\n",
    "        loss.backward()\n",
    "        opt.step()\n",
    "\n",
    "        loss_train[i] = loss.item()\n",
    "        loss_val[i] = ((yhat[val_idx,:,:] - y[val_idx,:,:])**2).mean().item()\n",
    "        loss_test[i] = ((yhat[test_idx,:,:] - y[test_idx,:,:])**2).mean().item()\n",
    "\n",
    "        if loss_val[i] < best_val_loss:\n",
    "            es_count = 0\n",
    "            best_val_loss = loss_val[i]\n",
    "            best_test_loss = loss_test[i]\n",
    "        else:\n",
    "            es_count += 1\n",
    "\n",
    "        if es_patience > 0 and es_count > es_patience:\n",
    "            break\n",
    "\n",
    "        if (i == 0 or (i+1) % eval_freq == 0) and verbose:\n",
    "            print(f\"Epoch {i+1}/{n_epochs} - Train Loss: {loss_train[i]} - Val Loss: {loss_val[i]} - Test Loss: {loss_test[i]}\", flush=True)\n",
    "\n",
    "    return loss_train, loss_val, loss_test, best_val_loss, best_test_loss"
   ]
  },
  {
   "cell_type": "markdown",
   "metadata": {},
   "source": [
    "# Data Generation"
   ]
  },
  {
   "cell_type": "code",
   "execution_count": 5,
   "metadata": {},
   "outputs": [],
   "source": [
    "N = 20\n",
    "p_er = 0.2\n",
    "g_params = {'type': data.ER, 'p': p_er}\n",
    "norm_S = False\n",
    "norm_H = False\n",
    "sort_h = False\n",
    "neg_coefs = False\n",
    "exp_coefs = True\n",
    "pert_type = \"rewire\"\n",
    "\n",
    "M = 100\n",
    "p_n = 0.05\n",
    "eps = 0.15\n",
    "K = 3"
   ]
  },
  {
   "cell_type": "code",
   "execution_count": 6,
   "metadata": {},
   "outputs": [],
   "source": [
    "X, Y, Cy, Cy_samp, H, S, Sn, h = data.gen_data(N, M, g_params, p_n, eps, K, neg_coefs=neg_coefs, exp_coefs=exp_coefs, sort_h=sort_h, norm_S=norm_S, norm_H=norm_H, pert_type=pert_type)"
   ]
  },
  {
   "cell_type": "code",
   "execution_count": 7,
   "metadata": {},
   "outputs": [
    {
     "data": {
      "text/plain": [
       "(20, 100)"
      ]
     },
     "execution_count": 7,
     "metadata": {},
     "output_type": "execute_result"
    }
   ],
   "source": [
    "X.shape"
   ]
  },
  {
   "cell_type": "code",
   "execution_count": 90,
   "metadata": {},
   "outputs": [],
   "source": [
    "X = torch.tensor(X).to(device).T[:,:,None].double()\n",
    "Y = torch.tensor(Y).to(device).T[:,:,None].double()\n",
    "S = torch.tensor(S).to(device).double()\n",
    "Sn = torch.tensor(Sn).to(device).double()"
   ]
  },
  {
   "cell_type": "code",
   "execution_count": 91,
   "metadata": {},
   "outputs": [
    {
     "data": {
      "text/plain": [
       "(torch.Size([100, 20, 1]), torch.Size([100, 20, 1]), torch.Size([20, 20]))"
      ]
     },
     "execution_count": 91,
     "metadata": {},
     "output_type": "execute_result"
    }
   ],
   "source": [
    "X.shape, Y.shape, S.shape"
   ]
  },
  {
   "cell_type": "markdown",
   "metadata": {},
   "source": [
    "# Model Training"
   ]
  },
  {
   "cell_type": "code",
   "execution_count": 92,
   "metadata": {},
   "outputs": [],
   "source": [
    "in_dim = 1\n",
    "out_dim = 1\n",
    "\n",
    "hid_dim = 32\n",
    "n_layers = 2\n",
    "K = 3\n",
    "bias = True\n",
    "act = torch.nn.Tanh\n",
    "\n",
    "lr = 1e-2\n",
    "wd = 1e-4\n",
    "n_epochs = 500"
   ]
  },
  {
   "cell_type": "code",
   "execution_count": 93,
   "metadata": {},
   "outputs": [],
   "source": [
    "idxs_y_split = torch.randperm(M)\n",
    "N_train = 0.7\n",
    "N_val = 0.15\n",
    "train_idx = idxs_y_split[:int(N_train*M)]\n",
    "val_idx = idxs_y_split[int(N_train*M):int((N_train+N_val)*M)]\n",
    "test_idx = idxs_y_split[int((N_train+N_val)*M):]"
   ]
  },
  {
   "cell_type": "code",
   "execution_count": 94,
   "metadata": {},
   "outputs": [
    {
     "name": "stdout",
     "output_type": "stream",
     "text": [
      "Epoch 1/500 - Train Loss: 14.716885419510078 - Val Loss: 12.172661821195234 - Test Loss: 13.693088228611755\n",
      "Epoch 50/500 - Train Loss: 0.04845674391158521 - Val Loss: 0.05301850527453475 - Test Loss: 0.053644490122731155\n",
      "Epoch 100/500 - Train Loss: 0.013789679218649457 - Val Loss: 0.012234853194323868 - Test Loss: 0.01431288094242515\n",
      "Epoch 150/500 - Train Loss: 0.010965155282549505 - Val Loss: 0.009714982362643463 - Test Loss: 0.011245131417042049\n",
      "Epoch 200/500 - Train Loss: 0.009552327640429703 - Val Loss: 0.00861213496706978 - Test Loss: 0.009770074794312779\n",
      "Epoch 250/500 - Train Loss: 0.008678425185825641 - Val Loss: 0.007886297216585418 - Test Loss: 0.008917052065138733\n",
      "Epoch 300/500 - Train Loss: 0.00808688892751657 - Val Loss: 0.0073719484707560675 - Test Loss: 0.008381188339429144\n",
      "Epoch 350/500 - Train Loss: 0.007647799430133933 - Val Loss: 0.006988183914329772 - Test Loss: 0.008009234523994813\n",
      "Epoch 400/500 - Train Loss: 0.007287727521786562 - Val Loss: 0.006686127128927363 - Test Loss: 0.007719761727193842\n",
      "Epoch 450/500 - Train Loss: 0.006962723750736002 - Val Loss: 0.006434333466937511 - Test Loss: 0.007466957009431625\n",
      "Epoch 500/500 - Train Loss: 0.006645782830523991 - Val Loss: 0.0062134814351529006 - Test Loss: 0.007223584485608328\n"
     ]
    }
   ],
   "source": [
    "# With real GSO S\n",
    "model = GFGCN(S, in_dim, hid_dim, out_dim, n_layers, K, bias=bias, act=act).double().to(device)\n",
    "\n",
    "loss_train, loss_val, loss_test, best_val_loss, best_test_loss = test(model, X, Y, train_idx, val_idx, test_idx, lr, wd, n_epochs, eval_freq=50, verbose=True)"
   ]
  },
  {
   "cell_type": "code",
   "execution_count": 95,
   "metadata": {},
   "outputs": [
    {
     "name": "stdout",
     "output_type": "stream",
     "text": [
      "Epoch 1/500 - Train Loss: 12.8922449088904 - Val Loss: 9.138939127694407 - Test Loss: 11.6262453259054\n",
      "Epoch 50/500 - Train Loss: 0.03356696901248965 - Val Loss: 0.037114170538351095 - Test Loss: 0.036218435914282324\n",
      "Epoch 100/500 - Train Loss: 0.019009697347684224 - Val Loss: 0.017774511704326503 - Test Loss: 0.02154127826278645\n",
      "Epoch 150/500 - Train Loss: 0.01398738899702521 - Val Loss: 0.013793964944039831 - Test Loss: 0.01650746544723771\n",
      "Epoch 200/500 - Train Loss: 0.011289457358817843 - Val Loss: 0.011408520096213388 - Test Loss: 0.013713567660810132\n",
      "Epoch 250/500 - Train Loss: 0.0097884022055602 - Val Loss: 0.009958786926620267 - Test Loss: 0.012091854980349846\n",
      "Epoch 300/500 - Train Loss: 0.008923553652442443 - Val Loss: 0.009066971133605781 - Test Loss: 0.011121278313889095\n",
      "Epoch 350/500 - Train Loss: 0.008373740098260581 - Val Loss: 0.008488341469980142 - Test Loss: 0.010493514566580124\n",
      "Epoch 400/500 - Train Loss: 0.007964413176521494 - Val Loss: 0.008071658004682528 - Test Loss: 0.010035532621533156\n",
      "Epoch 450/500 - Train Loss: 0.007610797299929583 - Val Loss: 0.0077363627215401515 - Test Loss: 0.009657823230063464\n",
      "Epoch 500/500 - Train Loss: 0.007275356513339355 - Val Loss: 0.007442855665972913 - Test Loss: 0.009315953211377135\n"
     ]
    }
   ],
   "source": [
    "# With perturbed GSO Sn\n",
    "model = GFGCN(Sn, in_dim, hid_dim, out_dim, n_layers, K, bias=bias, act=act).double().to(device)\n",
    "\n",
    "loss_train, loss_val, loss_test, best_val_loss, best_test_loss = test(model, X, Y, train_idx, val_idx, test_idx, lr, wd, n_epochs, eval_freq=50, verbose=True)"
   ]
  },
  {
   "cell_type": "markdown",
   "metadata": {},
   "source": [
    "# Exhaustive"
   ]
  },
  {
   "cell_type": "code",
   "execution_count": 96,
   "metadata": {},
   "outputs": [
    {
     "name": "stdout",
     "output_type": "stream",
     "text": [
      "1 "
     ]
    },
    {
     "name": "stdout",
     "output_type": "stream",
     "text": [
      "2 3 4 5 6 7 8 9 10 11 12 13 14 15 16 17 18 19 20 21 22 23 24 25 "
     ]
    }
   ],
   "source": [
    "n_graphs = 25\n",
    "\n",
    "loss_test_pertless = np.zeros(n_graphs)\n",
    "loss_test_pert = np.zeros(n_graphs)\n",
    "\n",
    "for g in range(n_graphs):\n",
    "    print(f\"{g+1} \", end=\"\")\n",
    "    X, Y, Cy, Cy_samp, H, S, Sn, h = data.gen_data(N, M, g_params, p_n, eps, K, neg_coefs=neg_coefs, exp_coefs=exp_coefs, sort_h=sort_h, norm_S=norm_S, norm_H=norm_H, pert_type=pert_type)\n",
    "\n",
    "    X = torch.tensor(X).to(device).T[:,:,None].double()\n",
    "    Y = torch.tensor(Y).to(device).T[:,:,None].double()\n",
    "    S = torch.tensor(S).to(device).double()\n",
    "    Sn = torch.tensor(Sn).to(device).double()\n",
    "\n",
    "    idxs_y_split = torch.randperm(M)\n",
    "    N_train = 0.7\n",
    "    N_val = 0.15\n",
    "    train_idx = idxs_y_split[:int(N_train*M)]\n",
    "    val_idx = idxs_y_split[int(N_train*M):int((N_train+N_val)*M)]\n",
    "    test_idx = idxs_y_split[int((N_train+N_val)*M):]\n",
    "\n",
    "    # With real GSO S\n",
    "    model = GFGCN(S, in_dim, hid_dim, out_dim, n_layers, K, bias=bias, act=act).double().to(device)\n",
    "\n",
    "    loss_train, loss_val, loss_test, best_val_loss, loss_test_pertless[g] = test(model, X, Y, train_idx, val_idx, test_idx, lr, wd, n_epochs, eval_freq=50, verbose=False)\n",
    "\n",
    "    model = GFGCN(Sn, in_dim, hid_dim, out_dim, n_layers, K, bias=bias, act=act).double().to(device)\n",
    "\n",
    "    loss_train, loss_val, loss_test, best_val_loss, loss_test_pert[g] = test(model, X, Y, train_idx, val_idx, test_idx, lr, wd, n_epochs, eval_freq=50, verbose=False)"
   ]
  },
  {
   "cell_type": "code",
   "execution_count": 97,
   "metadata": {},
   "outputs": [],
   "source": [
    "import matplotlib.pyplot as plt"
   ]
  },
  {
   "cell_type": "code",
   "execution_count": 98,
   "metadata": {},
   "outputs": [
    {
     "data": {
      "text/plain": [
       "([<matplotlib.axis.XTick at 0x7f0f0c2e0d00>,\n",
       "  <matplotlib.axis.XTick at 0x7f0f0c2f7a00>],\n",
       " [Text(1, 0, 'With Perturbations'), Text(2, 0, 'Without Perturbations')])"
      ]
     },
     "execution_count": 98,
     "metadata": {},
     "output_type": "execute_result"
    },
    {
     "data": {
      "image/png": "[encoded data removed]",
      "text/plain": [
       "<Figure size 640x480 with 1 Axes>"
      ]
     },
     "metadata": {},
     "output_type": "display_data"
    }
   ],
   "source": [
    "plt.boxplot([loss_test_pert, loss_test_pertless])\n",
    "plt.xticks(np.arange(1,3), [\"With Perturbations\", \"Without Perturbations\"])"
   ]
  },
  {
   "cell_type": "code",
   "execution_count": null,
   "metadata": {},
   "outputs": [],
   "source": []
  }
 ],
 "metadata": {
  "kernelspec": {
   "display_name": "Python 3",
   "language": "python",
   "name": "python3"
  },
  "language_info": {
   "codemirror_mode": {
    "name": "ipython",
    "version": 3
   },
   "file_extension": ".py",
   "mimetype": "text/x-python",
   "name": "python",
   "nbconvert_exporter": "python",
   "pygments_lexer": "ipython3",
   "version": "3.8.10"
  }
 },
 "nbformat": 4,
 "nbformat_minor": 2
}
